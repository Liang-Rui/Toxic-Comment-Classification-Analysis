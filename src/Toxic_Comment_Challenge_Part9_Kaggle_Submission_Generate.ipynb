{
 "cells": [
  {
   "cell_type": "code",
   "execution_count": 1,
   "metadata": {},
   "outputs": [
    {
     "name": "stdout",
     "output_type": "stream",
     "text": [
      "Populating the interactive namespace from numpy and matplotlib\n"
     ]
    }
   ],
   "source": [
    "%pylab inline\n",
    "import pandas as pd\n",
    "import numpy as np\n",
    "import matplotlib.pyplot as plt\n",
    "import seaborn as sns\n",
    "from sklearn.model_selection import cross_validate\n",
    "from sklearn.naive_bayes import MultinomialNB\n",
    "from sklearn.feature_extraction.text import TfidfVectorizer\n",
    "from sklearn.pipeline import make_pipeline\n",
    "from sklearn.feature_extraction.text import CountVectorizer\n",
    "from sklearn.metrics import roc_curve, auc\n",
    "from sklearn.metrics import classification_report\n",
    "\n",
    "from sklearn.tree import DecisionTreeClassifier\n",
    "from sklearn.linear_model import LogisticRegression\n",
    "from sklearn.svm import LinearSVC\n",
    "from sklearn.calibration import CalibratedClassifierCV\n",
    "from sklearn.ensemble import RandomForestClassifier\n",
    "from sklearn.ensemble import AdaBoostClassifier\n",
    "\n",
    "\n",
    "plt.rcParams['figure.dpi']= 150\n",
    "sns.set(style=\"whitegrid\")"
   ]
  },
  {
   "cell_type": "code",
   "execution_count": 2,
   "metadata": {},
   "outputs": [],
   "source": [
    "# Read raw training data\n",
    "data = pd.read_csv(\"cleaned_train_data.csv\")\n",
    "kaggle_test = pd.read_csv(\"cleaned_test_data.csv\")\n",
    "categories = ['toxic', 'severe_toxic', 'obscene', 'threat', 'insult', 'identity_hate']"
   ]
  },
  {
   "cell_type": "markdown",
   "metadata": {},
   "source": [
    "# Naive Bayes 0.91951"
   ]
  },
  {
   "cell_type": "code",
   "execution_count": 4,
   "metadata": {},
   "outputs": [
    {
     "name": "stdout",
     "output_type": "stream",
     "text": [
      "X_train_all_vec.shape:  (159571, 59188)\n",
      "X_test_kaggle_vec.shape:  (153164, 59188)\n"
     ]
    }
   ],
   "source": [
    "X_train_all = data.comment_text.values\n",
    "X_test_kaggle = kaggle_test.comment_text.fillna(\"UNK\").values\n",
    "# Initialise CountVectorizer and fit all the training data\n",
    "count_vect = CountVectorizer(stop_words=\"english\")\n",
    "X_train_all_vec = count_vect.fit_transform(X_train_all)\n",
    "print('X_train_all_vec.shape: ', X_train_all_vec.shape)\n",
    "\n",
    "X_test_kaggle_vec = count_vect.transform(X_test_kaggle)\n",
    "print('X_test_kaggle_vec.shape: ', X_test_kaggle_vec.shape)"
   ]
  },
  {
   "cell_type": "code",
   "execution_count": 26,
   "metadata": {},
   "outputs": [],
   "source": [
    "test_output = pd.DataFrame()\n",
    "for category in categories:\n",
    "    clf = MultinomialNB().fit(X_train_all_vec, data[category])\n",
    "    predictProbs = clf.predict_proba(X_test_kaggle_vec)\n",
    "    predictProbs = predictProbs[:, 1]\n",
    "    test_output[category] = predictProbs\n",
    "\n",
    "test_output = pd.concat([kaggle_test[\"id\"], test_output], axis=1)\n",
    "test_output.to_csv(\"naive_bayes_submission.csv\", index = False)\n",
    "        "
   ]
  },
  {
   "cell_type": "markdown",
   "metadata": {},
   "source": [
    "# Decision Tree 0.84331"
   ]
  },
  {
   "cell_type": "code",
   "execution_count": 31,
   "metadata": {},
   "outputs": [
    {
     "name": "stdout",
     "output_type": "stream",
     "text": [
      "X_train_all_vec.shape:  (159571, 59188)\n",
      "X_test_kaggle_vec.shape:  (153164, 59188)\n"
     ]
    }
   ],
   "source": [
    "X_train_all = data.comment_text.values\n",
    "X_test_kaggle = kaggle_test.comment_text.fillna(\"UNK\").values\n",
    "\n",
    "# Initialise CountVectorizer and fit all the training data\n",
    "tfidf_vect = TfidfVectorizer(stop_words=\"english\")\n",
    "X_train_all_vec = tfidf_vect.fit_transform(X_train_all)\n",
    "print('X_train_all_vec.shape: ', X_train_all_vec.shape)\n",
    "\n",
    "X_test_kaggle_vec = tfidf_vect.transform(X_test_kaggle)\n",
    "print('X_test_kaggle_vec.shape: ', X_test_kaggle_vec.shape)"
   ]
  },
  {
   "cell_type": "code",
   "execution_count": 32,
   "metadata": {},
   "outputs": [],
   "source": [
    "category_dep = {'toxic': 63, 'severe_toxic': 6, 'obscene': 20, 'threat': 7, 'insult': 15, 'identity_hate': 6}\n",
    "\n",
    "test_output = pd.DataFrame()\n",
    "for category in categories:\n",
    "    clf = DecisionTreeClassifier(criterion=\"entropy\", max_depth=category_dep[category]).fit(X_train_all_vec, data[category])\n",
    "    predictProbs = clf.predict_proba(X_test_kaggle_vec)\n",
    "    predictProbs = predictProbs[:, 1]\n",
    "    test_output[category] = predictProbs\n",
    "\n",
    "test_output = pd.concat([kaggle_test[\"id\"], test_output], axis=1)\n",
    "test_output.to_csv(\"decision_tree_submission.csv\", index = False)"
   ]
  },
  {
   "cell_type": "markdown",
   "metadata": {},
   "source": [
    "# Logistic Regression 0.97452"
   ]
  },
  {
   "cell_type": "code",
   "execution_count": 5,
   "metadata": {},
   "outputs": [
    {
     "name": "stdout",
     "output_type": "stream",
     "text": [
      "X_train_all_vec.shape:  (159571, 59188)\n",
      "X_test_kaggle_vec.shape:  (153164, 59188)\n"
     ]
    }
   ],
   "source": [
    "X_train_all = data.comment_text.values\n",
    "X_test_kaggle = kaggle_test.comment_text.fillna(\"UNK\").values\n",
    "\n",
    "tfidf_vect = TfidfVectorizer(stop_words=\"english\")\n",
    "X_train_all_vec = tfidf_vect.fit_transform(X_train_all)\n",
    "print('X_train_all_vec.shape: ', X_train_all_vec.shape)\n",
    "\n",
    "X_test_kaggle_vec = tfidf_vect.transform(X_test_kaggle)\n",
    "print('X_test_kaggle_vec.shape: ', X_test_kaggle_vec.shape)"
   ]
  },
  {
   "cell_type": "code",
   "execution_count": 6,
   "metadata": {},
   "outputs": [],
   "source": [
    "categories = {'toxic': 4, 'severe_toxic': 0.4, 'obscene': 4, 'threat': 10, 'insult': 4, 'identity_hate': 4}\n",
    "categoryName = ['toxic', 'severe_toxic', 'obscene', 'threat', 'insult', 'identity_hate']"
   ]
  },
  {
   "cell_type": "code",
   "execution_count": 9,
   "metadata": {},
   "outputs": [],
   "source": [
    "test_output = pd.DataFrame()\n",
    "for category in categories:\n",
    "    clf = LogisticRegression(dual=True, C=categories[category], solver=\"liblinear\").fit(X_train_all_vec, data[category])\n",
    "    predictProbs = clf.predict_proba(X_test_kaggle_vec)\n",
    "    predictProbs = predictProbs[:, 1]\n",
    "    test_output[category] = predictProbs\n",
    "test_output = pd.concat([kaggle_test[\"id\"], test_output], axis=1)\n",
    "test_output.to_csv(\"LR_submission.csv\", index = False)"
   ]
  },
  {
   "cell_type": "markdown",
   "metadata": {},
   "source": [
    "# SVM 0.97700"
   ]
  },
  {
   "cell_type": "code",
   "execution_count": 41,
   "metadata": {},
   "outputs": [
    {
     "name": "stdout",
     "output_type": "stream",
     "text": [
      "X_train_all_vec.shape:  (159571, 59188)\n",
      "X_test_kaggle_vec.shape:  (153164, 59188)\n"
     ]
    }
   ],
   "source": [
    "X_train_all = data.comment_text.values\n",
    "X_test_kaggle = kaggle_test.comment_text.fillna(\"UNK\").values\n",
    "\n",
    "# Initialise TfidfVectorizer and fit all the training data\n",
    "tfidf_vect = TfidfVectorizer(stop_words=\"english\")\n",
    "X_train_all_vec = tfidf_vect.fit_transform(X_train_all)\n",
    "print('X_train_all_vec.shape: ', X_train_all_vec.shape)\n",
    "\n",
    "X_test_kaggle_vec = tfidf_vect.transform(X_test_kaggle)\n",
    "print('X_test_kaggle_vec.shape: ', X_test_kaggle_vec.shape)"
   ]
  },
  {
   "cell_type": "code",
   "execution_count": 14,
   "metadata": {},
   "outputs": [],
   "source": [
    "test_output = pd.DataFrame()\n",
    "for category in categories:\n",
    "    clf = CalibratedClassifierCV(LinearSVC(C=0.1), cv=10).fit(X_train_all_vec, data[category])\n",
    "    predictProbs = clf.predict_proba(X_test_kaggle_vec)\n",
    "    predictProbs = predictProbs[:, 1]\n",
    "    test_output[category] = predictProbs\n",
    "    \n",
    "test_output = pd.concat([kaggle_test[\"id\"], test_output], axis=1)\n",
    "test_output.to_csv(\"SVM_submission.csv\", index = False)\n"
   ]
  },
  {
   "cell_type": "markdown",
   "metadata": {},
   "source": [
    "# Random Forest 0.93086"
   ]
  },
  {
   "cell_type": "code",
   "execution_count": 44,
   "metadata": {},
   "outputs": [
    {
     "name": "stdout",
     "output_type": "stream",
     "text": [
      "X_train_all_vec.shape:  (159571, 59188)\n",
      "X_test_kaggle_vec.shape:  (153164, 59188)\n"
     ]
    }
   ],
   "source": [
    "X_train_all = data.comment_text.values\n",
    "X_test_kaggle = kaggle_test.comment_text.fillna(\"UNK\").values\n",
    "\n",
    "# Initialise CountVectorizer and fit all the training data\n",
    "tfidf_vect = TfidfVectorizer(stop_words=\"english\")\n",
    "X_train_all_vec = tfidf_vect.fit_transform(X_train_all)\n",
    "print('X_train_all_vec.shape: ', X_train_all_vec.shape)\n",
    "\n",
    "X_test_kaggle_vec = tfidf_vect.transform(X_test_kaggle)\n",
    "print('X_test_kaggle_vec.shape: ', X_test_kaggle_vec.shape)"
   ]
  },
  {
   "cell_type": "code",
   "execution_count": 50,
   "metadata": {},
   "outputs": [],
   "source": [
    "category_dep = {'toxic': 35, 'severe_toxic': 10, 'obscene': 15, 'threat': 10, 'insult': 35, 'identity_hate': 15}\n",
    "\n",
    "test_output = None\n",
    "test_output = pd.DataFrame()\n",
    "for category in categories:\n",
    "    clf = RandomForestClassifier(criterion=\"entropy\", n_estimators=category_dep[category]).fit(X_train_all_vec, data[category])\n",
    "    predictProbs = clf.predict_proba(X_test_kaggle_vec)\n",
    "    predictProbs = predictProbs[:, 1]\n",
    "    test_output[category] = predictProbs\n",
    "    \n",
    "test_output = pd.concat([kaggle_test[\"id\"], test_output], axis=1)\n",
    "test_output.to_csv(\"random_forest_submission.csv\", index = False)"
   ]
  },
  {
   "cell_type": "markdown",
   "metadata": {},
   "source": [
    "# Boosting 0.95259"
   ]
  },
  {
   "cell_type": "code",
   "execution_count": 3,
   "metadata": {},
   "outputs": [
    {
     "name": "stdout",
     "output_type": "stream",
     "text": [
      "X_train_all_vec.shape:  (159571, 59188)\n",
      "X_test_kaggle_vec.shape:  (153164, 59188)\n"
     ]
    }
   ],
   "source": [
    "X_train_all = data.comment_text.values\n",
    "X_test_kaggle = kaggle_test.comment_text.fillna(\"UNK\").values\n",
    "\n",
    "# Initialise CountVectorizer and fit all the training data\n",
    "tfidf_vect = TfidfVectorizer(stop_words=\"english\")\n",
    "X_train_all_vec = tfidf_vect.fit_transform(X_train_all)\n",
    "print('X_train_all_vec.shape: ', X_train_all_vec.shape)\n",
    "\n",
    "X_test_kaggle_vec = tfidf_vect.transform(X_test_kaggle)\n",
    "print('X_test_kaggle_vec.shape: ', X_test_kaggle_vec.shape)"
   ]
  },
  {
   "cell_type": "code",
   "execution_count": 4,
   "metadata": {},
   "outputs": [],
   "source": [
    "category_dep = {'toxic': 300, 'severe_toxic': 150, 'obscene': 225, 'threat': 50, 'insult': 250, 'identity_hate': 450}\n",
    "\n",
    "test_output = None\n",
    "test_output = pd.DataFrame()\n",
    "for category in categories:\n",
    "    clf = AdaBoostClassifier(n_estimators=category_dep[category]).fit(X_train_all_vec, data[category])\n",
    "    predictProbs = clf.predict_proba(X_test_kaggle_vec)\n",
    "    predictProbs = predictProbs[:, 1]\n",
    "    test_output[category] = predictProbs\n",
    "    \n",
    "test_output = pd.concat([kaggle_test[\"id\"], test_output], axis=1)\n",
    "test_output.to_csv(\"boosting_submission.csv\", index = False)"
   ]
  },
  {
   "cell_type": "code",
   "execution_count": null,
   "metadata": {},
   "outputs": [],
   "source": []
  }
 ],
 "metadata": {
  "kernelspec": {
   "display_name": "Python 3",
   "language": "python",
   "name": "python3"
  },
  "language_info": {
   "codemirror_mode": {
    "name": "ipython",
    "version": 3
   },
   "file_extension": ".py",
   "mimetype": "text/x-python",
   "name": "python",
   "nbconvert_exporter": "python",
   "pygments_lexer": "ipython3",
   "version": "3.7.2"
  }
 },
 "nbformat": 4,
 "nbformat_minor": 2
}
