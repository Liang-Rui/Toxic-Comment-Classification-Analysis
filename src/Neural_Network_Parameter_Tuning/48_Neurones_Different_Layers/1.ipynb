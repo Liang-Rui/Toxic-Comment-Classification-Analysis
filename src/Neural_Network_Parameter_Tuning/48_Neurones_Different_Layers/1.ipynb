{
  "nbformat": 4,
  "nbformat_minor": 0,
  "metadata": {
    "colab": {
      "name": "Copy of Copy of Copy of Toxic_Comment_Challenge_Part8_Neural_Network.ipynb",
      "version": "0.3.2",
      "provenance": [],
      "collapsed_sections": [],
      "machine_shape": "hm"
    },
    "kernelspec": {
      "name": "python3",
      "display_name": "Python 3"
    },
    "accelerator": "GPU"
  },
  "cells": [
    {
      "cell_type": "code",
      "metadata": {
        "id": "0YRIbWdC2T1W",
        "colab_type": "code",
        "outputId": "0b51e729-45bf-411d-81b9-08637285a5fb",
        "colab": {
          "base_uri": "https://localhost:8080/",
          "height": 35
        }
      },
      "source": [
        "from google.colab import drive\n",
        "drive.mount('/content/drive')"
      ],
      "execution_count": 12,
      "outputs": [
        {
          "output_type": "stream",
          "text": [
            "Drive already mounted at /content/drive; to attempt to forcibly remount, call drive.mount(\"/content/drive\", force_remount=True).\n"
          ],
          "name": "stdout"
        }
      ]
    },
    {
      "cell_type": "code",
      "metadata": {
        "id": "tIzTotfzAX39",
        "colab_type": "code",
        "outputId": "083b75bc-5f78-401a-c7d3-1111e473fb3d",
        "colab": {
          "base_uri": "https://localhost:8080/",
          "height": 35
        }
      },
      "source": [
        "import keras\n",
        "import tensorflow as tf\n",
        "from sklearn.feature_extraction.text import TfidfVectorizer\n",
        "from sklearn.model_selection import train_test_split\n",
        "import pandas as pd\n",
        "import numpy as np\n",
        "import matplotlib.pyplot as plt\n",
        "import seaborn as sns\n",
        "from sklearn.metrics import classification_report\n",
        "from sklearn.metrics import roc_curve, auc\n",
        "\n",
        "plt.rcParams['figure.dpi']= 150\n",
        "sns.set(style=\"whitegrid\")\n",
        "tf.test.is_gpu_available()"
      ],
      "execution_count": 13,
      "outputs": [
        {
          "output_type": "execute_result",
          "data": {
            "text/plain": [
              "True"
            ]
          },
          "metadata": {
            "tags": []
          },
          "execution_count": 13
        }
      ]
    },
    {
      "cell_type": "code",
      "metadata": {
        "id": "sg2h76HtAX9i",
        "colab_type": "code",
        "outputId": "80925f82-82d1-4325-b6dc-96833085b82d",
        "colab": {
          "base_uri": "https://localhost:8080/",
          "height": 52
        }
      },
      "source": [
        "# Read cleaned training data\n",
        "data = pd.read_csv(\"drive/My Drive/Colab Notebooks/cleaned_train_data.csv\")\n",
        "\n",
        "# It is better to choose random_state=42\n",
        "# Split training data into 70% training data and 20% validation data, 10% test data\n",
        "train, testValidation = train_test_split(data, test_size=0.3, random_state=42, shuffle=True)\n",
        "test, validation = train_test_split(testValidation, test_size=0.66, random_state=42, shuffle=True)\n",
        "categories = ['toxic', 'severe_toxic', 'obscene', 'threat', 'insult', 'identity_hate']\n",
        "print(\"train.shape: \", train.shape)\n",
        "print(\"test.shape: \", test.shape)\n",
        "\n",
        "X_train = train.comment_text\n",
        "X_validation = validation.comment_text\n",
        "Y_train = train[categories]\n",
        "Y_validation = validation[categories]"
      ],
      "execution_count": 14,
      "outputs": [
        {
          "output_type": "stream",
          "text": [
            "train.shape:  (111699, 8)\n",
            "test.shape:  (16276, 8)\n"
          ],
          "name": "stdout"
        }
      ]
    },
    {
      "cell_type": "code",
      "metadata": {
        "id": "Dfu9U2dTAX7D",
        "colab_type": "code",
        "outputId": "1ee9cdfb-25bd-43f5-959c-e6d9c8478fef",
        "colab": {
          "base_uri": "https://localhost:8080/",
          "height": 198
        }
      },
      "source": [
        "train.head()"
      ],
      "execution_count": 15,
      "outputs": [
        {
          "output_type": "execute_result",
          "data": {
            "text/html": [
              "<div>\n",
              "<style scoped>\n",
              "    .dataframe tbody tr th:only-of-type {\n",
              "        vertical-align: middle;\n",
              "    }\n",
              "\n",
              "    .dataframe tbody tr th {\n",
              "        vertical-align: top;\n",
              "    }\n",
              "\n",
              "    .dataframe thead th {\n",
              "        text-align: right;\n",
              "    }\n",
              "</style>\n",
              "<table border=\"1\" class=\"dataframe\">\n",
              "  <thead>\n",
              "    <tr style=\"text-align: right;\">\n",
              "      <th></th>\n",
              "      <th>id</th>\n",
              "      <th>comment_text</th>\n",
              "      <th>toxic</th>\n",
              "      <th>severe_toxic</th>\n",
              "      <th>obscene</th>\n",
              "      <th>threat</th>\n",
              "      <th>insult</th>\n",
              "      <th>identity_hate</th>\n",
              "    </tr>\n",
              "  </thead>\n",
              "  <tbody>\n",
              "    <tr>\n",
              "      <th>54568</th>\n",
              "      <td>91da4b4b95fe5e2d</td>\n",
              "      <td>conflict of interest note by your user name it...</td>\n",
              "      <td>0</td>\n",
              "      <td>0</td>\n",
              "      <td>0</td>\n",
              "      <td>0</td>\n",
              "      <td>0</td>\n",
              "      <td>0</td>\n",
              "    </tr>\n",
              "    <tr>\n",
              "      <th>3786</th>\n",
              "      <td>0a1df25805d6d2e7</td>\n",
              "      <td>update actually i changed this to something bl...</td>\n",
              "      <td>0</td>\n",
              "      <td>0</td>\n",
              "      <td>0</td>\n",
              "      <td>0</td>\n",
              "      <td>0</td>\n",
              "      <td>0</td>\n",
              "    </tr>\n",
              "    <tr>\n",
              "      <th>22938</th>\n",
              "      <td>3c9e75d2b8dcf720</td>\n",
              "      <td>mica article sniper thanks for your comments o...</td>\n",
              "      <td>0</td>\n",
              "      <td>0</td>\n",
              "      <td>0</td>\n",
              "      <td>0</td>\n",
              "      <td>0</td>\n",
              "      <td>0</td>\n",
              "    </tr>\n",
              "    <tr>\n",
              "      <th>137856</th>\n",
              "      <td>e1b03f4baf9d58ce</td>\n",
              "      <td>arguing that bart and cal train should get mor...</td>\n",
              "      <td>0</td>\n",
              "      <td>0</td>\n",
              "      <td>0</td>\n",
              "      <td>0</td>\n",
              "      <td>0</td>\n",
              "      <td>0</td>\n",
              "    </tr>\n",
              "    <tr>\n",
              "      <th>143038</th>\n",
              "      <td>fcdf5d299437f2a9</td>\n",
              "      <td>blocked i i blocked you for hours for being un...</td>\n",
              "      <td>0</td>\n",
              "      <td>0</td>\n",
              "      <td>0</td>\n",
              "      <td>0</td>\n",
              "      <td>0</td>\n",
              "      <td>0</td>\n",
              "    </tr>\n",
              "  </tbody>\n",
              "</table>\n",
              "</div>"
            ],
            "text/plain": [
              "                      id  ... identity_hate\n",
              "54568   91da4b4b95fe5e2d  ...             0\n",
              "3786    0a1df25805d6d2e7  ...             0\n",
              "22938   3c9e75d2b8dcf720  ...             0\n",
              "137856  e1b03f4baf9d58ce  ...             0\n",
              "143038  fcdf5d299437f2a9  ...             0\n",
              "\n",
              "[5 rows x 8 columns]"
            ]
          },
          "metadata": {
            "tags": []
          },
          "execution_count": 15
        }
      ]
    },
    {
      "cell_type": "code",
      "metadata": {
        "id": "XsXRjEEJDs-7",
        "colab_type": "code",
        "outputId": "40d25e92-ce19-448d-9357-57a667d73d2d",
        "colab": {
          "base_uri": "https://localhost:8080/",
          "height": 198
        }
      },
      "source": [
        "validation.head()"
      ],
      "execution_count": 16,
      "outputs": [
        {
          "output_type": "execute_result",
          "data": {
            "text/html": [
              "<div>\n",
              "<style scoped>\n",
              "    .dataframe tbody tr th:only-of-type {\n",
              "        vertical-align: middle;\n",
              "    }\n",
              "\n",
              "    .dataframe tbody tr th {\n",
              "        vertical-align: top;\n",
              "    }\n",
              "\n",
              "    .dataframe thead th {\n",
              "        text-align: right;\n",
              "    }\n",
              "</style>\n",
              "<table border=\"1\" class=\"dataframe\">\n",
              "  <thead>\n",
              "    <tr style=\"text-align: right;\">\n",
              "      <th></th>\n",
              "      <th>id</th>\n",
              "      <th>comment_text</th>\n",
              "      <th>toxic</th>\n",
              "      <th>severe_toxic</th>\n",
              "      <th>obscene</th>\n",
              "      <th>threat</th>\n",
              "      <th>insult</th>\n",
              "      <th>identity_hate</th>\n",
              "    </tr>\n",
              "  </thead>\n",
              "  <tbody>\n",
              "    <tr>\n",
              "      <th>78198</th>\n",
              "      <td>d1502b14889b8405</td>\n",
              "      <td>the page is only about mind old expansion and ...</td>\n",
              "      <td>0</td>\n",
              "      <td>0</td>\n",
              "      <td>0</td>\n",
              "      <td>0</td>\n",
              "      <td>0</td>\n",
              "      <td>0</td>\n",
              "    </tr>\n",
              "    <tr>\n",
              "      <th>155782</th>\n",
              "      <td>c39dc4fd8a8feeea</td>\n",
              "      <td>okay that fair lets proceed at a without the i...</td>\n",
              "      <td>0</td>\n",
              "      <td>0</td>\n",
              "      <td>0</td>\n",
              "      <td>0</td>\n",
              "      <td>0</td>\n",
              "      <td>0</td>\n",
              "    </tr>\n",
              "    <tr>\n",
              "      <th>58845</th>\n",
              "      <td>9d99254e1f6d5078</td>\n",
              "      <td>rent a car hyderabad hours service cont us for...</td>\n",
              "      <td>0</td>\n",
              "      <td>0</td>\n",
              "      <td>0</td>\n",
              "      <td>0</td>\n",
              "      <td>0</td>\n",
              "      <td>0</td>\n",
              "    </tr>\n",
              "    <tr>\n",
              "      <th>51383</th>\n",
              "      <td>8976356d2888b47e</td>\n",
              "      <td>us sure two admins to convince is what have al...</td>\n",
              "      <td>0</td>\n",
              "      <td>0</td>\n",
              "      <td>0</td>\n",
              "      <td>0</td>\n",
              "      <td>0</td>\n",
              "      <td>0</td>\n",
              "    </tr>\n",
              "    <tr>\n",
              "      <th>149052</th>\n",
              "      <td>5662d02dba405e28</td>\n",
              "      <td>leave my damn user page talk page alone stop m...</td>\n",
              "      <td>1</td>\n",
              "      <td>0</td>\n",
              "      <td>0</td>\n",
              "      <td>0</td>\n",
              "      <td>0</td>\n",
              "      <td>0</td>\n",
              "    </tr>\n",
              "  </tbody>\n",
              "</table>\n",
              "</div>"
            ],
            "text/plain": [
              "                      id  ... identity_hate\n",
              "78198   d1502b14889b8405  ...             0\n",
              "155782  c39dc4fd8a8feeea  ...             0\n",
              "58845   9d99254e1f6d5078  ...             0\n",
              "51383   8976356d2888b47e  ...             0\n",
              "149052  5662d02dba405e28  ...             0\n",
              "\n",
              "[5 rows x 8 columns]"
            ]
          },
          "metadata": {
            "tags": []
          },
          "execution_count": 16
        }
      ]
    },
    {
      "cell_type": "code",
      "metadata": {
        "id": "FvTDBzgxDtFn",
        "colab_type": "code",
        "outputId": "26867319-8b12-4831-96d5-af8886b78f46",
        "colab": {
          "base_uri": "https://localhost:8080/",
          "height": 52
        }
      },
      "source": [
        "tfidfVec = TfidfVectorizer(stop_words=\"english\")\n",
        "X_train_tfidf = tfidfVec.fit_transform(X_train)\n",
        "X_validation_tfidf = tfidfVec.transform(X_validation)\n",
        "print(X_train_tfidf.shape)\n",
        "print(X_validation_tfidf.shape)"
      ],
      "execution_count": 17,
      "outputs": [
        {
          "output_type": "stream",
          "text": [
            "(111699, 54351)\n",
            "(31596, 54351)\n"
          ],
          "name": "stdout"
        }
      ]
    },
    {
      "cell_type": "code",
      "metadata": {
        "id": "3vzjMgkWDtK8",
        "colab_type": "code",
        "outputId": "49c86265-0718-488f-cdf9-ffd359e89eba",
        "colab": {
          "base_uri": "https://localhost:8080/",
          "height": 207
        }
      },
      "source": [
        "model = keras.Sequential()\n",
        "model.add(keras.layers.Dense(48, activation=tf.nn.relu, input_dim = X_train_tfidf.shape[1]))\n",
        "model.add(keras.layers.Dense(6, activation=tf.nn.sigmoid))\n",
        "\n",
        "model.summary()"
      ],
      "execution_count": 18,
      "outputs": [
        {
          "output_type": "stream",
          "text": [
            "_________________________________________________________________\n",
            "Layer (type)                 Output Shape              Param #   \n",
            "=================================================================\n",
            "dense_8 (Dense)              (None, 48)                2608896   \n",
            "_________________________________________________________________\n",
            "dense_9 (Dense)              (None, 6)                 294       \n",
            "=================================================================\n",
            "Total params: 2,609,190\n",
            "Trainable params: 2,609,190\n",
            "Non-trainable params: 0\n",
            "_________________________________________________________________\n"
          ],
          "name": "stdout"
        }
      ]
    },
    {
      "cell_type": "code",
      "metadata": {
        "id": "fzDEROmrDtTR",
        "colab_type": "code",
        "colab": {}
      },
      "source": [
        "model.compile(optimizer='adam', loss='binary_crossentropy', metrics=['acc'])"
      ],
      "execution_count": 0,
      "outputs": []
    },
    {
      "cell_type": "code",
      "metadata": {
        "id": "E53MN02sDtj6",
        "colab_type": "code",
        "outputId": "ca5b0b92-77a6-44ba-b187-d6becc554cb9",
        "colab": {
          "base_uri": "https://localhost:8080/",
          "height": 725
        }
      },
      "source": [
        "history = model.fit(X_train_tfidf, Y_train, epochs=20, batch_size=512, validation_data=(X_validation_tfidf, Y_validation), verbose=1)"
      ],
      "execution_count": 20,
      "outputs": [
        {
          "output_type": "stream",
          "text": [
            "Train on 111699 samples, validate on 31596 samples\n",
            "Epoch 1/20\n",
            "111699/111699 [==============================] - 95s 851us/step - loss: 0.2901 - acc: 0.9618 - val_loss: 0.1090 - val_acc: 0.9697\n",
            "Epoch 2/20\n",
            "111699/111699 [==============================] - 107s 961us/step - loss: 0.0813 - acc: 0.9761 - val_loss: 0.0695 - val_acc: 0.9785\n",
            "Epoch 3/20\n",
            "111699/111699 [==============================] - 106s 950us/step - loss: 0.0572 - acc: 0.9811 - val_loss: 0.0606 - val_acc: 0.9798\n",
            "Epoch 4/20\n",
            "111699/111699 [==============================] - 108s 963us/step - loss: 0.0484 - acc: 0.9829 - val_loss: 0.0578 - val_acc: 0.9805\n",
            "Epoch 5/20\n",
            "111699/111699 [==============================] - 107s 958us/step - loss: 0.0431 - acc: 0.9844 - val_loss: 0.0565 - val_acc: 0.9807\n",
            "Epoch 6/20\n",
            "111699/111699 [==============================] - 110s 983us/step - loss: 0.0389 - acc: 0.9857 - val_loss: 0.0562 - val_acc: 0.9808\n",
            "Epoch 7/20\n",
            "111699/111699 [==============================] - 105s 941us/step - loss: 0.0352 - acc: 0.9869 - val_loss: 0.0566 - val_acc: 0.9807\n",
            "Epoch 8/20\n",
            "111699/111699 [==============================] - 108s 971us/step - loss: 0.0319 - acc: 0.9881 - val_loss: 0.0569 - val_acc: 0.9807\n",
            "Epoch 9/20\n",
            "111699/111699 [==============================] - 110s 988us/step - loss: 0.0290 - acc: 0.9893 - val_loss: 0.0580 - val_acc: 0.9806\n",
            "Epoch 10/20\n",
            "111699/111699 [==============================] - 106s 948us/step - loss: 0.0266 - acc: 0.9904 - val_loss: 0.0591 - val_acc: 0.9804\n",
            "Epoch 11/20\n",
            "111699/111699 [==============================] - 106s 952us/step - loss: 0.0245 - acc: 0.9914 - val_loss: 0.0609 - val_acc: 0.9803\n",
            "Epoch 12/20\n",
            "111699/111699 [==============================] - 108s 968us/step - loss: 0.0227 - acc: 0.9921 - val_loss: 0.0625 - val_acc: 0.9801\n",
            "Epoch 13/20\n",
            "111699/111699 [==============================] - 107s 960us/step - loss: 0.0210 - acc: 0.9928 - val_loss: 0.0647 - val_acc: 0.9800\n",
            "Epoch 14/20\n",
            "111699/111699 [==============================] - 109s 980us/step - loss: 0.0196 - acc: 0.9934 - val_loss: 0.0665 - val_acc: 0.9799\n",
            "Epoch 15/20\n",
            "111699/111699 [==============================] - 109s 974us/step - loss: 0.0183 - acc: 0.9940 - val_loss: 0.0685 - val_acc: 0.9797\n",
            "Epoch 16/20\n",
            "111699/111699 [==============================] - 110s 981us/step - loss: 0.0171 - acc: 0.9944 - val_loss: 0.0708 - val_acc: 0.9796\n",
            "Epoch 17/20\n",
            "111699/111699 [==============================] - 108s 964us/step - loss: 0.0161 - acc: 0.9949 - val_loss: 0.0729 - val_acc: 0.9794\n",
            "Epoch 18/20\n",
            "111699/111699 [==============================] - 108s 969us/step - loss: 0.0152 - acc: 0.9952 - val_loss: 0.0747 - val_acc: 0.9792\n",
            "Epoch 19/20\n",
            "111699/111699 [==============================] - 102s 915us/step - loss: 0.0143 - acc: 0.9955 - val_loss: 0.0770 - val_acc: 0.9791\n",
            "Epoch 20/20\n",
            "111699/111699 [==============================] - 76s 679us/step - loss: 0.0135 - acc: 0.9958 - val_loss: 0.0799 - val_acc: 0.9790\n"
          ],
          "name": "stdout"
        }
      ]
    },
    {
      "cell_type": "code",
      "metadata": {
        "id": "tO7-Dh5fDtq6",
        "colab_type": "code",
        "colab": {}
      },
      "source": [
        ""
      ],
      "execution_count": 0,
      "outputs": []
    },
    {
      "cell_type": "code",
      "metadata": {
        "id": "2H5lwpT4Dt3u",
        "colab_type": "code",
        "colab": {}
      },
      "source": [
        "import matplotlib.pyplot as plt\n",
        "# plt.style.use('ggplot')\n",
        "\n",
        "def plotTrainingProcess(history):\n",
        "    # get parameter\n",
        "    trainAcc, valAcc, trainLoss, valLoss  = history.history['acc'], history.history['val_acc'], history.history['loss'], history.history['val_loss']\n",
        "    X_axis = range(1, len(trainAcc) + 1)\n",
        "\n",
        "    # plot accuracy\n",
        "    plt.figure(figsize=(12, 5))\n",
        "    plt.subplot(1, 2, 1)\n",
        "    plt.plot(X_axis, trainAcc, 'b', label='Training accuracy')\n",
        "    plt.plot(X_axis, valAcc, 'r', label='Validation accuracy')\n",
        "    plt.title('Training and validation accuracy')\n",
        "    plt.legend()\n",
        "    \n",
        "    # plot loss\n",
        "    plt.subplot(1, 2, 2)\n",
        "    plt.plot(X_axis, trainLoss, 'b', label='Training loss')\n",
        "    plt.plot(X_axis, valLoss, 'r', label='Validation loss')\n",
        "    plt.title('Training and validation loss')\n",
        "    plt.legend()"
      ],
      "execution_count": 0,
      "outputs": []
    },
    {
      "cell_type": "code",
      "metadata": {
        "id": "vqUNAMLqDuAE",
        "colab_type": "code",
        "outputId": "a4b44e4b-2cc3-46ea-be3f-8a7ce51330c6",
        "colab": {
          "base_uri": "https://localhost:8080/",
          "height": 687
        }
      },
      "source": [
        "plotTrainingProcess(history)"
      ],
      "execution_count": 22,
      "outputs": [
        {
          "output_type": "display_data",
          "data": {
            "image/png": "[encoded data removed]",
            "text/plain": [
              "<Figure size 1800x750 with 2 Axes>"
            ]
          },
          "metadata": {
            "tags": []
          }
        }
      ]
    },
    {
      "cell_type": "code",
      "metadata": {
        "id": "BAns11r6Dt-v",
        "colab_type": "code",
        "colab": {}
      },
      "source": [
        ""
      ],
      "execution_count": 0,
      "outputs": []
    },
    {
      "cell_type": "code",
      "metadata": {
        "id": "wWfaXO49Dt8e",
        "colab_type": "code",
        "colab": {}
      },
      "source": [
        ""
      ],
      "execution_count": 0,
      "outputs": []
    },
    {
      "cell_type": "code",
      "metadata": {
        "id": "zPBRNiFyDt7D",
        "colab_type": "code",
        "colab": {}
      },
      "source": [
        ""
      ],
      "execution_count": 0,
      "outputs": []
    },
    {
      "cell_type": "code",
      "metadata": {
        "id": "7ETQ4-eQDt2G",
        "colab_type": "code",
        "colab": {}
      },
      "source": [
        ""
      ],
      "execution_count": 0,
      "outputs": []
    },
    {
      "cell_type": "code",
      "metadata": {
        "id": "3bGydjqzDtzy",
        "colab_type": "code",
        "colab": {}
      },
      "source": [
        ""
      ],
      "execution_count": 0,
      "outputs": []
    },
    {
      "cell_type": "code",
      "metadata": {
        "id": "cLAIGI0uDtw9",
        "colab_type": "code",
        "colab": {}
      },
      "source": [
        ""
      ],
      "execution_count": 0,
      "outputs": []
    },
    {
      "cell_type": "code",
      "metadata": {
        "id": "rrFdhVjdDtvV",
        "colab_type": "code",
        "colab": {}
      },
      "source": [
        ""
      ],
      "execution_count": 0,
      "outputs": []
    },
    {
      "cell_type": "code",
      "metadata": {
        "id": "IeeylxXdDtuC",
        "colab_type": "code",
        "colab": {}
      },
      "source": [
        ""
      ],
      "execution_count": 0,
      "outputs": []
    },
    {
      "cell_type": "code",
      "metadata": {
        "id": "qawYuVhVDtod",
        "colab_type": "code",
        "colab": {}
      },
      "source": [
        ""
      ],
      "execution_count": 0,
      "outputs": []
    },
    {
      "cell_type": "code",
      "metadata": {
        "id": "08lFlps7DtnP",
        "colab_type": "code",
        "colab": {}
      },
      "source": [
        ""
      ],
      "execution_count": 0,
      "outputs": []
    },
    {
      "cell_type": "code",
      "metadata": {
        "id": "fZU6KS8ZDtiA",
        "colab_type": "code",
        "colab": {}
      },
      "source": [
        ""
      ],
      "execution_count": 0,
      "outputs": []
    },
    {
      "cell_type": "code",
      "metadata": {
        "id": "NjDRFIG8Dtfn",
        "colab_type": "code",
        "colab": {}
      },
      "source": [
        ""
      ],
      "execution_count": 0,
      "outputs": []
    },
    {
      "cell_type": "code",
      "metadata": {
        "id": "vlpAOXoADtdx",
        "colab_type": "code",
        "colab": {}
      },
      "source": [
        ""
      ],
      "execution_count": 0,
      "outputs": []
    }
  ]
}