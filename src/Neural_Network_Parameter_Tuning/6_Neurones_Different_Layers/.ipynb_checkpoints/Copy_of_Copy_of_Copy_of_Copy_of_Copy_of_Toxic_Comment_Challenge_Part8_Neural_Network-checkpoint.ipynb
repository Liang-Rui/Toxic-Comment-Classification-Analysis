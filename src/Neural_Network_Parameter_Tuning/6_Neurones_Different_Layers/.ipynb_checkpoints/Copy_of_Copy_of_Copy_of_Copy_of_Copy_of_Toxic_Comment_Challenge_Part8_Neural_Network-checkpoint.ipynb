{
 "cells": [
  {
   "cell_type": "code",
   "execution_count": 1,
   "metadata": {
    "colab": {
     "base_uri": "https://localhost:8080/",
     "height": 35
    },
    "colab_type": "code",
    "id": "0YRIbWdC2T1W",
    "outputId": "e7e0108d-4f6f-4321-ef32-99788c1172d6"
   },
   "outputs": [
    {
     "name": "stdout",
     "output_type": "stream",
     "text": [
      "Drive already mounted at /content/drive; to attempt to forcibly remount, call drive.mount(\"/content/drive\", force_remount=True).\n"
     ]
    }
   ],
   "source": [
    "from google.colab import drive\n",
    "drive.mount('/content/drive')"
   ]
  },
  {
   "cell_type": "code",
   "execution_count": 2,
   "metadata": {
    "colab": {
     "base_uri": "https://localhost:8080/",
     "height": 52
    },
    "colab_type": "code",
    "id": "tIzTotfzAX39",
    "outputId": "f8390e8d-0abb-4a10-9cbd-33254c293467"
   },
   "outputs": [
    {
     "name": "stderr",
     "output_type": "stream",
     "text": [
      "Using TensorFlow backend.\n"
     ]
    },
    {
     "data": {
      "text/plain": [
       "True"
      ]
     },
     "execution_count": 2,
     "metadata": {
      "tags": []
     },
     "output_type": "execute_result"
    }
   ],
   "source": [
    "import keras\n",
    "import tensorflow as tf\n",
    "from sklearn.feature_extraction.text import TfidfVectorizer\n",
    "from sklearn.model_selection import train_test_split\n",
    "import pandas as pd\n",
    "import numpy as np\n",
    "import matplotlib.pyplot as plt\n",
    "import seaborn as sns\n",
    "from sklearn.metrics import classification_report\n",
    "from sklearn.metrics import roc_curve, auc\n",
    "\n",
    "plt.rcParams['figure.dpi']= 150\n",
    "sns.set(style=\"whitegrid\")\n",
    "tf.test.is_gpu_available()"
   ]
  },
  {
   "cell_type": "code",
   "execution_count": 3,
   "metadata": {
    "colab": {
     "base_uri": "https://localhost:8080/",
     "height": 52
    },
    "colab_type": "code",
    "id": "sg2h76HtAX9i",
    "outputId": "0224821a-3390-4711-c4c8-a99bcd514a4f"
   },
   "outputs": [
    {
     "name": "stdout",
     "output_type": "stream",
     "text": [
      "train.shape:  (111699, 8)\n",
      "test.shape:  (16276, 8)\n"
     ]
    }
   ],
   "source": [
    "# Read cleaned training data\n",
    "data = pd.read_csv(\"drive/My Drive/Colab Notebooks/cleaned_train_data.csv\")\n",
    "\n",
    "# It is better to choose random_state=42\n",
    "# Split training data into 70% training data and 20% validation data, 10% test data\n",
    "train, testValidation = train_test_split(data, test_size=0.3, random_state=42, shuffle=True)\n",
    "test, validation = train_test_split(testValidation, test_size=0.66, random_state=42, shuffle=True)\n",
    "categories = ['toxic', 'severe_toxic', 'obscene', 'threat', 'insult', 'identity_hate']\n",
    "print(\"train.shape: \", train.shape)\n",
    "print(\"test.shape: \", test.shape)\n",
    "\n",
    "X_train = train.comment_text\n",
    "X_validation = validation.comment_text\n",
    "Y_train = train[categories]\n",
    "Y_validation = validation[categories]"
   ]
  },
  {
   "cell_type": "code",
   "execution_count": 4,
   "metadata": {
    "colab": {
     "base_uri": "https://localhost:8080/",
     "height": 198
    },
    "colab_type": "code",
    "id": "Dfu9U2dTAX7D",
    "outputId": "ad0c6b8b-4722-4eaa-f874-81d3bd4e93b7"
   },
   "outputs": [
    {
     "data": {
      "text/html": [
       "<div>\n",
       "<style scoped>\n",
       "    .dataframe tbody tr th:only-of-type {\n",
       "        vertical-align: middle;\n",
       "    }\n",
       "\n",
       "    .dataframe tbody tr th {\n",
       "        vertical-align: top;\n",
       "    }\n",
       "\n",
       "    .dataframe thead th {\n",
       "        text-align: right;\n",
       "    }\n",
       "</style>\n",
       "<table border=\"1\" class=\"dataframe\">\n",
       "  <thead>\n",
       "    <tr style=\"text-align: right;\">\n",
       "      <th></th>\n",
       "      <th>id</th>\n",
       "      <th>comment_text</th>\n",
       "      <th>toxic</th>\n",
       "      <th>severe_toxic</th>\n",
       "      <th>obscene</th>\n",
       "      <th>threat</th>\n",
       "      <th>insult</th>\n",
       "      <th>identity_hate</th>\n",
       "    </tr>\n",
       "  </thead>\n",
       "  <tbody>\n",
       "    <tr>\n",
       "      <th>54568</th>\n",
       "      <td>91da4b4b95fe5e2d</td>\n",
       "      <td>conflict of interest note by your user name it...</td>\n",
       "      <td>0</td>\n",
       "      <td>0</td>\n",
       "      <td>0</td>\n",
       "      <td>0</td>\n",
       "      <td>0</td>\n",
       "      <td>0</td>\n",
       "    </tr>\n",
       "    <tr>\n",
       "      <th>3786</th>\n",
       "      <td>0a1df25805d6d2e7</td>\n",
       "      <td>update actually i changed this to something bl...</td>\n",
       "      <td>0</td>\n",
       "      <td>0</td>\n",
       "      <td>0</td>\n",
       "      <td>0</td>\n",
       "      <td>0</td>\n",
       "      <td>0</td>\n",
       "    </tr>\n",
       "    <tr>\n",
       "      <th>22938</th>\n",
       "      <td>3c9e75d2b8dcf720</td>\n",
       "      <td>mica article sniper thanks for your comments o...</td>\n",
       "      <td>0</td>\n",
       "      <td>0</td>\n",
       "      <td>0</td>\n",
       "      <td>0</td>\n",
       "      <td>0</td>\n",
       "      <td>0</td>\n",
       "    </tr>\n",
       "    <tr>\n",
       "      <th>137856</th>\n",
       "      <td>e1b03f4baf9d58ce</td>\n",
       "      <td>arguing that bart and cal train should get mor...</td>\n",
       "      <td>0</td>\n",
       "      <td>0</td>\n",
       "      <td>0</td>\n",
       "      <td>0</td>\n",
       "      <td>0</td>\n",
       "      <td>0</td>\n",
       "    </tr>\n",
       "    <tr>\n",
       "      <th>143038</th>\n",
       "      <td>fcdf5d299437f2a9</td>\n",
       "      <td>blocked i i blocked you for hours for being un...</td>\n",
       "      <td>0</td>\n",
       "      <td>0</td>\n",
       "      <td>0</td>\n",
       "      <td>0</td>\n",
       "      <td>0</td>\n",
       "      <td>0</td>\n",
       "    </tr>\n",
       "  </tbody>\n",
       "</table>\n",
       "</div>"
      ],
      "text/plain": [
       "                      id  ... identity_hate\n",
       "54568   91da4b4b95fe5e2d  ...             0\n",
       "3786    0a1df25805d6d2e7  ...             0\n",
       "22938   3c9e75d2b8dcf720  ...             0\n",
       "137856  e1b03f4baf9d58ce  ...             0\n",
       "143038  fcdf5d299437f2a9  ...             0\n",
       "\n",
       "[5 rows x 8 columns]"
      ]
     },
     "execution_count": 4,
     "metadata": {
      "tags": []
     },
     "output_type": "execute_result"
    }
   ],
   "source": [
    "train.head()"
   ]
  },
  {
   "cell_type": "code",
   "execution_count": 5,
   "metadata": {
    "colab": {
     "base_uri": "https://localhost:8080/",
     "height": 198
    },
    "colab_type": "code",
    "id": "XsXRjEEJDs-7",
    "outputId": "cff05326-942a-42d8-a8e1-b7ca9f1733f5"
   },
   "outputs": [
    {
     "data": {
      "text/html": [
       "<div>\n",
       "<style scoped>\n",
       "    .dataframe tbody tr th:only-of-type {\n",
       "        vertical-align: middle;\n",
       "    }\n",
       "\n",
       "    .dataframe tbody tr th {\n",
       "        vertical-align: top;\n",
       "    }\n",
       "\n",
       "    .dataframe thead th {\n",
       "        text-align: right;\n",
       "    }\n",
       "</style>\n",
       "<table border=\"1\" class=\"dataframe\">\n",
       "  <thead>\n",
       "    <tr style=\"text-align: right;\">\n",
       "      <th></th>\n",
       "      <th>id</th>\n",
       "      <th>comment_text</th>\n",
       "      <th>toxic</th>\n",
       "      <th>severe_toxic</th>\n",
       "      <th>obscene</th>\n",
       "      <th>threat</th>\n",
       "      <th>insult</th>\n",
       "      <th>identity_hate</th>\n",
       "    </tr>\n",
       "  </thead>\n",
       "  <tbody>\n",
       "    <tr>\n",
       "      <th>78198</th>\n",
       "      <td>d1502b14889b8405</td>\n",
       "      <td>the page is only about mind old expansion and ...</td>\n",
       "      <td>0</td>\n",
       "      <td>0</td>\n",
       "      <td>0</td>\n",
       "      <td>0</td>\n",
       "      <td>0</td>\n",
       "      <td>0</td>\n",
       "    </tr>\n",
       "    <tr>\n",
       "      <th>155782</th>\n",
       "      <td>c39dc4fd8a8feeea</td>\n",
       "      <td>okay that fair lets proceed at a without the i...</td>\n",
       "      <td>0</td>\n",
       "      <td>0</td>\n",
       "      <td>0</td>\n",
       "      <td>0</td>\n",
       "      <td>0</td>\n",
       "      <td>0</td>\n",
       "    </tr>\n",
       "    <tr>\n",
       "      <th>58845</th>\n",
       "      <td>9d99254e1f6d5078</td>\n",
       "      <td>rent a car hyderabad hours service cont us for...</td>\n",
       "      <td>0</td>\n",
       "      <td>0</td>\n",
       "      <td>0</td>\n",
       "      <td>0</td>\n",
       "      <td>0</td>\n",
       "      <td>0</td>\n",
       "    </tr>\n",
       "    <tr>\n",
       "      <th>51383</th>\n",
       "      <td>8976356d2888b47e</td>\n",
       "      <td>us sure two admins to convince is what have al...</td>\n",
       "      <td>0</td>\n",
       "      <td>0</td>\n",
       "      <td>0</td>\n",
       "      <td>0</td>\n",
       "      <td>0</td>\n",
       "      <td>0</td>\n",
       "    </tr>\n",
       "    <tr>\n",
       "      <th>149052</th>\n",
       "      <td>5662d02dba405e28</td>\n",
       "      <td>leave my damn user page talk page alone stop m...</td>\n",
       "      <td>1</td>\n",
       "      <td>0</td>\n",
       "      <td>0</td>\n",
       "      <td>0</td>\n",
       "      <td>0</td>\n",
       "      <td>0</td>\n",
       "    </tr>\n",
       "  </tbody>\n",
       "</table>\n",
       "</div>"
      ],
      "text/plain": [
       "                      id  ... identity_hate\n",
       "78198   d1502b14889b8405  ...             0\n",
       "155782  c39dc4fd8a8feeea  ...             0\n",
       "58845   9d99254e1f6d5078  ...             0\n",
       "51383   8976356d2888b47e  ...             0\n",
       "149052  5662d02dba405e28  ...             0\n",
       "\n",
       "[5 rows x 8 columns]"
      ]
     },
     "execution_count": 5,
     "metadata": {
      "tags": []
     },
     "output_type": "execute_result"
    }
   ],
   "source": [
    "validation.head()"
   ]
  },
  {
   "cell_type": "code",
   "execution_count": 6,
   "metadata": {
    "colab": {
     "base_uri": "https://localhost:8080/",
     "height": 52
    },
    "colab_type": "code",
    "id": "FvTDBzgxDtFn",
    "outputId": "5dc5e4ce-6b0e-45c4-b69d-714d5c11cdb7"
   },
   "outputs": [
    {
     "name": "stdout",
     "output_type": "stream",
     "text": [
      "(111699, 54351)\n",
      "(31596, 54351)\n"
     ]
    }
   ],
   "source": [
    "tfidfVec = TfidfVectorizer(stop_words=\"english\")\n",
    "X_train_tfidf = tfidfVec.fit_transform(X_train)\n",
    "X_validation_tfidf = tfidfVec.transform(X_validation)\n",
    "print(X_train_tfidf.shape)\n",
    "print(X_validation_tfidf.shape)"
   ]
  },
  {
   "cell_type": "code",
   "execution_count": 7,
   "metadata": {
    "colab": {
     "base_uri": "https://localhost:8080/",
     "height": 935
    },
    "colab_type": "code",
    "id": "3vzjMgkWDtK8",
    "outputId": "9440a55f-9114-4489-c688-e1f44f95a29b"
   },
   "outputs": [
    {
     "name": "stderr",
     "output_type": "stream",
     "text": [
      "WARNING: Logging before flag parsing goes to stderr.\n",
      "W0809 07:52:52.503301 139795255113600 deprecation_wrapper.py:119] From /usr/local/lib/python3.6/dist-packages/keras/backend/tensorflow_backend.py:74: The name tf.get_default_graph is deprecated. Please use tf.compat.v1.get_default_graph instead.\n",
      "\n",
      "W0809 07:52:52.513989 139795255113600 deprecation_wrapper.py:119] From /usr/local/lib/python3.6/dist-packages/keras/backend/tensorflow_backend.py:517: The name tf.placeholder is deprecated. Please use tf.compat.v1.placeholder instead.\n",
      "\n",
      "W0809 07:52:52.522315 139795255113600 deprecation_wrapper.py:119] From /usr/local/lib/python3.6/dist-packages/keras/backend/tensorflow_backend.py:4138: The name tf.random_uniform is deprecated. Please use tf.random.uniform instead.\n",
      "\n"
     ]
    },
    {
     "name": "stdout",
     "output_type": "stream",
     "text": [
      "_________________________________________________________________\n",
      "Layer (type)                 Output Shape              Param #   \n",
      "=================================================================\n",
      "dense_1 (Dense)              (None, 6)                 326112    \n",
      "_________________________________________________________________\n",
      "dense_2 (Dense)              (None, 6)                 42        \n",
      "_________________________________________________________________\n",
      "dense_3 (Dense)              (None, 6)                 42        \n",
      "_________________________________________________________________\n",
      "dense_4 (Dense)              (None, 6)                 42        \n",
      "_________________________________________________________________\n",
      "dense_5 (Dense)              (None, 6)                 42        \n",
      "_________________________________________________________________\n",
      "dense_6 (Dense)              (None, 6)                 42        \n",
      "_________________________________________________________________\n",
      "dense_7 (Dense)              (None, 6)                 42        \n",
      "_________________________________________________________________\n",
      "dense_8 (Dense)              (None, 6)                 42        \n",
      "_________________________________________________________________\n",
      "dense_9 (Dense)              (None, 6)                 42        \n",
      "_________________________________________________________________\n",
      "dense_10 (Dense)             (None, 6)                 42        \n",
      "_________________________________________________________________\n",
      "dense_11 (Dense)             (None, 6)                 42        \n",
      "_________________________________________________________________\n",
      "dense_12 (Dense)             (None, 6)                 42        \n",
      "_________________________________________________________________\n",
      "dense_13 (Dense)             (None, 6)                 42        \n",
      "_________________________________________________________________\n",
      "dense_14 (Dense)             (None, 6)                 42        \n",
      "_________________________________________________________________\n",
      "dense_15 (Dense)             (None, 6)                 42        \n",
      "_________________________________________________________________\n",
      "dense_16 (Dense)             (None, 6)                 42        \n",
      "_________________________________________________________________\n",
      "dense_17 (Dense)             (None, 6)                 42        \n",
      "_________________________________________________________________\n",
      "dense_18 (Dense)             (None, 6)                 42        \n",
      "_________________________________________________________________\n",
      "dense_19 (Dense)             (None, 6)                 42        \n",
      "=================================================================\n",
      "Total params: 326,868\n",
      "Trainable params: 326,868\n",
      "Non-trainable params: 0\n",
      "_________________________________________________________________\n"
     ]
    }
   ],
   "source": [
    "model = keras.Sequential()\n",
    "model.add(keras.layers.Dense(6, activation=tf.nn.relu, input_dim = X_train_tfidf.shape[1]))\n",
    "model.add(keras.layers.Dense(6))\n",
    "model.add(keras.layers.Dense(6))\n",
    "model.add(keras.layers.Dense(6))\n",
    "model.add(keras.layers.Dense(6))\n",
    "model.add(keras.layers.Dense(6))\n",
    "model.add(keras.layers.Dense(6))\n",
    "model.add(keras.layers.Dense(6))\n",
    "model.add(keras.layers.Dense(6))\n",
    "model.add(keras.layers.Dense(6))\n",
    "model.add(keras.layers.Dense(6))\n",
    "model.add(keras.layers.Dense(6))\n",
    "model.add(keras.layers.Dense(6))\n",
    "model.add(keras.layers.Dense(6))\n",
    "model.add(keras.layers.Dense(6))\n",
    "model.add(keras.layers.Dense(6))\n",
    "model.add(keras.layers.Dense(6))\n",
    "model.add(keras.layers.Dense(6))\n",
    "model.add(keras.layers.Dense(6, activation=tf.nn.sigmoid))\n",
    "\n",
    "model.summary()"
   ]
  },
  {
   "cell_type": "code",
   "execution_count": 8,
   "metadata": {
    "colab": {
     "base_uri": "https://localhost:8080/",
     "height": 158
    },
    "colab_type": "code",
    "id": "fzDEROmrDtTR",
    "outputId": "3738a787-6603-46f1-9348-7fe4dbd8b24c"
   },
   "outputs": [
    {
     "name": "stderr",
     "output_type": "stream",
     "text": [
      "W0809 07:52:53.137196 139795255113600 deprecation_wrapper.py:119] From /usr/local/lib/python3.6/dist-packages/keras/optimizers.py:790: The name tf.train.Optimizer is deprecated. Please use tf.compat.v1.train.Optimizer instead.\n",
      "\n",
      "W0809 07:52:53.219949 139795255113600 deprecation_wrapper.py:119] From /usr/local/lib/python3.6/dist-packages/keras/backend/tensorflow_backend.py:3376: The name tf.log is deprecated. Please use tf.math.log instead.\n",
      "\n",
      "W0809 07:52:53.229931 139795255113600 deprecation.py:323] From /usr/local/lib/python3.6/dist-packages/tensorflow/python/ops/nn_impl.py:180: add_dispatch_support.<locals>.wrapper (from tensorflow.python.ops.array_ops) is deprecated and will be removed in a future version.\n",
      "Instructions for updating:\n",
      "Use tf.where in 2.0, which has the same broadcast rule as np.where\n"
     ]
    }
   ],
   "source": [
    "model.compile(optimizer='adam', loss='binary_crossentropy', metrics=['acc'])"
   ]
  },
  {
   "cell_type": "code",
   "execution_count": 9,
   "metadata": {
    "colab": {
     "base_uri": "https://localhost:8080/",
     "height": 780
    },
    "colab_type": "code",
    "id": "E53MN02sDtj6",
    "outputId": "4a595f6c-7768-4baf-f270-b027b0798452"
   },
   "outputs": [
    {
     "name": "stderr",
     "output_type": "stream",
     "text": [
      "W0809 07:52:53.780835 139795255113600 deprecation_wrapper.py:119] From /usr/local/lib/python3.6/dist-packages/keras/backend/tensorflow_backend.py:986: The name tf.assign_add is deprecated. Please use tf.compat.v1.assign_add instead.\n",
      "\n"
     ]
    },
    {
     "name": "stdout",
     "output_type": "stream",
     "text": [
      "Train on 111699 samples, validate on 31596 samples\n",
      "Epoch 1/20\n",
      "111699/111699 [==============================] - 117s 1ms/step - loss: 0.2108 - acc: 0.9086 - val_loss: 0.0838 - val_acc: 0.9655\n",
      "Epoch 2/20\n",
      "111699/111699 [==============================] - 114s 1ms/step - loss: 0.0723 - acc: 0.9685 - val_loss: 0.0748 - val_acc: 0.9717\n",
      "Epoch 3/20\n",
      "111699/111699 [==============================] - 110s 983us/step - loss: 0.0519 - acc: 0.9806 - val_loss: 0.0670 - val_acc: 0.9789\n",
      "Epoch 4/20\n",
      "111699/111699 [==============================] - 110s 989us/step - loss: 0.0410 - acc: 0.9850 - val_loss: 0.0694 - val_acc: 0.9782\n",
      "Epoch 5/20\n",
      "111699/111699 [==============================] - 110s 984us/step - loss: 0.0355 - acc: 0.9869 - val_loss: 0.0744 - val_acc: 0.9784\n",
      "Epoch 6/20\n",
      "111699/111699 [==============================] - 110s 989us/step - loss: 0.0326 - acc: 0.9878 - val_loss: 0.0808 - val_acc: 0.9784\n",
      "Epoch 7/20\n",
      "111699/111699 [==============================] - 108s 968us/step - loss: 0.0310 - acc: 0.9884 - val_loss: 0.0825 - val_acc: 0.9775\n",
      "Epoch 8/20\n",
      "111699/111699 [==============================] - 107s 957us/step - loss: 0.0293 - acc: 0.9890 - val_loss: 0.0871 - val_acc: 0.9776\n",
      "Epoch 9/20\n",
      "111699/111699 [==============================] - 108s 965us/step - loss: 0.0274 - acc: 0.9894 - val_loss: 0.0882 - val_acc: 0.9777\n",
      "Epoch 10/20\n",
      "111699/111699 [==============================] - 109s 977us/step - loss: 0.0249 - acc: 0.9900 - val_loss: 0.0958 - val_acc: 0.9774\n",
      "Epoch 11/20\n",
      "111699/111699 [==============================] - 110s 989us/step - loss: 0.0233 - acc: 0.9907 - val_loss: 0.0988 - val_acc: 0.9759\n",
      "Epoch 12/20\n",
      "111699/111699 [==============================] - 108s 963us/step - loss: 0.0222 - acc: 0.9911 - val_loss: 0.1079 - val_acc: 0.9771\n",
      "Epoch 13/20\n",
      "111699/111699 [==============================] - 107s 956us/step - loss: 0.0212 - acc: 0.9915 - val_loss: 0.1083 - val_acc: 0.9764\n",
      "Epoch 14/20\n",
      "111699/111699 [==============================] - 92s 824us/step - loss: 0.0204 - acc: 0.9918 - val_loss: 0.1160 - val_acc: 0.9764\n",
      "Epoch 15/20\n",
      "111699/111699 [==============================] - 75s 670us/step - loss: 0.0196 - acc: 0.9921 - val_loss: 0.1141 - val_acc: 0.9761\n",
      "Epoch 16/20\n",
      "111699/111699 [==============================] - 73s 652us/step - loss: 0.0192 - acc: 0.9923 - val_loss: 0.1249 - val_acc: 0.9763\n",
      "Epoch 17/20\n",
      "111699/111699 [==============================] - 68s 612us/step - loss: 0.0186 - acc: 0.9927 - val_loss: 0.1236 - val_acc: 0.9759\n",
      "Epoch 18/20\n",
      "111699/111699 [==============================] - 56s 502us/step - loss: 0.0182 - acc: 0.9929 - val_loss: 0.1306 - val_acc: 0.9746\n",
      "Epoch 19/20\n",
      "111699/111699 [==============================] - 50s 446us/step - loss: 0.0179 - acc: 0.9931 - val_loss: 0.1358 - val_acc: 0.9753\n",
      "Epoch 20/20\n",
      "111699/111699 [==============================] - 44s 390us/step - loss: 0.0176 - acc: 0.9932 - val_loss: 0.1340 - val_acc: 0.9755\n"
     ]
    }
   ],
   "source": [
    "history = model.fit(X_train_tfidf, Y_train, epochs=20, batch_size=512, validation_data=(X_validation_tfidf, Y_validation), verbose=1)"
   ]
  },
  {
   "cell_type": "code",
   "execution_count": 0,
   "metadata": {
    "colab": {},
    "colab_type": "code",
    "id": "tO7-Dh5fDtq6"
   },
   "outputs": [],
   "source": []
  },
  {
   "cell_type": "code",
   "execution_count": 0,
   "metadata": {
    "colab": {},
    "colab_type": "code",
    "id": "2H5lwpT4Dt3u"
   },
   "outputs": [],
   "source": [
    "import matplotlib.pyplot as plt\n",
    "# plt.style.use('ggplot')\n",
    "\n",
    "def plotTrainingProcess(history):\n",
    "    # get parameter\n",
    "    trainAcc, valAcc, trainLoss, valLoss  = history.history['acc'], history.history['val_acc'], history.history['loss'], history.history['val_loss']\n",
    "    X_axis = range(1, len(trainAcc) + 1)\n",
    "\n",
    "    # plot accuracy\n",
    "    plt.figure(figsize=(12, 5))\n",
    "    plt.subplot(1, 2, 1)\n",
    "    plt.plot(X_axis, trainAcc, 'b', label='Training accuracy')\n",
    "    plt.plot(X_axis, valAcc, 'r', label='Validation accuracy')\n",
    "    plt.title('Training and validation accuracy')\n",
    "    plt.legend()\n",
    "    \n",
    "    # plot loss\n",
    "    plt.subplot(1, 2, 2)\n",
    "    plt.plot(X_axis, trainLoss, 'b', label='Training loss')\n",
    "    plt.plot(X_axis, valLoss, 'r', label='Validation loss')\n",
    "    plt.title('Training and validation loss')\n",
    "    plt.legend()"
   ]
  },
  {
   "cell_type": "code",
   "execution_count": 11,
   "metadata": {
    "colab": {
     "base_uri": "https://localhost:8080/",
     "height": 687
    },
    "colab_type": "code",
    "id": "vqUNAMLqDuAE",
    "outputId": "bfb7378c-80d2-407a-ae54-a7d6864d8e1b"
   },
   "outputs": [
    {
     "data": {
      "image/png": "[encoded data removed]",
      "text/plain": [
       "<Figure size 1800x750 with 2 Axes>"
      ]
     },
     "metadata": {
      "tags": []
     },
     "output_type": "display_data"
    }
   ],
   "source": [
    "plotTrainingProcess(history)"
   ]
  },
  {
   "cell_type": "code",
   "execution_count": 0,
   "metadata": {
    "colab": {},
    "colab_type": "code",
    "id": "BAns11r6Dt-v"
   },
   "outputs": [],
   "source": []
  },
  {
   "cell_type": "code",
   "execution_count": 0,
   "metadata": {
    "colab": {},
    "colab_type": "code",
    "id": "wWfaXO49Dt8e"
   },
   "outputs": [],
   "source": []
  },
  {
   "cell_type": "code",
   "execution_count": 0,
   "metadata": {
    "colab": {},
    "colab_type": "code",
    "id": "zPBRNiFyDt7D"
   },
   "outputs": [],
   "source": []
  }
 ],
 "metadata": {
  "accelerator": "GPU",
  "colab": {
   "collapsed_sections": [],
   "machine_shape": "hm",
   "name": "Copy of Copy of Copy of Copy of Copy of Toxic_Comment_Challenge_Part8_Neural_Network.ipynb",
   "provenance": [],
   "version": "0.3.2"
  },
  "kernelspec": {
   "display_name": "Python 3",
   "language": "python",
   "name": "python3"
  },
  "language_info": {
   "codemirror_mode": {
    "name": "ipython",
    "version": 3
   },
   "file_extension": ".py",
   "mimetype": "text/x-python",
   "name": "python",
   "nbconvert_exporter": "python",
   "pygments_lexer": "ipython3",
   "version": "3.7.2"
  }
 },
 "nbformat": 4,
 "nbformat_minor": 1
}
