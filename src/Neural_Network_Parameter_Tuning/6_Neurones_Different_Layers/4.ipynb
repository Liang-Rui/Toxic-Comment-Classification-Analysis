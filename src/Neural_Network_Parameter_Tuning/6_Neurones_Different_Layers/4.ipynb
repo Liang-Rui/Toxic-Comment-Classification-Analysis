{
  "nbformat": 4,
  "nbformat_minor": 0,
  "metadata": {
    "colab": {
      "name": "Copy of Copy of Copy of Toxic_Comment_Challenge_Part8_Neural_Network.ipynb",
      "version": "0.3.2",
      "provenance": [],
      "collapsed_sections": [],
      "machine_shape": "hm"
    },
    "kernelspec": {
      "name": "python3",
      "display_name": "Python 3"
    },
    "accelerator": "GPU"
  },
  "cells": [
    {
      "cell_type": "code",
      "metadata": {
        "id": "0YRIbWdC2T1W",
        "colab_type": "code",
        "outputId": "9e7a730e-b26a-4447-a97a-9b50cb44a4d8",
        "colab": {
          "base_uri": "https://localhost:8080/",
          "height": 35
        }
      },
      "source": [
        "from google.colab import drive\n",
        "drive.mount('/content/drive')"
      ],
      "execution_count": 1,
      "outputs": [
        {
          "output_type": "stream",
          "text": [
            "Drive already mounted at /content/drive; to attempt to forcibly remount, call drive.mount(\"/content/drive\", force_remount=True).\n"
          ],
          "name": "stdout"
        }
      ]
    },
    {
      "cell_type": "code",
      "metadata": {
        "id": "tIzTotfzAX39",
        "colab_type": "code",
        "outputId": "fa2d7ae7-5c79-4541-958d-adcfc5cd103b",
        "colab": {
          "base_uri": "https://localhost:8080/",
          "height": 52
        }
      },
      "source": [
        "import keras\n",
        "import tensorflow as tf\n",
        "from sklearn.feature_extraction.text import TfidfVectorizer\n",
        "from sklearn.model_selection import train_test_split\n",
        "import pandas as pd\n",
        "import numpy as np\n",
        "import matplotlib.pyplot as plt\n",
        "import seaborn as sns\n",
        "from sklearn.metrics import classification_report\n",
        "from sklearn.metrics import roc_curve, auc\n",
        "\n",
        "plt.rcParams['figure.dpi']= 150\n",
        "sns.set(style=\"whitegrid\")\n",
        "tf.test.is_gpu_available()"
      ],
      "execution_count": 2,
      "outputs": [
        {
          "output_type": "stream",
          "text": [
            "Using TensorFlow backend.\n"
          ],
          "name": "stderr"
        },
        {
          "output_type": "execute_result",
          "data": {
            "text/plain": [
              "True"
            ]
          },
          "metadata": {
            "tags": []
          },
          "execution_count": 2
        }
      ]
    },
    {
      "cell_type": "code",
      "metadata": {
        "id": "sg2h76HtAX9i",
        "colab_type": "code",
        "outputId": "1d1dec73-b9ff-4858-f667-d75c6d1e92ed",
        "colab": {
          "base_uri": "https://localhost:8080/",
          "height": 52
        }
      },
      "source": [
        "# Read cleaned training data\n",
        "data = pd.read_csv(\"drive/My Drive/Colab Notebooks/cleaned_train_data.csv\")\n",
        "\n",
        "# It is better to choose random_state=42\n",
        "# Split training data into 70% training data and 20% validation data, 10% test data\n",
        "train, testValidation = train_test_split(data, test_size=0.3, random_state=42, shuffle=True)\n",
        "test, validation = train_test_split(testValidation, test_size=0.66, random_state=42, shuffle=True)\n",
        "categories = ['toxic', 'severe_toxic', 'obscene', 'threat', 'insult', 'identity_hate']\n",
        "print(\"train.shape: \", train.shape)\n",
        "print(\"test.shape: \", test.shape)\n",
        "\n",
        "X_train = train.comment_text\n",
        "X_validation = validation.comment_text\n",
        "Y_train = train[categories]\n",
        "Y_validation = validation[categories]"
      ],
      "execution_count": 3,
      "outputs": [
        {
          "output_type": "stream",
          "text": [
            "train.shape:  (111699, 8)\n",
            "test.shape:  (16276, 8)\n"
          ],
          "name": "stdout"
        }
      ]
    },
    {
      "cell_type": "code",
      "metadata": {
        "id": "Dfu9U2dTAX7D",
        "colab_type": "code",
        "outputId": "76c3519f-da53-4112-98c4-e7de1b987526",
        "colab": {
          "base_uri": "https://localhost:8080/",
          "height": 198
        }
      },
      "source": [
        "train.head()"
      ],
      "execution_count": 4,
      "outputs": [
        {
          "output_type": "execute_result",
          "data": {
            "text/html": [
              "<div>\n",
              "<style scoped>\n",
              "    .dataframe tbody tr th:only-of-type {\n",
              "        vertical-align: middle;\n",
              "    }\n",
              "\n",
              "    .dataframe tbody tr th {\n",
              "        vertical-align: top;\n",
              "    }\n",
              "\n",
              "    .dataframe thead th {\n",
              "        text-align: right;\n",
              "    }\n",
              "</style>\n",
              "<table border=\"1\" class=\"dataframe\">\n",
              "  <thead>\n",
              "    <tr style=\"text-align: right;\">\n",
              "      <th></th>\n",
              "      <th>id</th>\n",
              "      <th>comment_text</th>\n",
              "      <th>toxic</th>\n",
              "      <th>severe_toxic</th>\n",
              "      <th>obscene</th>\n",
              "      <th>threat</th>\n",
              "      <th>insult</th>\n",
              "      <th>identity_hate</th>\n",
              "    </tr>\n",
              "  </thead>\n",
              "  <tbody>\n",
              "    <tr>\n",
              "      <th>54568</th>\n",
              "      <td>91da4b4b95fe5e2d</td>\n",
              "      <td>conflict of interest note by your user name it...</td>\n",
              "      <td>0</td>\n",
              "      <td>0</td>\n",
              "      <td>0</td>\n",
              "      <td>0</td>\n",
              "      <td>0</td>\n",
              "      <td>0</td>\n",
              "    </tr>\n",
              "    <tr>\n",
              "      <th>3786</th>\n",
              "      <td>0a1df25805d6d2e7</td>\n",
              "      <td>update actually i changed this to something bl...</td>\n",
              "      <td>0</td>\n",
              "      <td>0</td>\n",
              "      <td>0</td>\n",
              "      <td>0</td>\n",
              "      <td>0</td>\n",
              "      <td>0</td>\n",
              "    </tr>\n",
              "    <tr>\n",
              "      <th>22938</th>\n",
              "      <td>3c9e75d2b8dcf720</td>\n",
              "      <td>mica article sniper thanks for your comments o...</td>\n",
              "      <td>0</td>\n",
              "      <td>0</td>\n",
              "      <td>0</td>\n",
              "      <td>0</td>\n",
              "      <td>0</td>\n",
              "      <td>0</td>\n",
              "    </tr>\n",
              "    <tr>\n",
              "      <th>137856</th>\n",
              "      <td>e1b03f4baf9d58ce</td>\n",
              "      <td>arguing that bart and cal train should get mor...</td>\n",
              "      <td>0</td>\n",
              "      <td>0</td>\n",
              "      <td>0</td>\n",
              "      <td>0</td>\n",
              "      <td>0</td>\n",
              "      <td>0</td>\n",
              "    </tr>\n",
              "    <tr>\n",
              "      <th>143038</th>\n",
              "      <td>fcdf5d299437f2a9</td>\n",
              "      <td>blocked i i blocked you for hours for being un...</td>\n",
              "      <td>0</td>\n",
              "      <td>0</td>\n",
              "      <td>0</td>\n",
              "      <td>0</td>\n",
              "      <td>0</td>\n",
              "      <td>0</td>\n",
              "    </tr>\n",
              "  </tbody>\n",
              "</table>\n",
              "</div>"
            ],
            "text/plain": [
              "                      id  ... identity_hate\n",
              "54568   91da4b4b95fe5e2d  ...             0\n",
              "3786    0a1df25805d6d2e7  ...             0\n",
              "22938   3c9e75d2b8dcf720  ...             0\n",
              "137856  e1b03f4baf9d58ce  ...             0\n",
              "143038  fcdf5d299437f2a9  ...             0\n",
              "\n",
              "[5 rows x 8 columns]"
            ]
          },
          "metadata": {
            "tags": []
          },
          "execution_count": 4
        }
      ]
    },
    {
      "cell_type": "code",
      "metadata": {
        "id": "XsXRjEEJDs-7",
        "colab_type": "code",
        "outputId": "294950ed-cd6b-46d4-b89e-7ce3241e869f",
        "colab": {
          "base_uri": "https://localhost:8080/",
          "height": 198
        }
      },
      "source": [
        "validation.head()"
      ],
      "execution_count": 5,
      "outputs": [
        {
          "output_type": "execute_result",
          "data": {
            "text/html": [
              "<div>\n",
              "<style scoped>\n",
              "    .dataframe tbody tr th:only-of-type {\n",
              "        vertical-align: middle;\n",
              "    }\n",
              "\n",
              "    .dataframe tbody tr th {\n",
              "        vertical-align: top;\n",
              "    }\n",
              "\n",
              "    .dataframe thead th {\n",
              "        text-align: right;\n",
              "    }\n",
              "</style>\n",
              "<table border=\"1\" class=\"dataframe\">\n",
              "  <thead>\n",
              "    <tr style=\"text-align: right;\">\n",
              "      <th></th>\n",
              "      <th>id</th>\n",
              "      <th>comment_text</th>\n",
              "      <th>toxic</th>\n",
              "      <th>severe_toxic</th>\n",
              "      <th>obscene</th>\n",
              "      <th>threat</th>\n",
              "      <th>insult</th>\n",
              "      <th>identity_hate</th>\n",
              "    </tr>\n",
              "  </thead>\n",
              "  <tbody>\n",
              "    <tr>\n",
              "      <th>78198</th>\n",
              "      <td>d1502b14889b8405</td>\n",
              "      <td>the page is only about mind old expansion and ...</td>\n",
              "      <td>0</td>\n",
              "      <td>0</td>\n",
              "      <td>0</td>\n",
              "      <td>0</td>\n",
              "      <td>0</td>\n",
              "      <td>0</td>\n",
              "    </tr>\n",
              "    <tr>\n",
              "      <th>155782</th>\n",
              "      <td>c39dc4fd8a8feeea</td>\n",
              "      <td>okay that fair lets proceed at a without the i...</td>\n",
              "      <td>0</td>\n",
              "      <td>0</td>\n",
              "      <td>0</td>\n",
              "      <td>0</td>\n",
              "      <td>0</td>\n",
              "      <td>0</td>\n",
              "    </tr>\n",
              "    <tr>\n",
              "      <th>58845</th>\n",
              "      <td>9d99254e1f6d5078</td>\n",
              "      <td>rent a car hyderabad hours service cont us for...</td>\n",
              "      <td>0</td>\n",
              "      <td>0</td>\n",
              "      <td>0</td>\n",
              "      <td>0</td>\n",
              "      <td>0</td>\n",
              "      <td>0</td>\n",
              "    </tr>\n",
              "    <tr>\n",
              "      <th>51383</th>\n",
              "      <td>8976356d2888b47e</td>\n",
              "      <td>us sure two admins to convince is what have al...</td>\n",
              "      <td>0</td>\n",
              "      <td>0</td>\n",
              "      <td>0</td>\n",
              "      <td>0</td>\n",
              "      <td>0</td>\n",
              "      <td>0</td>\n",
              "    </tr>\n",
              "    <tr>\n",
              "      <th>149052</th>\n",
              "      <td>5662d02dba405e28</td>\n",
              "      <td>leave my damn user page talk page alone stop m...</td>\n",
              "      <td>1</td>\n",
              "      <td>0</td>\n",
              "      <td>0</td>\n",
              "      <td>0</td>\n",
              "      <td>0</td>\n",
              "      <td>0</td>\n",
              "    </tr>\n",
              "  </tbody>\n",
              "</table>\n",
              "</div>"
            ],
            "text/plain": [
              "                      id  ... identity_hate\n",
              "78198   d1502b14889b8405  ...             0\n",
              "155782  c39dc4fd8a8feeea  ...             0\n",
              "58845   9d99254e1f6d5078  ...             0\n",
              "51383   8976356d2888b47e  ...             0\n",
              "149052  5662d02dba405e28  ...             0\n",
              "\n",
              "[5 rows x 8 columns]"
            ]
          },
          "metadata": {
            "tags": []
          },
          "execution_count": 5
        }
      ]
    },
    {
      "cell_type": "code",
      "metadata": {
        "id": "FvTDBzgxDtFn",
        "colab_type": "code",
        "outputId": "d0631ef8-93d6-4054-d215-79d2a0749846",
        "colab": {
          "base_uri": "https://localhost:8080/",
          "height": 52
        }
      },
      "source": [
        "tfidfVec = TfidfVectorizer(stop_words=\"english\")\n",
        "X_train_tfidf = tfidfVec.fit_transform(X_train)\n",
        "X_validation_tfidf = tfidfVec.transform(X_validation)\n",
        "print(X_train_tfidf.shape)\n",
        "print(X_validation_tfidf.shape)"
      ],
      "execution_count": 6,
      "outputs": [
        {
          "output_type": "stream",
          "text": [
            "(111699, 54351)\n",
            "(31596, 54351)\n"
          ],
          "name": "stdout"
        }
      ]
    },
    {
      "cell_type": "code",
      "metadata": {
        "id": "3vzjMgkWDtK8",
        "colab_type": "code",
        "outputId": "b1a195d2-0a4f-43df-8946-84ebe7eae3e3",
        "colab": {
          "base_uri": "https://localhost:8080/",
          "height": 521
        }
      },
      "source": [
        "model = keras.Sequential()\n",
        "model.add(keras.layers.Dense(6, activation=tf.nn.relu, input_dim = X_train_tfidf.shape[1]))\n",
        "model.add(keras.layers.Dense(6))\n",
        "model.add(keras.layers.Dense(6))\n",
        "model.add(keras.layers.Dense(6))\n",
        "model.add(keras.layers.Dense(6))\n",
        "model.add(keras.layers.Dense(6))\n",
        "model.add(keras.layers.Dense(6, activation=tf.nn.sigmoid))\n",
        "\n",
        "model.summary()"
      ],
      "execution_count": 7,
      "outputs": [
        {
          "output_type": "stream",
          "text": [
            "WARNING: Logging before flag parsing goes to stderr.\n",
            "W0809 07:50:03.298748 140339661436800 deprecation_wrapper.py:119] From /usr/local/lib/python3.6/dist-packages/keras/backend/tensorflow_backend.py:74: The name tf.get_default_graph is deprecated. Please use tf.compat.v1.get_default_graph instead.\n",
            "\n",
            "W0809 07:50:03.307723 140339661436800 deprecation_wrapper.py:119] From /usr/local/lib/python3.6/dist-packages/keras/backend/tensorflow_backend.py:517: The name tf.placeholder is deprecated. Please use tf.compat.v1.placeholder instead.\n",
            "\n",
            "W0809 07:50:03.315026 140339661436800 deprecation_wrapper.py:119] From /usr/local/lib/python3.6/dist-packages/keras/backend/tensorflow_backend.py:4138: The name tf.random_uniform is deprecated. Please use tf.random.uniform instead.\n",
            "\n"
          ],
          "name": "stderr"
        },
        {
          "output_type": "stream",
          "text": [
            "_________________________________________________________________\n",
            "Layer (type)                 Output Shape              Param #   \n",
            "=================================================================\n",
            "dense_1 (Dense)              (None, 6)                 326112    \n",
            "_________________________________________________________________\n",
            "dense_2 (Dense)              (None, 6)                 42        \n",
            "_________________________________________________________________\n",
            "dense_3 (Dense)              (None, 6)                 42        \n",
            "_________________________________________________________________\n",
            "dense_4 (Dense)              (None, 6)                 42        \n",
            "_________________________________________________________________\n",
            "dense_5 (Dense)              (None, 6)                 42        \n",
            "_________________________________________________________________\n",
            "dense_6 (Dense)              (None, 6)                 42        \n",
            "_________________________________________________________________\n",
            "dense_7 (Dense)              (None, 6)                 42        \n",
            "=================================================================\n",
            "Total params: 326,364\n",
            "Trainable params: 326,364\n",
            "Non-trainable params: 0\n",
            "_________________________________________________________________\n"
          ],
          "name": "stdout"
        }
      ]
    },
    {
      "cell_type": "code",
      "metadata": {
        "id": "fzDEROmrDtTR",
        "colab_type": "code",
        "outputId": "a55f8900-a9d6-45c9-caf4-945aeb37faab",
        "colab": {
          "base_uri": "https://localhost:8080/",
          "height": 158
        }
      },
      "source": [
        "model.compile(optimizer='adam', loss='binary_crossentropy', metrics=['acc'])"
      ],
      "execution_count": 8,
      "outputs": [
        {
          "output_type": "stream",
          "text": [
            "W0809 07:50:03.518439 140339661436800 deprecation_wrapper.py:119] From /usr/local/lib/python3.6/dist-packages/keras/optimizers.py:790: The name tf.train.Optimizer is deprecated. Please use tf.compat.v1.train.Optimizer instead.\n",
            "\n",
            "W0809 07:50:03.575709 140339661436800 deprecation_wrapper.py:119] From /usr/local/lib/python3.6/dist-packages/keras/backend/tensorflow_backend.py:3376: The name tf.log is deprecated. Please use tf.math.log instead.\n",
            "\n",
            "W0809 07:50:03.595875 140339661436800 deprecation.py:323] From /usr/local/lib/python3.6/dist-packages/tensorflow/python/ops/nn_impl.py:180: add_dispatch_support.<locals>.wrapper (from tensorflow.python.ops.array_ops) is deprecated and will be removed in a future version.\n",
            "Instructions for updating:\n",
            "Use tf.where in 2.0, which has the same broadcast rule as np.where\n"
          ],
          "name": "stderr"
        }
      ]
    },
    {
      "cell_type": "code",
      "metadata": {
        "id": "E53MN02sDtj6",
        "colab_type": "code",
        "outputId": "462d3e56-d5fc-47f9-df14-53a8bdfda894",
        "colab": {
          "base_uri": "https://localhost:8080/",
          "height": 780
        }
      },
      "source": [
        "history = model.fit(X_train_tfidf, Y_train, epochs=20, batch_size=512, validation_data=(X_validation_tfidf, Y_validation), verbose=1)"
      ],
      "execution_count": 9,
      "outputs": [
        {
          "output_type": "stream",
          "text": [
            "W0809 07:50:03.974220 140339661436800 deprecation_wrapper.py:119] From /usr/local/lib/python3.6/dist-packages/keras/backend/tensorflow_backend.py:986: The name tf.assign_add is deprecated. Please use tf.compat.v1.assign_add instead.\n",
            "\n"
          ],
          "name": "stderr"
        },
        {
          "output_type": "stream",
          "text": [
            "Train on 111699 samples, validate on 31596 samples\n",
            "Epoch 1/20\n",
            "111699/111699 [==============================] - 76s 683us/step - loss: 0.2864 - acc: 0.9073 - val_loss: 0.0875 - val_acc: 0.9664\n",
            "Epoch 2/20\n",
            "111699/111699 [==============================] - 91s 816us/step - loss: 0.0731 - acc: 0.9713 - val_loss: 0.0676 - val_acc: 0.9756\n",
            "Epoch 3/20\n",
            "111699/111699 [==============================] - 105s 941us/step - loss: 0.0507 - acc: 0.9813 - val_loss: 0.0612 - val_acc: 0.9794\n",
            "Epoch 4/20\n",
            "111699/111699 [==============================] - 106s 946us/step - loss: 0.0424 - acc: 0.9842 - val_loss: 0.0629 - val_acc: 0.9793\n",
            "Epoch 5/20\n",
            "111699/111699 [==============================] - 110s 984us/step - loss: 0.0381 - acc: 0.9858 - val_loss: 0.0664 - val_acc: 0.9790\n",
            "Epoch 6/20\n",
            "111699/111699 [==============================] - 107s 956us/step - loss: 0.0352 - acc: 0.9869 - val_loss: 0.0713 - val_acc: 0.9787\n",
            "Epoch 7/20\n",
            "111699/111699 [==============================] - 106s 948us/step - loss: 0.0328 - acc: 0.9876 - val_loss: 0.0753 - val_acc: 0.9781\n",
            "Epoch 8/20\n",
            "111699/111699 [==============================] - 109s 978us/step - loss: 0.0310 - acc: 0.9881 - val_loss: 0.0806 - val_acc: 0.9779\n",
            "Epoch 9/20\n",
            "111699/111699 [==============================] - 108s 968us/step - loss: 0.0296 - acc: 0.9887 - val_loss: 0.0862 - val_acc: 0.9779\n",
            "Epoch 10/20\n",
            "111699/111699 [==============================] - 108s 969us/step - loss: 0.0284 - acc: 0.9889 - val_loss: 0.0885 - val_acc: 0.9771\n",
            "Epoch 11/20\n",
            "111699/111699 [==============================] - 105s 941us/step - loss: 0.0272 - acc: 0.9892 - val_loss: 0.0921 - val_acc: 0.9770\n",
            "Epoch 12/20\n",
            "111699/111699 [==============================] - 109s 974us/step - loss: 0.0259 - acc: 0.9896 - val_loss: 0.0969 - val_acc: 0.9770\n",
            "Epoch 13/20\n",
            "111699/111699 [==============================] - 108s 963us/step - loss: 0.0247 - acc: 0.9899 - val_loss: 0.1016 - val_acc: 0.9766\n",
            "Epoch 14/20\n",
            "111699/111699 [==============================] - 107s 954us/step - loss: 0.0237 - acc: 0.9901 - val_loss: 0.1054 - val_acc: 0.9762\n",
            "Epoch 15/20\n",
            "111699/111699 [==============================] - 109s 974us/step - loss: 0.0228 - acc: 0.9904 - val_loss: 0.1092 - val_acc: 0.9764\n",
            "Epoch 16/20\n",
            "111699/111699 [==============================] - 93s 828us/step - loss: 0.0221 - acc: 0.9906 - val_loss: 0.1115 - val_acc: 0.9755\n",
            "Epoch 17/20\n",
            "111699/111699 [==============================] - 80s 716us/step - loss: 0.0214 - acc: 0.9907 - val_loss: 0.1162 - val_acc: 0.9756\n",
            "Epoch 18/20\n",
            "111699/111699 [==============================] - 72s 643us/step - loss: 0.0208 - acc: 0.9911 - val_loss: 0.1192 - val_acc: 0.9753\n",
            "Epoch 19/20\n",
            "111699/111699 [==============================] - 72s 641us/step - loss: 0.0203 - acc: 0.9912 - val_loss: 0.1233 - val_acc: 0.9754\n",
            "Epoch 20/20\n",
            "111699/111699 [==============================] - 62s 553us/step - loss: 0.0197 - acc: 0.9914 - val_loss: 0.1246 - val_acc: 0.9752\n"
          ],
          "name": "stdout"
        }
      ]
    },
    {
      "cell_type": "code",
      "metadata": {
        "id": "tO7-Dh5fDtq6",
        "colab_type": "code",
        "colab": {}
      },
      "source": [
        ""
      ],
      "execution_count": 0,
      "outputs": []
    },
    {
      "cell_type": "code",
      "metadata": {
        "id": "2H5lwpT4Dt3u",
        "colab_type": "code",
        "colab": {}
      },
      "source": [
        "import matplotlib.pyplot as plt\n",
        "# plt.style.use('ggplot')\n",
        "\n",
        "def plotTrainingProcess(history):\n",
        "    # get parameter\n",
        "    trainAcc, valAcc, trainLoss, valLoss  = history.history['acc'], history.history['val_acc'], history.history['loss'], history.history['val_loss']\n",
        "    X_axis = range(1, len(trainAcc) + 1)\n",
        "\n",
        "    # plot accuracy\n",
        "    plt.figure(figsize=(12, 5))\n",
        "    plt.subplot(1, 2, 1)\n",
        "    plt.plot(X_axis, trainAcc, 'b', label='Training accuracy')\n",
        "    plt.plot(X_axis, valAcc, 'r', label='Validation accuracy')\n",
        "    plt.title('Training and validation accuracy')\n",
        "    plt.legend()\n",
        "    \n",
        "    # plot loss\n",
        "    plt.subplot(1, 2, 2)\n",
        "    plt.plot(X_axis, trainLoss, 'b', label='Training loss')\n",
        "    plt.plot(X_axis, valLoss, 'r', label='Validation loss')\n",
        "    plt.title('Training and validation loss')\n",
        "    plt.legend()"
      ],
      "execution_count": 0,
      "outputs": []
    },
    {
      "cell_type": "code",
      "metadata": {
        "id": "vqUNAMLqDuAE",
        "colab_type": "code",
        "outputId": "16198eb3-fd29-412f-f787-a3a0556fc8f6",
        "colab": {
          "base_uri": "https://localhost:8080/",
          "height": 687
        }
      },
      "source": [
        "plotTrainingProcess(history)"
      ],
      "execution_count": 11,
      "outputs": [
        {
          "output_type": "display_data",
          "data": {
            "image/png": "[encoded data removed]",
            "text/plain": [
              "<Figure size 1800x750 with 2 Axes>"
            ]
          },
          "metadata": {
            "tags": []
          }
        }
      ]
    },
    {
      "cell_type": "code",
      "metadata": {
        "id": "BAns11r6Dt-v",
        "colab_type": "code",
        "colab": {}
      },
      "source": [
        ""
      ],
      "execution_count": 0,
      "outputs": []
    },
    {
      "cell_type": "code",
      "metadata": {
        "id": "wWfaXO49Dt8e",
        "colab_type": "code",
        "colab": {}
      },
      "source": [
        ""
      ],
      "execution_count": 0,
      "outputs": []
    },
    {
      "cell_type": "code",
      "metadata": {
        "id": "zPBRNiFyDt7D",
        "colab_type": "code",
        "colab": {}
      },
      "source": [
        ""
      ],
      "execution_count": 0,
      "outputs": []
    },
    {
      "cell_type": "code",
      "metadata": {
        "id": "7ETQ4-eQDt2G",
        "colab_type": "code",
        "colab": {}
      },
      "source": [
        ""
      ],
      "execution_count": 0,
      "outputs": []
    },
    {
      "cell_type": "code",
      "metadata": {
        "id": "3bGydjqzDtzy",
        "colab_type": "code",
        "colab": {}
      },
      "source": [
        ""
      ],
      "execution_count": 0,
      "outputs": []
    },
    {
      "cell_type": "code",
      "metadata": {
        "id": "cLAIGI0uDtw9",
        "colab_type": "code",
        "colab": {}
      },
      "source": [
        ""
      ],
      "execution_count": 0,
      "outputs": []
    },
    {
      "cell_type": "code",
      "metadata": {
        "id": "rrFdhVjdDtvV",
        "colab_type": "code",
        "colab": {}
      },
      "source": [
        ""
      ],
      "execution_count": 0,
      "outputs": []
    },
    {
      "cell_type": "code",
      "metadata": {
        "id": "IeeylxXdDtuC",
        "colab_type": "code",
        "colab": {}
      },
      "source": [
        ""
      ],
      "execution_count": 0,
      "outputs": []
    },
    {
      "cell_type": "code",
      "metadata": {
        "id": "qawYuVhVDtod",
        "colab_type": "code",
        "colab": {}
      },
      "source": [
        ""
      ],
      "execution_count": 0,
      "outputs": []
    },
    {
      "cell_type": "code",
      "metadata": {
        "id": "08lFlps7DtnP",
        "colab_type": "code",
        "colab": {}
      },
      "source": [
        ""
      ],
      "execution_count": 0,
      "outputs": []
    },
    {
      "cell_type": "code",
      "metadata": {
        "id": "fZU6KS8ZDtiA",
        "colab_type": "code",
        "colab": {}
      },
      "source": [
        ""
      ],
      "execution_count": 0,
      "outputs": []
    },
    {
      "cell_type": "code",
      "metadata": {
        "id": "NjDRFIG8Dtfn",
        "colab_type": "code",
        "colab": {}
      },
      "source": [
        ""
      ],
      "execution_count": 0,
      "outputs": []
    },
    {
      "cell_type": "code",
      "metadata": {
        "id": "vlpAOXoADtdx",
        "colab_type": "code",
        "colab": {}
      },
      "source": [
        ""
      ],
      "execution_count": 0,
      "outputs": []
    }
  ]
}