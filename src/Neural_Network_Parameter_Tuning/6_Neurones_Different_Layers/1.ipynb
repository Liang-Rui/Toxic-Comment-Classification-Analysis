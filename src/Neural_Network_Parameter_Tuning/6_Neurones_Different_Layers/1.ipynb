{
 "cells": [
  {
   "cell_type": "code",
   "execution_count": 3,
   "metadata": {
    "colab": {
     "base_uri": "https://localhost:8080/",
     "height": 124
    },
    "colab_type": "code",
    "id": "0YRIbWdC2T1W",
    "outputId": "eb6a1303-3cc0-4938-99f8-9083a65018b1"
   },
   "outputs": [
    {
     "name": "stdout",
     "output_type": "stream",
     "text": [
      "Go to this URL in a browser: https://accounts.google.com/o/oauth2/auth?client_id=947318989803-6bn6qk8qdgf4n4g3pfee6491hc0brc4i.apps.googleusercontent.com&redirect_uri=urn%3Aietf%3Awg%3Aoauth%3A2.0%3Aoob&scope=email%20https%3A%2F%2Fwww.googleapis.com%2Fauth%2Fdocs.test%20https%3A%2F%2Fwww.googleapis.com%2Fauth%2Fdrive%20https%3A%2F%2Fwww.googleapis.com%2Fauth%2Fdrive.photos.readonly%20https%3A%2F%2Fwww.googleapis.com%2Fauth%2Fpeopleapi.readonly&response_type=code\n",
      "\n",
      "Enter your authorization code:\n",
      "··········\n",
      "Mounted at /content/drive\n"
     ]
    }
   ],
   "source": [
    "from google.colab import drive\n",
    "drive.mount('/content/drive')"
   ]
  },
  {
   "cell_type": "code",
   "execution_count": 4,
   "metadata": {
    "colab": {
     "base_uri": "https://localhost:8080/",
     "height": 35
    },
    "colab_type": "code",
    "id": "tIzTotfzAX39",
    "outputId": "0b348447-8189-4e7d-ae99-723ab595f6d5"
   },
   "outputs": [
    {
     "data": {
      "text/plain": [
       "True"
      ]
     },
     "execution_count": 4,
     "metadata": {
      "tags": []
     },
     "output_type": "execute_result"
    }
   ],
   "source": [
    "import keras\n",
    "import tensorflow as tf\n",
    "from sklearn.feature_extraction.text import TfidfVectorizer\n",
    "from sklearn.model_selection import train_test_split\n",
    "import pandas as pd\n",
    "import numpy as np\n",
    "import matplotlib.pyplot as plt\n",
    "import seaborn as sns\n",
    "from sklearn.metrics import classification_report\n",
    "from sklearn.metrics import roc_curve, auc\n",
    "\n",
    "plt.rcParams['figure.dpi']= 150\n",
    "sns.set(style=\"whitegrid\")\n",
    "tf.test.is_gpu_available()"
   ]
  },
  {
   "cell_type": "code",
   "execution_count": 5,
   "metadata": {
    "colab": {
     "base_uri": "https://localhost:8080/",
     "height": 52
    },
    "colab_type": "code",
    "id": "sg2h76HtAX9i",
    "outputId": "02a96661-46f3-4a77-9ae8-b95f9f862c2a"
   },
   "outputs": [
    {
     "name": "stdout",
     "output_type": "stream",
     "text": [
      "train.shape:  (111699, 8)\n",
      "test.shape:  (16276, 8)\n"
     ]
    }
   ],
   "source": [
    "# Read cleaned training data\n",
    "data = pd.read_csv(\"drive/My Drive/Colab Notebooks/cleaned_train_data.csv\")\n",
    "\n",
    "# It is better to choose random_state=42\n",
    "# Split training data into 70% training data and 20% validation data, 10% test data\n",
    "train, testValidation = train_test_split(data, test_size=0.3, random_state=42, shuffle=True)\n",
    "test, validation = train_test_split(testValidation, test_size=0.66, random_state=42, shuffle=True)\n",
    "categories = ['toxic', 'severe_toxic', 'obscene', 'threat', 'insult', 'identity_hate']\n",
    "print(\"train.shape: \", train.shape)\n",
    "print(\"test.shape: \", test.shape)\n",
    "\n",
    "X_train = train.comment_text\n",
    "X_validation = validation.comment_text\n",
    "Y_train = train[categories]\n",
    "Y_validation = validation[categories]"
   ]
  },
  {
   "cell_type": "code",
   "execution_count": 6,
   "metadata": {
    "colab": {
     "base_uri": "https://localhost:8080/",
     "height": 198
    },
    "colab_type": "code",
    "id": "Dfu9U2dTAX7D",
    "outputId": "8ca469e2-3844-4152-fa90-c716ff075b65"
   },
   "outputs": [
    {
     "data": {
      "text/html": [
       "<div>\n",
       "<style scoped>\n",
       "    .dataframe tbody tr th:only-of-type {\n",
       "        vertical-align: middle;\n",
       "    }\n",
       "\n",
       "    .dataframe tbody tr th {\n",
       "        vertical-align: top;\n",
       "    }\n",
       "\n",
       "    .dataframe thead th {\n",
       "        text-align: right;\n",
       "    }\n",
       "</style>\n",
       "<table border=\"1\" class=\"dataframe\">\n",
       "  <thead>\n",
       "    <tr style=\"text-align: right;\">\n",
       "      <th></th>\n",
       "      <th>id</th>\n",
       "      <th>comment_text</th>\n",
       "      <th>toxic</th>\n",
       "      <th>severe_toxic</th>\n",
       "      <th>obscene</th>\n",
       "      <th>threat</th>\n",
       "      <th>insult</th>\n",
       "      <th>identity_hate</th>\n",
       "    </tr>\n",
       "  </thead>\n",
       "  <tbody>\n",
       "    <tr>\n",
       "      <th>54568</th>\n",
       "      <td>91da4b4b95fe5e2d</td>\n",
       "      <td>conflict of interest note by your user name it...</td>\n",
       "      <td>0</td>\n",
       "      <td>0</td>\n",
       "      <td>0</td>\n",
       "      <td>0</td>\n",
       "      <td>0</td>\n",
       "      <td>0</td>\n",
       "    </tr>\n",
       "    <tr>\n",
       "      <th>3786</th>\n",
       "      <td>0a1df25805d6d2e7</td>\n",
       "      <td>update actually i changed this to something bl...</td>\n",
       "      <td>0</td>\n",
       "      <td>0</td>\n",
       "      <td>0</td>\n",
       "      <td>0</td>\n",
       "      <td>0</td>\n",
       "      <td>0</td>\n",
       "    </tr>\n",
       "    <tr>\n",
       "      <th>22938</th>\n",
       "      <td>3c9e75d2b8dcf720</td>\n",
       "      <td>mica article sniper thanks for your comments o...</td>\n",
       "      <td>0</td>\n",
       "      <td>0</td>\n",
       "      <td>0</td>\n",
       "      <td>0</td>\n",
       "      <td>0</td>\n",
       "      <td>0</td>\n",
       "    </tr>\n",
       "    <tr>\n",
       "      <th>137856</th>\n",
       "      <td>e1b03f4baf9d58ce</td>\n",
       "      <td>arguing that bart and cal train should get mor...</td>\n",
       "      <td>0</td>\n",
       "      <td>0</td>\n",
       "      <td>0</td>\n",
       "      <td>0</td>\n",
       "      <td>0</td>\n",
       "      <td>0</td>\n",
       "    </tr>\n",
       "    <tr>\n",
       "      <th>143038</th>\n",
       "      <td>fcdf5d299437f2a9</td>\n",
       "      <td>blocked i i blocked you for hours for being un...</td>\n",
       "      <td>0</td>\n",
       "      <td>0</td>\n",
       "      <td>0</td>\n",
       "      <td>0</td>\n",
       "      <td>0</td>\n",
       "      <td>0</td>\n",
       "    </tr>\n",
       "  </tbody>\n",
       "</table>\n",
       "</div>"
      ],
      "text/plain": [
       "                      id  ... identity_hate\n",
       "54568   91da4b4b95fe5e2d  ...             0\n",
       "3786    0a1df25805d6d2e7  ...             0\n",
       "22938   3c9e75d2b8dcf720  ...             0\n",
       "137856  e1b03f4baf9d58ce  ...             0\n",
       "143038  fcdf5d299437f2a9  ...             0\n",
       "\n",
       "[5 rows x 8 columns]"
      ]
     },
     "execution_count": 6,
     "metadata": {
      "tags": []
     },
     "output_type": "execute_result"
    }
   ],
   "source": [
    "train.head()"
   ]
  },
  {
   "cell_type": "code",
   "execution_count": 7,
   "metadata": {
    "colab": {
     "base_uri": "https://localhost:8080/",
     "height": 198
    },
    "colab_type": "code",
    "id": "XsXRjEEJDs-7",
    "outputId": "62b8425b-8497-499e-ce8c-1434525fc869"
   },
   "outputs": [
    {
     "data": {
      "text/html": [
       "<div>\n",
       "<style scoped>\n",
       "    .dataframe tbody tr th:only-of-type {\n",
       "        vertical-align: middle;\n",
       "    }\n",
       "\n",
       "    .dataframe tbody tr th {\n",
       "        vertical-align: top;\n",
       "    }\n",
       "\n",
       "    .dataframe thead th {\n",
       "        text-align: right;\n",
       "    }\n",
       "</style>\n",
       "<table border=\"1\" class=\"dataframe\">\n",
       "  <thead>\n",
       "    <tr style=\"text-align: right;\">\n",
       "      <th></th>\n",
       "      <th>id</th>\n",
       "      <th>comment_text</th>\n",
       "      <th>toxic</th>\n",
       "      <th>severe_toxic</th>\n",
       "      <th>obscene</th>\n",
       "      <th>threat</th>\n",
       "      <th>insult</th>\n",
       "      <th>identity_hate</th>\n",
       "    </tr>\n",
       "  </thead>\n",
       "  <tbody>\n",
       "    <tr>\n",
       "      <th>78198</th>\n",
       "      <td>d1502b14889b8405</td>\n",
       "      <td>the page is only about mind old expansion and ...</td>\n",
       "      <td>0</td>\n",
       "      <td>0</td>\n",
       "      <td>0</td>\n",
       "      <td>0</td>\n",
       "      <td>0</td>\n",
       "      <td>0</td>\n",
       "    </tr>\n",
       "    <tr>\n",
       "      <th>155782</th>\n",
       "      <td>c39dc4fd8a8feeea</td>\n",
       "      <td>okay that fair lets proceed at a without the i...</td>\n",
       "      <td>0</td>\n",
       "      <td>0</td>\n",
       "      <td>0</td>\n",
       "      <td>0</td>\n",
       "      <td>0</td>\n",
       "      <td>0</td>\n",
       "    </tr>\n",
       "    <tr>\n",
       "      <th>58845</th>\n",
       "      <td>9d99254e1f6d5078</td>\n",
       "      <td>rent a car hyderabad hours service cont us for...</td>\n",
       "      <td>0</td>\n",
       "      <td>0</td>\n",
       "      <td>0</td>\n",
       "      <td>0</td>\n",
       "      <td>0</td>\n",
       "      <td>0</td>\n",
       "    </tr>\n",
       "    <tr>\n",
       "      <th>51383</th>\n",
       "      <td>8976356d2888b47e</td>\n",
       "      <td>us sure two admins to convince is what have al...</td>\n",
       "      <td>0</td>\n",
       "      <td>0</td>\n",
       "      <td>0</td>\n",
       "      <td>0</td>\n",
       "      <td>0</td>\n",
       "      <td>0</td>\n",
       "    </tr>\n",
       "    <tr>\n",
       "      <th>149052</th>\n",
       "      <td>5662d02dba405e28</td>\n",
       "      <td>leave my damn user page talk page alone stop m...</td>\n",
       "      <td>1</td>\n",
       "      <td>0</td>\n",
       "      <td>0</td>\n",
       "      <td>0</td>\n",
       "      <td>0</td>\n",
       "      <td>0</td>\n",
       "    </tr>\n",
       "  </tbody>\n",
       "</table>\n",
       "</div>"
      ],
      "text/plain": [
       "                      id  ... identity_hate\n",
       "78198   d1502b14889b8405  ...             0\n",
       "155782  c39dc4fd8a8feeea  ...             0\n",
       "58845   9d99254e1f6d5078  ...             0\n",
       "51383   8976356d2888b47e  ...             0\n",
       "149052  5662d02dba405e28  ...             0\n",
       "\n",
       "[5 rows x 8 columns]"
      ]
     },
     "execution_count": 7,
     "metadata": {
      "tags": []
     },
     "output_type": "execute_result"
    }
   ],
   "source": [
    "validation.head()"
   ]
  },
  {
   "cell_type": "code",
   "execution_count": 8,
   "metadata": {
    "colab": {
     "base_uri": "https://localhost:8080/",
     "height": 52
    },
    "colab_type": "code",
    "id": "FvTDBzgxDtFn",
    "outputId": "b5180057-125f-475d-822a-5fca0af9d76f"
   },
   "outputs": [
    {
     "name": "stdout",
     "output_type": "stream",
     "text": [
      "(111699, 54351)\n",
      "(31596, 54351)\n"
     ]
    }
   ],
   "source": [
    "tfidfVec = TfidfVectorizer(stop_words=\"english\")\n",
    "X_train_tfidf = tfidfVec.fit_transform(X_train)\n",
    "X_validation_tfidf = tfidfVec.transform(X_validation)\n",
    "print(X_train_tfidf.shape)\n",
    "print(X_validation_tfidf.shape)"
   ]
  },
  {
   "cell_type": "code",
   "execution_count": 9,
   "metadata": {
    "colab": {
     "base_uri": "https://localhost:8080/",
     "height": 348
    },
    "colab_type": "code",
    "id": "3vzjMgkWDtK8",
    "outputId": "1b306187-9e62-40da-b1b1-2edb7929591e"
   },
   "outputs": [
    {
     "name": "stderr",
     "output_type": "stream",
     "text": [
      "WARNING: Logging before flag parsing goes to stderr.\n",
      "W0809 07:45:55.024355 139937469486976 deprecation_wrapper.py:119] From /usr/local/lib/python3.6/dist-packages/keras/backend/tensorflow_backend.py:74: The name tf.get_default_graph is deprecated. Please use tf.compat.v1.get_default_graph instead.\n",
      "\n",
      "W0809 07:45:55.029772 139937469486976 deprecation_wrapper.py:119] From /usr/local/lib/python3.6/dist-packages/keras/backend/tensorflow_backend.py:517: The name tf.placeholder is deprecated. Please use tf.compat.v1.placeholder instead.\n",
      "\n",
      "W0809 07:45:55.040839 139937469486976 deprecation_wrapper.py:119] From /usr/local/lib/python3.6/dist-packages/keras/backend/tensorflow_backend.py:4138: The name tf.random_uniform is deprecated. Please use tf.random.uniform instead.\n",
      "\n"
     ]
    },
    {
     "name": "stdout",
     "output_type": "stream",
     "text": [
      "_________________________________________________________________\n",
      "Layer (type)                 Output Shape              Param #   \n",
      "=================================================================\n",
      "dense_1 (Dense)              (None, 6)                 326112    \n",
      "_________________________________________________________________\n",
      "dense_2 (Dense)              (None, 6)                 42        \n",
      "=================================================================\n",
      "Total params: 326,154\n",
      "Trainable params: 326,154\n",
      "Non-trainable params: 0\n",
      "_________________________________________________________________\n"
     ]
    }
   ],
   "source": [
    "model = keras.Sequential()\n",
    "model.add(keras.layers.Dense(6, activation=tf.nn.relu, input_dim = X_train_tfidf.shape[1]))\n",
    "model.add(keras.layers.Dense(6, activation=tf.nn.sigmoid))\n",
    "\n",
    "model.summary()"
   ]
  },
  {
   "cell_type": "code",
   "execution_count": 10,
   "metadata": {
    "colab": {
     "base_uri": "https://localhost:8080/",
     "height": 158
    },
    "colab_type": "code",
    "id": "fzDEROmrDtTR",
    "outputId": "63eb9344-63cb-4614-c874-1698286b3ad8"
   },
   "outputs": [
    {
     "name": "stderr",
     "output_type": "stream",
     "text": [
      "W0809 07:45:56.712098 139937469486976 deprecation_wrapper.py:119] From /usr/local/lib/python3.6/dist-packages/keras/optimizers.py:790: The name tf.train.Optimizer is deprecated. Please use tf.compat.v1.train.Optimizer instead.\n",
      "\n",
      "W0809 07:45:56.733453 139937469486976 deprecation_wrapper.py:119] From /usr/local/lib/python3.6/dist-packages/keras/backend/tensorflow_backend.py:3376: The name tf.log is deprecated. Please use tf.math.log instead.\n",
      "\n",
      "W0809 07:45:56.737850 139937469486976 deprecation.py:323] From /usr/local/lib/python3.6/dist-packages/tensorflow/python/ops/nn_impl.py:180: add_dispatch_support.<locals>.wrapper (from tensorflow.python.ops.array_ops) is deprecated and will be removed in a future version.\n",
      "Instructions for updating:\n",
      "Use tf.where in 2.0, which has the same broadcast rule as np.where\n"
     ]
    }
   ],
   "source": [
    "model.compile(optimizer='adam', loss='binary_crossentropy', metrics=['acc'])"
   ]
  },
  {
   "cell_type": "code",
   "execution_count": 11,
   "metadata": {
    "colab": {
     "base_uri": "https://localhost:8080/",
     "height": 780
    },
    "colab_type": "code",
    "id": "E53MN02sDtj6",
    "outputId": "7d0e1ef2-4a2d-4201-ea61-1f93b064e4bf"
   },
   "outputs": [
    {
     "name": "stderr",
     "output_type": "stream",
     "text": [
      "W0809 07:46:00.501662 139937469486976 deprecation_wrapper.py:119] From /usr/local/lib/python3.6/dist-packages/keras/backend/tensorflow_backend.py:986: The name tf.assign_add is deprecated. Please use tf.compat.v1.assign_add instead.\n",
      "\n"
     ]
    },
    {
     "name": "stdout",
     "output_type": "stream",
     "text": [
      "Train on 111699 samples, validate on 31596 samples\n",
      "Epoch 1/20\n",
      "111699/111699 [==============================] - 43s 388us/step - loss: 0.5115 - acc: 0.9289 - val_loss: 0.3015 - val_acc: 0.9639\n",
      "Epoch 2/20\n",
      "111699/111699 [==============================] - 49s 437us/step - loss: 0.1965 - acc: 0.9663 - val_loss: 0.1357 - val_acc: 0.9687\n",
      "Epoch 3/20\n",
      "111699/111699 [==============================] - 50s 446us/step - loss: 0.1094 - acc: 0.9715 - val_loss: 0.0960 - val_acc: 0.9728\n",
      "Epoch 4/20\n",
      "111699/111699 [==============================] - 53s 479us/step - loss: 0.0830 - acc: 0.9755 - val_loss: 0.0805 - val_acc: 0.9761\n",
      "Epoch 5/20\n",
      "111699/111699 [==============================] - 65s 579us/step - loss: 0.0700 - acc: 0.9783 - val_loss: 0.0719 - val_acc: 0.9777\n",
      "Epoch 6/20\n",
      "111699/111699 [==============================] - 74s 666us/step - loss: 0.0620 - acc: 0.9800 - val_loss: 0.0667 - val_acc: 0.9786\n",
      "Epoch 7/20\n",
      "111699/111699 [==============================] - 94s 839us/step - loss: 0.0566 - acc: 0.9810 - val_loss: 0.0633 - val_acc: 0.9794\n",
      "Epoch 8/20\n",
      "111699/111699 [==============================] - 112s 999us/step - loss: 0.0526 - acc: 0.9819 - val_loss: 0.0613 - val_acc: 0.9796\n",
      "Epoch 9/20\n",
      "111699/111699 [==============================] - 106s 947us/step - loss: 0.0495 - acc: 0.9827 - val_loss: 0.0596 - val_acc: 0.9802\n",
      "Epoch 10/20\n",
      "111699/111699 [==============================] - 112s 1ms/step - loss: 0.0470 - acc: 0.9833 - val_loss: 0.0587 - val_acc: 0.9803\n",
      "Epoch 11/20\n",
      "111699/111699 [==============================] - 107s 956us/step - loss: 0.0449 - acc: 0.9838 - val_loss: 0.0580 - val_acc: 0.9805\n",
      "Epoch 12/20\n",
      "111699/111699 [==============================] - 108s 963us/step - loss: 0.0431 - acc: 0.9843 - val_loss: 0.0576 - val_acc: 0.9806\n",
      "Epoch 13/20\n",
      "111699/111699 [==============================] - 106s 950us/step - loss: 0.0415 - acc: 0.9848 - val_loss: 0.0574 - val_acc: 0.9806\n",
      "Epoch 14/20\n",
      "111699/111699 [==============================] - 105s 939us/step - loss: 0.0400 - acc: 0.9852 - val_loss: 0.0574 - val_acc: 0.9806\n",
      "Epoch 15/20\n",
      "111699/111699 [==============================] - 109s 975us/step - loss: 0.0387 - acc: 0.9856 - val_loss: 0.0574 - val_acc: 0.9805\n",
      "Epoch 16/20\n",
      "111699/111699 [==============================] - 110s 981us/step - loss: 0.0374 - acc: 0.9860 - val_loss: 0.0575 - val_acc: 0.9806\n",
      "Epoch 17/20\n",
      "111699/111699 [==============================] - 107s 961us/step - loss: 0.0362 - acc: 0.9864 - val_loss: 0.0576 - val_acc: 0.9805\n",
      "Epoch 18/20\n",
      "111699/111699 [==============================] - 109s 973us/step - loss: 0.0351 - acc: 0.9869 - val_loss: 0.0581 - val_acc: 0.9805\n",
      "Epoch 19/20\n",
      "111699/111699 [==============================] - 107s 961us/step - loss: 0.0341 - acc: 0.9872 - val_loss: 0.0583 - val_acc: 0.9804\n",
      "Epoch 20/20\n",
      "111699/111699 [==============================] - 108s 967us/step - loss: 0.0331 - acc: 0.9876 - val_loss: 0.0588 - val_acc: 0.9804\n"
     ]
    }
   ],
   "source": [
    "history = model.fit(X_train_tfidf, Y_train, epochs=20, batch_size=512, validation_data=(X_validation_tfidf, Y_validation), verbose=1)"
   ]
  },
  {
   "cell_type": "code",
   "execution_count": 0,
   "metadata": {
    "colab": {},
    "colab_type": "code",
    "id": "tO7-Dh5fDtq6"
   },
   "outputs": [],
   "source": []
  },
  {
   "cell_type": "code",
   "execution_count": 0,
   "metadata": {
    "colab": {},
    "colab_type": "code",
    "id": "2H5lwpT4Dt3u"
   },
   "outputs": [],
   "source": [
    "import matplotlib.pyplot as plt\n",
    "# plt.style.use('ggplot')\n",
    "\n",
    "def plotTrainingProcess(history):\n",
    "    # get parameter\n",
    "    trainAcc, valAcc, trainLoss, valLoss  = history.history['acc'], history.history['val_acc'], history.history['loss'], history.history['val_loss']\n",
    "    X_axis = range(1, len(trainAcc) + 1)\n",
    "\n",
    "    # plot accuracy\n",
    "    plt.figure(figsize=(12, 5))\n",
    "    plt.subplot(1, 2, 1)\n",
    "    plt.plot(X_axis, trainAcc, 'b', label='Training accuracy')\n",
    "    plt.plot(X_axis, valAcc, 'r', label='Validation accuracy')\n",
    "    plt.title('Training and validation accuracy')\n",
    "    plt.legend()\n",
    "    \n",
    "    # plot loss\n",
    "    plt.subplot(1, 2, 2)\n",
    "    plt.plot(X_axis, trainLoss, 'b', label='Training loss')\n",
    "    plt.plot(X_axis, valLoss, 'r', label='Validation loss')\n",
    "    plt.title('Training and validation loss')\n",
    "    plt.legend()"
   ]
  },
  {
   "cell_type": "code",
   "execution_count": 13,
   "metadata": {
    "colab": {
     "base_uri": "https://localhost:8080/",
     "height": 687
    },
    "colab_type": "code",
    "id": "vqUNAMLqDuAE",
    "outputId": "86302eb3-7c47-475d-9d1e-70c35ac1ac42"
   },
   "outputs": [
    {
     "data": {
      "image/png": "[encoded data removed]",
      "text/plain": [
       "<Figure size 1800x750 with 2 Axes>"
      ]
     },
     "metadata": {
      "tags": []
     },
     "output_type": "display_data"
    }
   ],
   "source": [
    "plotTrainingProcess(history)"
   ]
  },
  {
   "cell_type": "code",
   "execution_count": 0,
   "metadata": {
    "colab": {},
    "colab_type": "code",
    "id": "BAns11r6Dt-v"
   },
   "outputs": [],
   "source": []
  },
  {
   "cell_type": "code",
   "execution_count": 0,
   "metadata": {
    "colab": {},
    "colab_type": "code",
    "id": "wWfaXO49Dt8e"
   },
   "outputs": [],
   "source": []
  },
  {
   "cell_type": "code",
   "execution_count": 0,
   "metadata": {
    "colab": {},
    "colab_type": "code",
    "id": "zPBRNiFyDt7D"
   },
   "outputs": [],
   "source": []
  },
  {
   "cell_type": "code",
   "execution_count": 0,
   "metadata": {
    "colab": {},
    "colab_type": "code",
    "id": "7ETQ4-eQDt2G"
   },
   "outputs": [],
   "source": []
  }
 ],
 "metadata": {
  "accelerator": "GPU",
  "colab": {
   "collapsed_sections": [],
   "machine_shape": "hm",
   "name": "Toxic_Comment_Challenge_Part8_Neural_Network.ipynb",
   "provenance": [],
   "version": "0.3.2"
  },
  "kernelspec": {
   "display_name": "Python 3",
   "language": "python",
   "name": "python3"
  },
  "language_info": {
   "codemirror_mode": {
    "name": "ipython",
    "version": 3
   },
   "file_extension": ".py",
   "mimetype": "text/x-python",
   "name": "python",
   "nbconvert_exporter": "python",
   "pygments_lexer": "ipython3",
   "version": "3.7.2"
  }
 },
 "nbformat": 4,
 "nbformat_minor": 1
}
