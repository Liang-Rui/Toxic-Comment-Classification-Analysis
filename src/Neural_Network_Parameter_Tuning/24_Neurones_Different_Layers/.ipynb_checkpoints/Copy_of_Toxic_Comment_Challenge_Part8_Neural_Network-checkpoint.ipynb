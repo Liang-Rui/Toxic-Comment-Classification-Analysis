{
 "cells": [
  {
   "cell_type": "code",
   "execution_count": 20,
   "metadata": {
    "colab": {
     "base_uri": "https://localhost:8080/",
     "height": 35
    },
    "colab_type": "code",
    "id": "0YRIbWdC2T1W",
    "outputId": "68b310ca-3595-4f16-f61c-442129c5ec17"
   },
   "outputs": [
    {
     "name": "stdout",
     "output_type": "stream",
     "text": [
      "Drive already mounted at /content/drive; to attempt to forcibly remount, call drive.mount(\"/content/drive\", force_remount=True).\n"
     ]
    }
   ],
   "source": [
    "from google.colab import drive\n",
    "drive.mount('/content/drive')"
   ]
  },
  {
   "cell_type": "code",
   "execution_count": 21,
   "metadata": {
    "colab": {
     "base_uri": "https://localhost:8080/",
     "height": 35
    },
    "colab_type": "code",
    "id": "tIzTotfzAX39",
    "outputId": "928081e4-170c-4e93-ba68-dd4a11efab14"
   },
   "outputs": [
    {
     "data": {
      "text/plain": [
       "True"
      ]
     },
     "execution_count": 21,
     "metadata": {
      "tags": []
     },
     "output_type": "execute_result"
    }
   ],
   "source": [
    "import keras\n",
    "import tensorflow as tf\n",
    "from sklearn.feature_extraction.text import TfidfVectorizer\n",
    "from sklearn.model_selection import train_test_split\n",
    "import pandas as pd\n",
    "import numpy as np\n",
    "import matplotlib.pyplot as plt\n",
    "import seaborn as sns\n",
    "from sklearn.metrics import classification_report\n",
    "from sklearn.metrics import roc_curve, auc\n",
    "\n",
    "plt.rcParams['figure.dpi']= 150\n",
    "sns.set(style=\"whitegrid\")\n",
    "tf.test.is_gpu_available()"
   ]
  },
  {
   "cell_type": "code",
   "execution_count": 22,
   "metadata": {
    "colab": {
     "base_uri": "https://localhost:8080/",
     "height": 52
    },
    "colab_type": "code",
    "id": "sg2h76HtAX9i",
    "outputId": "4898ee9a-46ad-43aa-8865-2693c19d2505"
   },
   "outputs": [
    {
     "name": "stdout",
     "output_type": "stream",
     "text": [
      "train.shape:  (111699, 8)\n",
      "test.shape:  (16276, 8)\n"
     ]
    }
   ],
   "source": [
    "# Read cleaned training data\n",
    "data = pd.read_csv(\"drive/My Drive/Colab Notebooks/cleaned_train_data.csv\")\n",
    "\n",
    "# It is better to choose random_state=42\n",
    "# Split training data into 70% training data and 20% validation data, 10% test data\n",
    "train, testValidation = train_test_split(data, test_size=0.3, random_state=42, shuffle=True)\n",
    "test, validation = train_test_split(testValidation, test_size=0.66, random_state=42, shuffle=True)\n",
    "categories = ['toxic', 'severe_toxic', 'obscene', 'threat', 'insult', 'identity_hate']\n",
    "print(\"train.shape: \", train.shape)\n",
    "print(\"test.shape: \", test.shape)\n",
    "\n",
    "X_train = train.comment_text\n",
    "X_validation = validation.comment_text\n",
    "Y_train = train[categories]\n",
    "Y_validation = validation[categories]"
   ]
  },
  {
   "cell_type": "code",
   "execution_count": 23,
   "metadata": {
    "colab": {
     "base_uri": "https://localhost:8080/",
     "height": 198
    },
    "colab_type": "code",
    "id": "Dfu9U2dTAX7D",
    "outputId": "6f8806a0-8f09-4709-a405-a4ace10c998d"
   },
   "outputs": [
    {
     "data": {
      "text/html": [
       "<div>\n",
       "<style scoped>\n",
       "    .dataframe tbody tr th:only-of-type {\n",
       "        vertical-align: middle;\n",
       "    }\n",
       "\n",
       "    .dataframe tbody tr th {\n",
       "        vertical-align: top;\n",
       "    }\n",
       "\n",
       "    .dataframe thead th {\n",
       "        text-align: right;\n",
       "    }\n",
       "</style>\n",
       "<table border=\"1\" class=\"dataframe\">\n",
       "  <thead>\n",
       "    <tr style=\"text-align: right;\">\n",
       "      <th></th>\n",
       "      <th>id</th>\n",
       "      <th>comment_text</th>\n",
       "      <th>toxic</th>\n",
       "      <th>severe_toxic</th>\n",
       "      <th>obscene</th>\n",
       "      <th>threat</th>\n",
       "      <th>insult</th>\n",
       "      <th>identity_hate</th>\n",
       "    </tr>\n",
       "  </thead>\n",
       "  <tbody>\n",
       "    <tr>\n",
       "      <th>54568</th>\n",
       "      <td>91da4b4b95fe5e2d</td>\n",
       "      <td>conflict of interest note by your user name it...</td>\n",
       "      <td>0</td>\n",
       "      <td>0</td>\n",
       "      <td>0</td>\n",
       "      <td>0</td>\n",
       "      <td>0</td>\n",
       "      <td>0</td>\n",
       "    </tr>\n",
       "    <tr>\n",
       "      <th>3786</th>\n",
       "      <td>0a1df25805d6d2e7</td>\n",
       "      <td>update actually i changed this to something bl...</td>\n",
       "      <td>0</td>\n",
       "      <td>0</td>\n",
       "      <td>0</td>\n",
       "      <td>0</td>\n",
       "      <td>0</td>\n",
       "      <td>0</td>\n",
       "    </tr>\n",
       "    <tr>\n",
       "      <th>22938</th>\n",
       "      <td>3c9e75d2b8dcf720</td>\n",
       "      <td>mica article sniper thanks for your comments o...</td>\n",
       "      <td>0</td>\n",
       "      <td>0</td>\n",
       "      <td>0</td>\n",
       "      <td>0</td>\n",
       "      <td>0</td>\n",
       "      <td>0</td>\n",
       "    </tr>\n",
       "    <tr>\n",
       "      <th>137856</th>\n",
       "      <td>e1b03f4baf9d58ce</td>\n",
       "      <td>arguing that bart and cal train should get mor...</td>\n",
       "      <td>0</td>\n",
       "      <td>0</td>\n",
       "      <td>0</td>\n",
       "      <td>0</td>\n",
       "      <td>0</td>\n",
       "      <td>0</td>\n",
       "    </tr>\n",
       "    <tr>\n",
       "      <th>143038</th>\n",
       "      <td>fcdf5d299437f2a9</td>\n",
       "      <td>blocked i i blocked you for hours for being un...</td>\n",
       "      <td>0</td>\n",
       "      <td>0</td>\n",
       "      <td>0</td>\n",
       "      <td>0</td>\n",
       "      <td>0</td>\n",
       "      <td>0</td>\n",
       "    </tr>\n",
       "  </tbody>\n",
       "</table>\n",
       "</div>"
      ],
      "text/plain": [
       "                      id  ... identity_hate\n",
       "54568   91da4b4b95fe5e2d  ...             0\n",
       "3786    0a1df25805d6d2e7  ...             0\n",
       "22938   3c9e75d2b8dcf720  ...             0\n",
       "137856  e1b03f4baf9d58ce  ...             0\n",
       "143038  fcdf5d299437f2a9  ...             0\n",
       "\n",
       "[5 rows x 8 columns]"
      ]
     },
     "execution_count": 23,
     "metadata": {
      "tags": []
     },
     "output_type": "execute_result"
    }
   ],
   "source": [
    "train.head()"
   ]
  },
  {
   "cell_type": "code",
   "execution_count": 24,
   "metadata": {
    "colab": {
     "base_uri": "https://localhost:8080/",
     "height": 198
    },
    "colab_type": "code",
    "id": "XsXRjEEJDs-7",
    "outputId": "4ec51be2-014a-4a64-d501-db080f42a4f6"
   },
   "outputs": [
    {
     "data": {
      "text/html": [
       "<div>\n",
       "<style scoped>\n",
       "    .dataframe tbody tr th:only-of-type {\n",
       "        vertical-align: middle;\n",
       "    }\n",
       "\n",
       "    .dataframe tbody tr th {\n",
       "        vertical-align: top;\n",
       "    }\n",
       "\n",
       "    .dataframe thead th {\n",
       "        text-align: right;\n",
       "    }\n",
       "</style>\n",
       "<table border=\"1\" class=\"dataframe\">\n",
       "  <thead>\n",
       "    <tr style=\"text-align: right;\">\n",
       "      <th></th>\n",
       "      <th>id</th>\n",
       "      <th>comment_text</th>\n",
       "      <th>toxic</th>\n",
       "      <th>severe_toxic</th>\n",
       "      <th>obscene</th>\n",
       "      <th>threat</th>\n",
       "      <th>insult</th>\n",
       "      <th>identity_hate</th>\n",
       "    </tr>\n",
       "  </thead>\n",
       "  <tbody>\n",
       "    <tr>\n",
       "      <th>78198</th>\n",
       "      <td>d1502b14889b8405</td>\n",
       "      <td>the page is only about mind old expansion and ...</td>\n",
       "      <td>0</td>\n",
       "      <td>0</td>\n",
       "      <td>0</td>\n",
       "      <td>0</td>\n",
       "      <td>0</td>\n",
       "      <td>0</td>\n",
       "    </tr>\n",
       "    <tr>\n",
       "      <th>155782</th>\n",
       "      <td>c39dc4fd8a8feeea</td>\n",
       "      <td>okay that fair lets proceed at a without the i...</td>\n",
       "      <td>0</td>\n",
       "      <td>0</td>\n",
       "      <td>0</td>\n",
       "      <td>0</td>\n",
       "      <td>0</td>\n",
       "      <td>0</td>\n",
       "    </tr>\n",
       "    <tr>\n",
       "      <th>58845</th>\n",
       "      <td>9d99254e1f6d5078</td>\n",
       "      <td>rent a car hyderabad hours service cont us for...</td>\n",
       "      <td>0</td>\n",
       "      <td>0</td>\n",
       "      <td>0</td>\n",
       "      <td>0</td>\n",
       "      <td>0</td>\n",
       "      <td>0</td>\n",
       "    </tr>\n",
       "    <tr>\n",
       "      <th>51383</th>\n",
       "      <td>8976356d2888b47e</td>\n",
       "      <td>us sure two admins to convince is what have al...</td>\n",
       "      <td>0</td>\n",
       "      <td>0</td>\n",
       "      <td>0</td>\n",
       "      <td>0</td>\n",
       "      <td>0</td>\n",
       "      <td>0</td>\n",
       "    </tr>\n",
       "    <tr>\n",
       "      <th>149052</th>\n",
       "      <td>5662d02dba405e28</td>\n",
       "      <td>leave my damn user page talk page alone stop m...</td>\n",
       "      <td>1</td>\n",
       "      <td>0</td>\n",
       "      <td>0</td>\n",
       "      <td>0</td>\n",
       "      <td>0</td>\n",
       "      <td>0</td>\n",
       "    </tr>\n",
       "  </tbody>\n",
       "</table>\n",
       "</div>"
      ],
      "text/plain": [
       "                      id  ... identity_hate\n",
       "78198   d1502b14889b8405  ...             0\n",
       "155782  c39dc4fd8a8feeea  ...             0\n",
       "58845   9d99254e1f6d5078  ...             0\n",
       "51383   8976356d2888b47e  ...             0\n",
       "149052  5662d02dba405e28  ...             0\n",
       "\n",
       "[5 rows x 8 columns]"
      ]
     },
     "execution_count": 24,
     "metadata": {
      "tags": []
     },
     "output_type": "execute_result"
    }
   ],
   "source": [
    "validation.head()"
   ]
  },
  {
   "cell_type": "code",
   "execution_count": 25,
   "metadata": {
    "colab": {
     "base_uri": "https://localhost:8080/",
     "height": 52
    },
    "colab_type": "code",
    "id": "FvTDBzgxDtFn",
    "outputId": "b561cb04-a342-4784-9a89-cdb7cdebd75f"
   },
   "outputs": [
    {
     "name": "stdout",
     "output_type": "stream",
     "text": [
      "(111699, 54351)\n",
      "(31596, 54351)\n"
     ]
    }
   ],
   "source": [
    "tfidfVec = TfidfVectorizer(stop_words=\"english\")\n",
    "X_train_tfidf = tfidfVec.fit_transform(X_train)\n",
    "X_validation_tfidf = tfidfVec.transform(X_validation)\n",
    "print(X_train_tfidf.shape)\n",
    "print(X_validation_tfidf.shape)"
   ]
  },
  {
   "cell_type": "code",
   "execution_count": 26,
   "metadata": {
    "colab": {
     "base_uri": "https://localhost:8080/",
     "height": 242
    },
    "colab_type": "code",
    "id": "3vzjMgkWDtK8",
    "outputId": "2f1f8c2a-9da9-4814-f9e8-7d42e15d9ae7"
   },
   "outputs": [
    {
     "name": "stdout",
     "output_type": "stream",
     "text": [
      "_________________________________________________________________\n",
      "Layer (type)                 Output Shape              Param #   \n",
      "=================================================================\n",
      "dense_7 (Dense)              (None, 24)                1304448   \n",
      "_________________________________________________________________\n",
      "dense_8 (Dense)              (None, 24)                600       \n",
      "_________________________________________________________________\n",
      "dense_9 (Dense)              (None, 6)                 150       \n",
      "=================================================================\n",
      "Total params: 1,305,198\n",
      "Trainable params: 1,305,198\n",
      "Non-trainable params: 0\n",
      "_________________________________________________________________\n"
     ]
    }
   ],
   "source": [
    "model = keras.Sequential()\n",
    "model.add(keras.layers.Dense(24, activation=tf.nn.relu, input_dim = X_train_tfidf.shape[1]))\n",
    "model.add(keras.layers.Dense(24))\n",
    "model.add(keras.layers.Dense(6, activation=tf.nn.sigmoid))\n",
    "\n",
    "model.summary()"
   ]
  },
  {
   "cell_type": "code",
   "execution_count": 0,
   "metadata": {
    "colab": {},
    "colab_type": "code",
    "id": "fzDEROmrDtTR"
   },
   "outputs": [],
   "source": [
    "model.compile(optimizer='adam', loss='binary_crossentropy', metrics=['acc'])"
   ]
  },
  {
   "cell_type": "code",
   "execution_count": 28,
   "metadata": {
    "colab": {
     "base_uri": "https://localhost:8080/",
     "height": 725
    },
    "colab_type": "code",
    "id": "E53MN02sDtj6",
    "outputId": "733a76f5-e768-4179-decd-33c86d0ccafb"
   },
   "outputs": [
    {
     "name": "stdout",
     "output_type": "stream",
     "text": [
      "Train on 111699 samples, validate on 31596 samples\n",
      "Epoch 1/20\n",
      "111699/111699 [==============================] - 57s 513us/step - loss: 0.2321 - acc: 0.9621 - val_loss: 0.0848 - val_acc: 0.9725\n",
      "Epoch 2/20\n",
      "111699/111699 [==============================] - 90s 810us/step - loss: 0.0657 - acc: 0.9781 - val_loss: 0.0620 - val_acc: 0.9795\n",
      "Epoch 3/20\n",
      "111699/111699 [==============================] - 106s 950us/step - loss: 0.0502 - acc: 0.9821 - val_loss: 0.0583 - val_acc: 0.9805\n",
      "Epoch 4/20\n",
      "111699/111699 [==============================] - 108s 969us/step - loss: 0.0435 - acc: 0.9840 - val_loss: 0.0580 - val_acc: 0.9805\n",
      "Epoch 5/20\n",
      "111699/111699 [==============================] - 109s 979us/step - loss: 0.0381 - acc: 0.9858 - val_loss: 0.0582 - val_acc: 0.9805\n",
      "Epoch 6/20\n",
      "111699/111699 [==============================] - 107s 961us/step - loss: 0.0334 - acc: 0.9875 - val_loss: 0.0601 - val_acc: 0.9803\n",
      "Epoch 7/20\n",
      "111699/111699 [==============================] - 106s 948us/step - loss: 0.0295 - acc: 0.9890 - val_loss: 0.0633 - val_acc: 0.9801\n",
      "Epoch 8/20\n",
      "111699/111699 [==============================] - 106s 951us/step - loss: 0.0260 - acc: 0.9905 - val_loss: 0.0667 - val_acc: 0.9801\n",
      "Epoch 9/20\n",
      "111699/111699 [==============================] - 105s 939us/step - loss: 0.0230 - acc: 0.9917 - val_loss: 0.0699 - val_acc: 0.9794\n",
      "Epoch 10/20\n",
      "111699/111699 [==============================] - 106s 950us/step - loss: 0.0203 - acc: 0.9928 - val_loss: 0.0741 - val_acc: 0.9790\n",
      "Epoch 11/20\n",
      "111699/111699 [==============================] - 107s 958us/step - loss: 0.0180 - acc: 0.9938 - val_loss: 0.0798 - val_acc: 0.9790\n",
      "Epoch 12/20\n",
      "111699/111699 [==============================] - 107s 958us/step - loss: 0.0160 - acc: 0.9946 - val_loss: 0.0841 - val_acc: 0.9785\n",
      "Epoch 13/20\n",
      "111699/111699 [==============================] - 106s 952us/step - loss: 0.0143 - acc: 0.9953 - val_loss: 0.0906 - val_acc: 0.9784\n",
      "Epoch 14/20\n",
      "111699/111699 [==============================] - 107s 955us/step - loss: 0.0129 - acc: 0.9958 - val_loss: 0.0947 - val_acc: 0.9780\n",
      "Epoch 15/20\n",
      "111699/111699 [==============================] - 106s 945us/step - loss: 0.0116 - acc: 0.9963 - val_loss: 0.1012 - val_acc: 0.9778\n",
      "Epoch 16/20\n",
      "111699/111699 [==============================] - 108s 963us/step - loss: 0.0106 - acc: 0.9966 - val_loss: 0.1060 - val_acc: 0.9774\n",
      "Epoch 17/20\n",
      "111699/111699 [==============================] - 107s 956us/step - loss: 0.0097 - acc: 0.9969 - val_loss: 0.1115 - val_acc: 0.9774\n",
      "Epoch 18/20\n",
      "111699/111699 [==============================] - 107s 955us/step - loss: 0.0089 - acc: 0.9972 - val_loss: 0.1158 - val_acc: 0.9770\n",
      "Epoch 19/20\n",
      "111699/111699 [==============================] - 106s 948us/step - loss: 0.0082 - acc: 0.9974 - val_loss: 0.1203 - val_acc: 0.9767\n",
      "Epoch 20/20\n",
      "111699/111699 [==============================] - 103s 921us/step - loss: 0.0077 - acc: 0.9976 - val_loss: 0.1268 - val_acc: 0.9769\n"
     ]
    }
   ],
   "source": [
    "history = model.fit(X_train_tfidf, Y_train, epochs=20, batch_size=512, validation_data=(X_validation_tfidf, Y_validation), verbose=1)"
   ]
  },
  {
   "cell_type": "code",
   "execution_count": 0,
   "metadata": {
    "colab": {},
    "colab_type": "code",
    "id": "tO7-Dh5fDtq6"
   },
   "outputs": [],
   "source": []
  },
  {
   "cell_type": "code",
   "execution_count": 0,
   "metadata": {
    "colab": {},
    "colab_type": "code",
    "id": "2H5lwpT4Dt3u"
   },
   "outputs": [],
   "source": [
    "import matplotlib.pyplot as plt\n",
    "# plt.style.use('ggplot')\n",
    "\n",
    "def plotTrainingProcess(history):\n",
    "    # get parameter\n",
    "    trainAcc, valAcc, trainLoss, valLoss  = history.history['acc'], history.history['val_acc'], history.history['loss'], history.history['val_loss']\n",
    "    X_axis = range(1, len(trainAcc) + 1)\n",
    "\n",
    "    # plot accuracy\n",
    "    plt.figure(figsize=(12, 5))\n",
    "    plt.subplot(1, 2, 1)\n",
    "    plt.plot(X_axis, trainAcc, 'b', label='Training accuracy')\n",
    "    plt.plot(X_axis, valAcc, 'r', label='Validation accuracy')\n",
    "    plt.title('Training and validation accuracy')\n",
    "    plt.legend()\n",
    "    \n",
    "    # plot loss\n",
    "    plt.subplot(1, 2, 2)\n",
    "    plt.plot(X_axis, trainLoss, 'b', label='Training loss')\n",
    "    plt.plot(X_axis, valLoss, 'r', label='Validation loss')\n",
    "    plt.title('Training and validation loss')\n",
    "    plt.legend()"
   ]
  },
  {
   "cell_type": "code",
   "execution_count": 30,
   "metadata": {
    "colab": {
     "base_uri": "https://localhost:8080/",
     "height": 687
    },
    "colab_type": "code",
    "id": "vqUNAMLqDuAE",
    "outputId": "5d85c7d1-dd0b-4174-b6a3-11d7b68fd43a"
   },
   "outputs": [
    {
     "data": {
      "image/png": "[encoded data removed]",
      "text/plain": [
       "<Figure size 1800x750 with 2 Axes>"
      ]
     },
     "metadata": {
      "tags": []
     },
     "output_type": "display_data"
    }
   ],
   "source": [
    "plotTrainingProcess(history)"
   ]
  },
  {
   "cell_type": "code",
   "execution_count": 0,
   "metadata": {
    "colab": {},
    "colab_type": "code",
    "id": "BAns11r6Dt-v"
   },
   "outputs": [],
   "source": []
  },
  {
   "cell_type": "code",
   "execution_count": 0,
   "metadata": {
    "colab": {},
    "colab_type": "code",
    "id": "wWfaXO49Dt8e"
   },
   "outputs": [],
   "source": []
  },
  {
   "cell_type": "code",
   "execution_count": 0,
   "metadata": {
    "colab": {},
    "colab_type": "code",
    "id": "zPBRNiFyDt7D"
   },
   "outputs": [],
   "source": []
  },
  {
   "cell_type": "code",
   "execution_count": 0,
   "metadata": {
    "colab": {},
    "colab_type": "code",
    "id": "7ETQ4-eQDt2G"
   },
   "outputs": [],
   "source": []
  },
  {
   "cell_type": "code",
   "execution_count": 0,
   "metadata": {
    "colab": {},
    "colab_type": "code",
    "id": "3bGydjqzDtzy"
   },
   "outputs": [],
   "source": []
  },
  {
   "cell_type": "code",
   "execution_count": 0,
   "metadata": {
    "colab": {},
    "colab_type": "code",
    "id": "cLAIGI0uDtw9"
   },
   "outputs": [],
   "source": []
  },
  {
   "cell_type": "code",
   "execution_count": 0,
   "metadata": {
    "colab": {},
    "colab_type": "code",
    "id": "rrFdhVjdDtvV"
   },
   "outputs": [],
   "source": []
  },
  {
   "cell_type": "code",
   "execution_count": 0,
   "metadata": {
    "colab": {},
    "colab_type": "code",
    "id": "IeeylxXdDtuC"
   },
   "outputs": [],
   "source": []
  },
  {
   "cell_type": "code",
   "execution_count": 0,
   "metadata": {
    "colab": {},
    "colab_type": "code",
    "id": "qawYuVhVDtod"
   },
   "outputs": [],
   "source": []
  },
  {
   "cell_type": "code",
   "execution_count": 0,
   "metadata": {
    "colab": {},
    "colab_type": "code",
    "id": "08lFlps7DtnP"
   },
   "outputs": [],
   "source": []
  },
  {
   "cell_type": "code",
   "execution_count": 0,
   "metadata": {
    "colab": {},
    "colab_type": "code",
    "id": "fZU6KS8ZDtiA"
   },
   "outputs": [],
   "source": []
  },
  {
   "cell_type": "code",
   "execution_count": 0,
   "metadata": {
    "colab": {},
    "colab_type": "code",
    "id": "NjDRFIG8Dtfn"
   },
   "outputs": [],
   "source": []
  },
  {
   "cell_type": "code",
   "execution_count": 0,
   "metadata": {
    "colab": {},
    "colab_type": "code",
    "id": "vlpAOXoADtdx"
   },
   "outputs": [],
   "source": []
  },
  {
   "cell_type": "code",
   "execution_count": 0,
   "metadata": {
    "colab": {},
    "colab_type": "code",
    "id": "jOEKgGcGDtbn"
   },
   "outputs": [],
   "source": []
  },
  {
   "cell_type": "code",
   "execution_count": 0,
   "metadata": {
    "colab": {},
    "colab_type": "code",
    "id": "NtnEkiHmDtZ3"
   },
   "outputs": [],
   "source": []
  },
  {
   "cell_type": "code",
   "execution_count": 0,
   "metadata": {
    "colab": {},
    "colab_type": "code",
    "id": "Gg9Srt5_DtYt"
   },
   "outputs": [],
   "source": []
  },
  {
   "cell_type": "code",
   "execution_count": 0,
   "metadata": {
    "colab": {},
    "colab_type": "code",
    "id": "sRVtE-UiDtXD"
   },
   "outputs": [],
   "source": []
  },
  {
   "cell_type": "code",
   "execution_count": 0,
   "metadata": {
    "colab": {},
    "colab_type": "code",
    "id": "r5aiVrciDtRa"
   },
   "outputs": [],
   "source": []
  },
  {
   "cell_type": "code",
   "execution_count": 0,
   "metadata": {
    "colab": {},
    "colab_type": "code",
    "id": "QB6B4dt9DtPq"
   },
   "outputs": [],
   "source": []
  },
  {
   "cell_type": "code",
   "execution_count": 0,
   "metadata": {
    "colab": {},
    "colab_type": "code",
    "id": "ZgbE9SopDtNz"
   },
   "outputs": [],
   "source": []
  },
  {
   "cell_type": "code",
   "execution_count": 0,
   "metadata": {
    "colab": {},
    "colab_type": "code",
    "id": "CvVxKyF0DtEB"
   },
   "outputs": [],
   "source": []
  },
  {
   "cell_type": "code",
   "execution_count": 0,
   "metadata": {
    "colab": {},
    "colab_type": "code",
    "id": "vPc_U5OTDtBZ"
   },
   "outputs": [],
   "source": []
  }
 ],
 "metadata": {
  "accelerator": "GPU",
  "colab": {
   "collapsed_sections": [],
   "machine_shape": "hm",
   "name": "Copy of Toxic_Comment_Challenge_Part8_Neural_Network.ipynb",
   "provenance": [],
   "version": "0.3.2"
  },
  "kernelspec": {
   "display_name": "Python 3",
   "language": "python",
   "name": "python3"
  },
  "language_info": {
   "codemirror_mode": {
    "name": "ipython",
    "version": 3
   },
   "file_extension": ".py",
   "mimetype": "text/x-python",
   "name": "python",
   "nbconvert_exporter": "python",
   "pygments_lexer": "ipython3",
   "version": "3.7.2"
  }
 },
 "nbformat": 4,
 "nbformat_minor": 1
}
