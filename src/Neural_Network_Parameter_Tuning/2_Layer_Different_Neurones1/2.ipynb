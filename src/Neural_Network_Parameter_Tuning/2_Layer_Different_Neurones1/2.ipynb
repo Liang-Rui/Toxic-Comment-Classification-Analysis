{
  "nbformat": 4,
  "nbformat_minor": 0,
  "metadata": {
    "colab": {
      "name": "Copy of Toxic_Comment_Challenge_Part8_Neural_Network.ipynb",
      "version": "0.3.2",
      "provenance": [],
      "collapsed_sections": [],
      "machine_shape": "hm"
    },
    "kernelspec": {
      "name": "python3",
      "display_name": "Python 3"
    },
    "accelerator": "GPU"
  },
  "cells": [
    {
      "cell_type": "code",
      "metadata": {
        "id": "0YRIbWdC2T1W",
        "colab_type": "code",
        "outputId": "bc90b067-a523-40ae-ab5d-c683198aab71",
        "colab": {
          "base_uri": "https://localhost:8080/",
          "height": 35
        }
      },
      "source": [
        "from google.colab import drive\n",
        "drive.mount('/content/drive')"
      ],
      "execution_count": 31,
      "outputs": [
        {
          "output_type": "stream",
          "text": [
            "Drive already mounted at /content/drive; to attempt to forcibly remount, call drive.mount(\"/content/drive\", force_remount=True).\n"
          ],
          "name": "stdout"
        }
      ]
    },
    {
      "cell_type": "code",
      "metadata": {
        "id": "tIzTotfzAX39",
        "colab_type": "code",
        "outputId": "1bdc9707-4742-48fa-ff30-7b3194378963",
        "colab": {
          "base_uri": "https://localhost:8080/",
          "height": 35
        }
      },
      "source": [
        "import keras\n",
        "import tensorflow as tf\n",
        "from sklearn.feature_extraction.text import TfidfVectorizer\n",
        "from sklearn.model_selection import train_test_split\n",
        "import pandas as pd\n",
        "import numpy as np\n",
        "import matplotlib.pyplot as plt\n",
        "import seaborn as sns\n",
        "from sklearn.metrics import classification_report\n",
        "from sklearn.metrics import roc_curve, auc\n",
        "\n",
        "plt.rcParams['figure.dpi']= 150\n",
        "sns.set(style=\"whitegrid\")\n",
        "tf.test.is_gpu_available()"
      ],
      "execution_count": 32,
      "outputs": [
        {
          "output_type": "execute_result",
          "data": {
            "text/plain": [
              "True"
            ]
          },
          "metadata": {
            "tags": []
          },
          "execution_count": 32
        }
      ]
    },
    {
      "cell_type": "code",
      "metadata": {
        "id": "sg2h76HtAX9i",
        "colab_type": "code",
        "outputId": "37519845-6cd6-4aab-bee8-fbd8fbb5c289",
        "colab": {
          "base_uri": "https://localhost:8080/",
          "height": 52
        }
      },
      "source": [
        "# Read cleaned training data\n",
        "data = pd.read_csv(\"drive/My Drive/Colab Notebooks/cleaned_train_data.csv\")\n",
        "\n",
        "# It is better to choose random_state=42\n",
        "# Split training data into 70% training data and 20% validation data, 10% test data\n",
        "train, testValidation = train_test_split(data, test_size=0.3, random_state=42, shuffle=True)\n",
        "test, validation = train_test_split(testValidation, test_size=0.66, random_state=42, shuffle=True)\n",
        "categories = ['toxic', 'severe_toxic', 'obscene', 'threat', 'insult', 'identity_hate']\n",
        "print(\"train.shape: \", train.shape)\n",
        "print(\"test.shape: \", test.shape)\n",
        "\n",
        "X_train = train.comment_text\n",
        "X_validation = validation.comment_text\n",
        "Y_train = train[categories]\n",
        "Y_validation = validation[categories]"
      ],
      "execution_count": 33,
      "outputs": [
        {
          "output_type": "stream",
          "text": [
            "train.shape:  (111699, 8)\n",
            "test.shape:  (16276, 8)\n"
          ],
          "name": "stdout"
        }
      ]
    },
    {
      "cell_type": "code",
      "metadata": {
        "id": "Dfu9U2dTAX7D",
        "colab_type": "code",
        "outputId": "07c8b552-b6b0-41d0-f44a-0e9e22a7b4a0",
        "colab": {
          "base_uri": "https://localhost:8080/",
          "height": 198
        }
      },
      "source": [
        "train.head()"
      ],
      "execution_count": 34,
      "outputs": [
        {
          "output_type": "execute_result",
          "data": {
            "text/html": [
              "<div>\n",
              "<style scoped>\n",
              "    .dataframe tbody tr th:only-of-type {\n",
              "        vertical-align: middle;\n",
              "    }\n",
              "\n",
              "    .dataframe tbody tr th {\n",
              "        vertical-align: top;\n",
              "    }\n",
              "\n",
              "    .dataframe thead th {\n",
              "        text-align: right;\n",
              "    }\n",
              "</style>\n",
              "<table border=\"1\" class=\"dataframe\">\n",
              "  <thead>\n",
              "    <tr style=\"text-align: right;\">\n",
              "      <th></th>\n",
              "      <th>id</th>\n",
              "      <th>comment_text</th>\n",
              "      <th>toxic</th>\n",
              "      <th>severe_toxic</th>\n",
              "      <th>obscene</th>\n",
              "      <th>threat</th>\n",
              "      <th>insult</th>\n",
              "      <th>identity_hate</th>\n",
              "    </tr>\n",
              "  </thead>\n",
              "  <tbody>\n",
              "    <tr>\n",
              "      <th>54568</th>\n",
              "      <td>91da4b4b95fe5e2d</td>\n",
              "      <td>conflict of interest note by your user name it...</td>\n",
              "      <td>0</td>\n",
              "      <td>0</td>\n",
              "      <td>0</td>\n",
              "      <td>0</td>\n",
              "      <td>0</td>\n",
              "      <td>0</td>\n",
              "    </tr>\n",
              "    <tr>\n",
              "      <th>3786</th>\n",
              "      <td>0a1df25805d6d2e7</td>\n",
              "      <td>update actually i changed this to something bl...</td>\n",
              "      <td>0</td>\n",
              "      <td>0</td>\n",
              "      <td>0</td>\n",
              "      <td>0</td>\n",
              "      <td>0</td>\n",
              "      <td>0</td>\n",
              "    </tr>\n",
              "    <tr>\n",
              "      <th>22938</th>\n",
              "      <td>3c9e75d2b8dcf720</td>\n",
              "      <td>mica article sniper thanks for your comments o...</td>\n",
              "      <td>0</td>\n",
              "      <td>0</td>\n",
              "      <td>0</td>\n",
              "      <td>0</td>\n",
              "      <td>0</td>\n",
              "      <td>0</td>\n",
              "    </tr>\n",
              "    <tr>\n",
              "      <th>137856</th>\n",
              "      <td>e1b03f4baf9d58ce</td>\n",
              "      <td>arguing that bart and cal train should get mor...</td>\n",
              "      <td>0</td>\n",
              "      <td>0</td>\n",
              "      <td>0</td>\n",
              "      <td>0</td>\n",
              "      <td>0</td>\n",
              "      <td>0</td>\n",
              "    </tr>\n",
              "    <tr>\n",
              "      <th>143038</th>\n",
              "      <td>fcdf5d299437f2a9</td>\n",
              "      <td>blocked i i blocked you for hours for being un...</td>\n",
              "      <td>0</td>\n",
              "      <td>0</td>\n",
              "      <td>0</td>\n",
              "      <td>0</td>\n",
              "      <td>0</td>\n",
              "      <td>0</td>\n",
              "    </tr>\n",
              "  </tbody>\n",
              "</table>\n",
              "</div>"
            ],
            "text/plain": [
              "                      id  ... identity_hate\n",
              "54568   91da4b4b95fe5e2d  ...             0\n",
              "3786    0a1df25805d6d2e7  ...             0\n",
              "22938   3c9e75d2b8dcf720  ...             0\n",
              "137856  e1b03f4baf9d58ce  ...             0\n",
              "143038  fcdf5d299437f2a9  ...             0\n",
              "\n",
              "[5 rows x 8 columns]"
            ]
          },
          "metadata": {
            "tags": []
          },
          "execution_count": 34
        }
      ]
    },
    {
      "cell_type": "code",
      "metadata": {
        "id": "XsXRjEEJDs-7",
        "colab_type": "code",
        "outputId": "2278acce-4cf3-4b8e-8bf6-60484533cb39",
        "colab": {
          "base_uri": "https://localhost:8080/",
          "height": 198
        }
      },
      "source": [
        "validation.head()"
      ],
      "execution_count": 35,
      "outputs": [
        {
          "output_type": "execute_result",
          "data": {
            "text/html": [
              "<div>\n",
              "<style scoped>\n",
              "    .dataframe tbody tr th:only-of-type {\n",
              "        vertical-align: middle;\n",
              "    }\n",
              "\n",
              "    .dataframe tbody tr th {\n",
              "        vertical-align: top;\n",
              "    }\n",
              "\n",
              "    .dataframe thead th {\n",
              "        text-align: right;\n",
              "    }\n",
              "</style>\n",
              "<table border=\"1\" class=\"dataframe\">\n",
              "  <thead>\n",
              "    <tr style=\"text-align: right;\">\n",
              "      <th></th>\n",
              "      <th>id</th>\n",
              "      <th>comment_text</th>\n",
              "      <th>toxic</th>\n",
              "      <th>severe_toxic</th>\n",
              "      <th>obscene</th>\n",
              "      <th>threat</th>\n",
              "      <th>insult</th>\n",
              "      <th>identity_hate</th>\n",
              "    </tr>\n",
              "  </thead>\n",
              "  <tbody>\n",
              "    <tr>\n",
              "      <th>78198</th>\n",
              "      <td>d1502b14889b8405</td>\n",
              "      <td>the page is only about mind old expansion and ...</td>\n",
              "      <td>0</td>\n",
              "      <td>0</td>\n",
              "      <td>0</td>\n",
              "      <td>0</td>\n",
              "      <td>0</td>\n",
              "      <td>0</td>\n",
              "    </tr>\n",
              "    <tr>\n",
              "      <th>155782</th>\n",
              "      <td>c39dc4fd8a8feeea</td>\n",
              "      <td>okay that fair lets proceed at a without the i...</td>\n",
              "      <td>0</td>\n",
              "      <td>0</td>\n",
              "      <td>0</td>\n",
              "      <td>0</td>\n",
              "      <td>0</td>\n",
              "      <td>0</td>\n",
              "    </tr>\n",
              "    <tr>\n",
              "      <th>58845</th>\n",
              "      <td>9d99254e1f6d5078</td>\n",
              "      <td>rent a car hyderabad hours service cont us for...</td>\n",
              "      <td>0</td>\n",
              "      <td>0</td>\n",
              "      <td>0</td>\n",
              "      <td>0</td>\n",
              "      <td>0</td>\n",
              "      <td>0</td>\n",
              "    </tr>\n",
              "    <tr>\n",
              "      <th>51383</th>\n",
              "      <td>8976356d2888b47e</td>\n",
              "      <td>us sure two admins to convince is what have al...</td>\n",
              "      <td>0</td>\n",
              "      <td>0</td>\n",
              "      <td>0</td>\n",
              "      <td>0</td>\n",
              "      <td>0</td>\n",
              "      <td>0</td>\n",
              "    </tr>\n",
              "    <tr>\n",
              "      <th>149052</th>\n",
              "      <td>5662d02dba405e28</td>\n",
              "      <td>leave my damn user page talk page alone stop m...</td>\n",
              "      <td>1</td>\n",
              "      <td>0</td>\n",
              "      <td>0</td>\n",
              "      <td>0</td>\n",
              "      <td>0</td>\n",
              "      <td>0</td>\n",
              "    </tr>\n",
              "  </tbody>\n",
              "</table>\n",
              "</div>"
            ],
            "text/plain": [
              "                      id  ... identity_hate\n",
              "78198   d1502b14889b8405  ...             0\n",
              "155782  c39dc4fd8a8feeea  ...             0\n",
              "58845   9d99254e1f6d5078  ...             0\n",
              "51383   8976356d2888b47e  ...             0\n",
              "149052  5662d02dba405e28  ...             0\n",
              "\n",
              "[5 rows x 8 columns]"
            ]
          },
          "metadata": {
            "tags": []
          },
          "execution_count": 35
        }
      ]
    },
    {
      "cell_type": "code",
      "metadata": {
        "id": "FvTDBzgxDtFn",
        "colab_type": "code",
        "outputId": "75b09199-de73-4498-d5ef-4cabb2da2d57",
        "colab": {
          "base_uri": "https://localhost:8080/",
          "height": 52
        }
      },
      "source": [
        "tfidfVec = TfidfVectorizer(stop_words=\"english\")\n",
        "X_train_tfidf = tfidfVec.fit_transform(X_train)\n",
        "X_validation_tfidf = tfidfVec.transform(X_validation)\n",
        "print(X_train_tfidf.shape)\n",
        "print(X_validation_tfidf.shape)"
      ],
      "execution_count": 36,
      "outputs": [
        {
          "output_type": "stream",
          "text": [
            "(111699, 54351)\n",
            "(31596, 54351)\n"
          ],
          "name": "stdout"
        }
      ]
    },
    {
      "cell_type": "code",
      "metadata": {
        "id": "3vzjMgkWDtK8",
        "colab_type": "code",
        "outputId": "0b9e9157-e343-40ef-adde-b90ee31d81fe",
        "colab": {
          "base_uri": "https://localhost:8080/",
          "height": 207
        }
      },
      "source": [
        "model = keras.Sequential()\n",
        "model.add(keras.layers.Dense(30, activation=tf.nn.relu, input_dim = X_train_tfidf.shape[1]))\n",
        "model.add(keras.layers.Dense(6, activation=tf.nn.sigmoid))\n",
        "\n",
        "model.summary()"
      ],
      "execution_count": 37,
      "outputs": [
        {
          "output_type": "stream",
          "text": [
            "_________________________________________________________________\n",
            "Layer (type)                 Output Shape              Param #   \n",
            "=================================================================\n",
            "dense_10 (Dense)             (None, 30)                1630560   \n",
            "_________________________________________________________________\n",
            "dense_11 (Dense)             (None, 6)                 186       \n",
            "=================================================================\n",
            "Total params: 1,630,746\n",
            "Trainable params: 1,630,746\n",
            "Non-trainable params: 0\n",
            "_________________________________________________________________\n"
          ],
          "name": "stdout"
        }
      ]
    },
    {
      "cell_type": "code",
      "metadata": {
        "id": "fzDEROmrDtTR",
        "colab_type": "code",
        "colab": {}
      },
      "source": [
        "model.compile(optimizer='adam', loss='binary_crossentropy', metrics=['acc'])"
      ],
      "execution_count": 0,
      "outputs": []
    },
    {
      "cell_type": "code",
      "metadata": {
        "id": "E53MN02sDtj6",
        "colab_type": "code",
        "outputId": "8e6154c2-6262-4332-b823-f372cc81f938",
        "colab": {
          "base_uri": "https://localhost:8080/",
          "height": 725
        }
      },
      "source": [
        "history = model.fit(X_train_tfidf, Y_train, epochs=20, batch_size=512, validation_data=(X_validation_tfidf, Y_validation), verbose=1)"
      ],
      "execution_count": 39,
      "outputs": [
        {
          "output_type": "stream",
          "text": [
            "Train on 111699 samples, validate on 31596 samples\n",
            "Epoch 1/20\n",
            "111699/111699 [==============================] - 64s 574us/step - loss: 0.3689 - acc: 0.9516 - val_loss: 0.1373 - val_acc: 0.9678\n",
            "Epoch 2/20\n",
            "111699/111699 [==============================] - 103s 922us/step - loss: 0.0987 - acc: 0.9739 - val_loss: 0.0808 - val_acc: 0.9769\n",
            "Epoch 3/20\n",
            "111699/111699 [==============================] - 111s 992us/step - loss: 0.0674 - acc: 0.9797 - val_loss: 0.0671 - val_acc: 0.9792\n",
            "Epoch 4/20\n",
            "111699/111699 [==============================] - 106s 953us/step - loss: 0.0558 - acc: 0.9818 - val_loss: 0.0616 - val_acc: 0.9802\n",
            "Epoch 5/20\n",
            "111699/111699 [==============================] - 106s 953us/step - loss: 0.0490 - acc: 0.9832 - val_loss: 0.0590 - val_acc: 0.9805\n",
            "Epoch 6/20\n",
            "111699/111699 [==============================] - 108s 964us/step - loss: 0.0439 - acc: 0.9845 - val_loss: 0.0577 - val_acc: 0.9808\n",
            "Epoch 7/20\n",
            "111699/111699 [==============================] - 105s 936us/step - loss: 0.0400 - acc: 0.9856 - val_loss: 0.0572 - val_acc: 0.9809\n",
            "Epoch 8/20\n",
            "111699/111699 [==============================] - 106s 947us/step - loss: 0.0368 - acc: 0.9867 - val_loss: 0.0575 - val_acc: 0.9807\n",
            "Epoch 9/20\n",
            "111699/111699 [==============================] - 109s 972us/step - loss: 0.0341 - acc: 0.9876 - val_loss: 0.0582 - val_acc: 0.9805\n",
            "Epoch 10/20\n",
            "111699/111699 [==============================] - 105s 936us/step - loss: 0.0318 - acc: 0.9885 - val_loss: 0.0588 - val_acc: 0.9804\n",
            "Epoch 11/20\n",
            "111699/111699 [==============================] - 107s 956us/step - loss: 0.0297 - acc: 0.9893 - val_loss: 0.0597 - val_acc: 0.9804\n",
            "Epoch 12/20\n",
            "111699/111699 [==============================] - 107s 962us/step - loss: 0.0278 - acc: 0.9901 - val_loss: 0.0609 - val_acc: 0.9803\n",
            "Epoch 13/20\n",
            "111699/111699 [==============================] - 108s 968us/step - loss: 0.0258 - acc: 0.9908 - val_loss: 0.0621 - val_acc: 0.9802\n",
            "Epoch 14/20\n",
            "111699/111699 [==============================] - 108s 965us/step - loss: 0.0241 - acc: 0.9916 - val_loss: 0.0631 - val_acc: 0.9800\n",
            "Epoch 15/20\n",
            "111699/111699 [==============================] - 109s 977us/step - loss: 0.0225 - acc: 0.9923 - val_loss: 0.0649 - val_acc: 0.9799\n",
            "Epoch 16/20\n",
            "111699/111699 [==============================] - 109s 975us/step - loss: 0.0210 - acc: 0.9929 - val_loss: 0.0666 - val_acc: 0.9797\n",
            "Epoch 17/20\n",
            "111699/111699 [==============================] - 108s 966us/step - loss: 0.0197 - acc: 0.9934 - val_loss: 0.0686 - val_acc: 0.9797\n",
            "Epoch 18/20\n",
            "111699/111699 [==============================] - 106s 948us/step - loss: 0.0186 - acc: 0.9939 - val_loss: 0.0702 - val_acc: 0.9795\n",
            "Epoch 19/20\n",
            "111699/111699 [==============================] - 105s 942us/step - loss: 0.0176 - acc: 0.9944 - val_loss: 0.0724 - val_acc: 0.9794\n",
            "Epoch 20/20\n",
            "111699/111699 [==============================] - 108s 963us/step - loss: 0.0166 - acc: 0.9947 - val_loss: 0.0739 - val_acc: 0.9791\n"
          ],
          "name": "stdout"
        }
      ]
    },
    {
      "cell_type": "code",
      "metadata": {
        "id": "tO7-Dh5fDtq6",
        "colab_type": "code",
        "colab": {}
      },
      "source": [
        ""
      ],
      "execution_count": 0,
      "outputs": []
    },
    {
      "cell_type": "code",
      "metadata": {
        "id": "2H5lwpT4Dt3u",
        "colab_type": "code",
        "colab": {}
      },
      "source": [
        "import matplotlib.pyplot as plt\n",
        "# plt.style.use('ggplot')\n",
        "\n",
        "def plotTrainingProcess(history):\n",
        "    # get parameter\n",
        "    trainAcc, valAcc, trainLoss, valLoss  = history.history['acc'], history.history['val_acc'], history.history['loss'], history.history['val_loss']\n",
        "    X_axis = range(1, len(trainAcc) + 1)\n",
        "\n",
        "    # plot accuracy\n",
        "    plt.figure(figsize=(12, 5))\n",
        "    plt.subplot(1, 2, 1)\n",
        "    plt.plot(X_axis, trainAcc, 'b', label='Training accuracy')\n",
        "    plt.plot(X_axis, valAcc, 'r', label='Validation accuracy')\n",
        "    plt.title('Training and validation accuracy')\n",
        "    plt.legend()\n",
        "    \n",
        "    # plot loss\n",
        "    plt.subplot(1, 2, 2)\n",
        "    plt.plot(X_axis, trainLoss, 'b', label='Training loss')\n",
        "    plt.plot(X_axis, valLoss, 'r', label='Validation loss')\n",
        "    plt.title('Training and validation loss')\n",
        "    plt.legend()"
      ],
      "execution_count": 0,
      "outputs": []
    },
    {
      "cell_type": "code",
      "metadata": {
        "id": "vqUNAMLqDuAE",
        "colab_type": "code",
        "outputId": "8d5ecd1d-52c5-4fb6-dff4-58fbb46d634e",
        "colab": {
          "base_uri": "https://localhost:8080/",
          "height": 687
        }
      },
      "source": [
        "plotTrainingProcess(history)"
      ],
      "execution_count": 41,
      "outputs": [
        {
          "output_type": "display_data",
          "data": {
            "image/png": "[encoded data removed]",
            "text/plain": [
              "<Figure size 1800x750 with 2 Axes>"
            ]
          },
          "metadata": {
            "tags": []
          }
        }
      ]
    },
    {
      "cell_type": "code",
      "metadata": {
        "id": "BAns11r6Dt-v",
        "colab_type": "code",
        "colab": {}
      },
      "source": [
        ""
      ],
      "execution_count": 0,
      "outputs": []
    },
    {
      "cell_type": "code",
      "metadata": {
        "id": "wWfaXO49Dt8e",
        "colab_type": "code",
        "colab": {}
      },
      "source": [
        ""
      ],
      "execution_count": 0,
      "outputs": []
    },
    {
      "cell_type": "code",
      "metadata": {
        "id": "zPBRNiFyDt7D",
        "colab_type": "code",
        "colab": {}
      },
      "source": [
        ""
      ],
      "execution_count": 0,
      "outputs": []
    },
    {
      "cell_type": "code",
      "metadata": {
        "id": "7ETQ4-eQDt2G",
        "colab_type": "code",
        "colab": {}
      },
      "source": [
        ""
      ],
      "execution_count": 0,
      "outputs": []
    },
    {
      "cell_type": "code",
      "metadata": {
        "id": "3bGydjqzDtzy",
        "colab_type": "code",
        "colab": {}
      },
      "source": [
        ""
      ],
      "execution_count": 0,
      "outputs": []
    },
    {
      "cell_type": "code",
      "metadata": {
        "id": "cLAIGI0uDtw9",
        "colab_type": "code",
        "colab": {}
      },
      "source": [
        ""
      ],
      "execution_count": 0,
      "outputs": []
    },
    {
      "cell_type": "code",
      "metadata": {
        "id": "rrFdhVjdDtvV",
        "colab_type": "code",
        "colab": {}
      },
      "source": [
        ""
      ],
      "execution_count": 0,
      "outputs": []
    },
    {
      "cell_type": "code",
      "metadata": {
        "id": "IeeylxXdDtuC",
        "colab_type": "code",
        "colab": {}
      },
      "source": [
        ""
      ],
      "execution_count": 0,
      "outputs": []
    },
    {
      "cell_type": "code",
      "metadata": {
        "id": "qawYuVhVDtod",
        "colab_type": "code",
        "colab": {}
      },
      "source": [
        ""
      ],
      "execution_count": 0,
      "outputs": []
    },
    {
      "cell_type": "code",
      "metadata": {
        "id": "08lFlps7DtnP",
        "colab_type": "code",
        "colab": {}
      },
      "source": [
        ""
      ],
      "execution_count": 0,
      "outputs": []
    },
    {
      "cell_type": "code",
      "metadata": {
        "id": "fZU6KS8ZDtiA",
        "colab_type": "code",
        "colab": {}
      },
      "source": [
        ""
      ],
      "execution_count": 0,
      "outputs": []
    },
    {
      "cell_type": "code",
      "metadata": {
        "id": "NjDRFIG8Dtfn",
        "colab_type": "code",
        "colab": {}
      },
      "source": [
        ""
      ],
      "execution_count": 0,
      "outputs": []
    },
    {
      "cell_type": "code",
      "metadata": {
        "id": "vlpAOXoADtdx",
        "colab_type": "code",
        "colab": {}
      },
      "source": [
        ""
      ],
      "execution_count": 0,
      "outputs": []
    },
    {
      "cell_type": "code",
      "metadata": {
        "id": "jOEKgGcGDtbn",
        "colab_type": "code",
        "colab": {}
      },
      "source": [
        ""
      ],
      "execution_count": 0,
      "outputs": []
    },
    {
      "cell_type": "code",
      "metadata": {
        "id": "NtnEkiHmDtZ3",
        "colab_type": "code",
        "colab": {}
      },
      "source": [
        ""
      ],
      "execution_count": 0,
      "outputs": []
    },
    {
      "cell_type": "code",
      "metadata": {
        "id": "Gg9Srt5_DtYt",
        "colab_type": "code",
        "colab": {}
      },
      "source": [
        ""
      ],
      "execution_count": 0,
      "outputs": []
    },
    {
      "cell_type": "code",
      "metadata": {
        "id": "sRVtE-UiDtXD",
        "colab_type": "code",
        "colab": {}
      },
      "source": [
        ""
      ],
      "execution_count": 0,
      "outputs": []
    },
    {
      "cell_type": "code",
      "metadata": {
        "id": "r5aiVrciDtRa",
        "colab_type": "code",
        "colab": {}
      },
      "source": [
        ""
      ],
      "execution_count": 0,
      "outputs": []
    },
    {
      "cell_type": "code",
      "metadata": {
        "id": "QB6B4dt9DtPq",
        "colab_type": "code",
        "colab": {}
      },
      "source": [
        ""
      ],
      "execution_count": 0,
      "outputs": []
    },
    {
      "cell_type": "code",
      "metadata": {
        "id": "ZgbE9SopDtNz",
        "colab_type": "code",
        "colab": {}
      },
      "source": [
        ""
      ],
      "execution_count": 0,
      "outputs": []
    },
    {
      "cell_type": "code",
      "metadata": {
        "id": "CvVxKyF0DtEB",
        "colab_type": "code",
        "colab": {}
      },
      "source": [
        ""
      ],
      "execution_count": 0,
      "outputs": []
    },
    {
      "cell_type": "code",
      "metadata": {
        "id": "vPc_U5OTDtBZ",
        "colab_type": "code",
        "colab": {}
      },
      "source": [
        ""
      ],
      "execution_count": 0,
      "outputs": []
    }
  ]
}