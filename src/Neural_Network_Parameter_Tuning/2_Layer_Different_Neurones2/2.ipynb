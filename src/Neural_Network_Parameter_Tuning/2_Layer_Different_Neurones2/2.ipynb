{
  "nbformat": 4,
  "nbformat_minor": 0,
  "metadata": {
    "colab": {
      "name": "Copy of Toxic_Comment_Challenge_Part8_Neural_Network.ipynb",
      "version": "0.3.2",
      "provenance": [],
      "collapsed_sections": [],
      "machine_shape": "hm"
    },
    "kernelspec": {
      "name": "python3",
      "display_name": "Python 3"
    },
    "accelerator": "GPU"
  },
  "cells": [
    {
      "cell_type": "code",
      "metadata": {
        "id": "0YRIbWdC2T1W",
        "colab_type": "code",
        "outputId": "75125a57-fc0f-44ac-d371-c7775f6491bf",
        "colab": {
          "base_uri": "https://localhost:8080/",
          "height": 35
        }
      },
      "source": [
        "from google.colab import drive\n",
        "drive.mount('/content/drive')"
      ],
      "execution_count": 42,
      "outputs": [
        {
          "output_type": "stream",
          "text": [
            "Drive already mounted at /content/drive; to attempt to forcibly remount, call drive.mount(\"/content/drive\", force_remount=True).\n"
          ],
          "name": "stdout"
        }
      ]
    },
    {
      "cell_type": "code",
      "metadata": {
        "id": "tIzTotfzAX39",
        "colab_type": "code",
        "outputId": "b9112ef0-17d2-48ec-97a8-29fe579c36dc",
        "colab": {
          "base_uri": "https://localhost:8080/",
          "height": 35
        }
      },
      "source": [
        "import keras\n",
        "import tensorflow as tf\n",
        "from sklearn.feature_extraction.text import TfidfVectorizer\n",
        "from sklearn.model_selection import train_test_split\n",
        "import pandas as pd\n",
        "import numpy as np\n",
        "import matplotlib.pyplot as plt\n",
        "import seaborn as sns\n",
        "from sklearn.metrics import classification_report\n",
        "from sklearn.metrics import roc_curve, auc\n",
        "\n",
        "plt.rcParams['figure.dpi']= 150\n",
        "sns.set(style=\"whitegrid\")\n",
        "tf.test.is_gpu_available()"
      ],
      "execution_count": 43,
      "outputs": [
        {
          "output_type": "execute_result",
          "data": {
            "text/plain": [
              "True"
            ]
          },
          "metadata": {
            "tags": []
          },
          "execution_count": 43
        }
      ]
    },
    {
      "cell_type": "code",
      "metadata": {
        "id": "sg2h76HtAX9i",
        "colab_type": "code",
        "outputId": "dd38b72a-d277-4962-ded5-6371c5c8cca5",
        "colab": {
          "base_uri": "https://localhost:8080/",
          "height": 52
        }
      },
      "source": [
        "# Read cleaned training data\n",
        "data = pd.read_csv(\"drive/My Drive/Colab Notebooks/cleaned_train_data.csv\")\n",
        "\n",
        "# It is better to choose random_state=42\n",
        "# Split training data into 70% training data and 20% validation data, 10% test data\n",
        "train, testValidation = train_test_split(data, test_size=0.3, random_state=42, shuffle=True)\n",
        "test, validation = train_test_split(testValidation, test_size=0.66, random_state=42, shuffle=True)\n",
        "categories = ['toxic', 'severe_toxic', 'obscene', 'threat', 'insult', 'identity_hate']\n",
        "print(\"train.shape: \", train.shape)\n",
        "print(\"test.shape: \", test.shape)\n",
        "\n",
        "X_train = train.comment_text\n",
        "X_validation = validation.comment_text\n",
        "Y_train = train[categories]\n",
        "Y_validation = validation[categories]"
      ],
      "execution_count": 44,
      "outputs": [
        {
          "output_type": "stream",
          "text": [
            "train.shape:  (111699, 8)\n",
            "test.shape:  (16276, 8)\n"
          ],
          "name": "stdout"
        }
      ]
    },
    {
      "cell_type": "code",
      "metadata": {
        "id": "Dfu9U2dTAX7D",
        "colab_type": "code",
        "outputId": "107743ab-222b-486f-961b-3f7f06c9b9b2",
        "colab": {
          "base_uri": "https://localhost:8080/",
          "height": 198
        }
      },
      "source": [
        "train.head()"
      ],
      "execution_count": 45,
      "outputs": [
        {
          "output_type": "execute_result",
          "data": {
            "text/html": [
              "<div>\n",
              "<style scoped>\n",
              "    .dataframe tbody tr th:only-of-type {\n",
              "        vertical-align: middle;\n",
              "    }\n",
              "\n",
              "    .dataframe tbody tr th {\n",
              "        vertical-align: top;\n",
              "    }\n",
              "\n",
              "    .dataframe thead th {\n",
              "        text-align: right;\n",
              "    }\n",
              "</style>\n",
              "<table border=\"1\" class=\"dataframe\">\n",
              "  <thead>\n",
              "    <tr style=\"text-align: right;\">\n",
              "      <th></th>\n",
              "      <th>id</th>\n",
              "      <th>comment_text</th>\n",
              "      <th>toxic</th>\n",
              "      <th>severe_toxic</th>\n",
              "      <th>obscene</th>\n",
              "      <th>threat</th>\n",
              "      <th>insult</th>\n",
              "      <th>identity_hate</th>\n",
              "    </tr>\n",
              "  </thead>\n",
              "  <tbody>\n",
              "    <tr>\n",
              "      <th>54568</th>\n",
              "      <td>91da4b4b95fe5e2d</td>\n",
              "      <td>conflict of interest note by your user name it...</td>\n",
              "      <td>0</td>\n",
              "      <td>0</td>\n",
              "      <td>0</td>\n",
              "      <td>0</td>\n",
              "      <td>0</td>\n",
              "      <td>0</td>\n",
              "    </tr>\n",
              "    <tr>\n",
              "      <th>3786</th>\n",
              "      <td>0a1df25805d6d2e7</td>\n",
              "      <td>update actually i changed this to something bl...</td>\n",
              "      <td>0</td>\n",
              "      <td>0</td>\n",
              "      <td>0</td>\n",
              "      <td>0</td>\n",
              "      <td>0</td>\n",
              "      <td>0</td>\n",
              "    </tr>\n",
              "    <tr>\n",
              "      <th>22938</th>\n",
              "      <td>3c9e75d2b8dcf720</td>\n",
              "      <td>mica article sniper thanks for your comments o...</td>\n",
              "      <td>0</td>\n",
              "      <td>0</td>\n",
              "      <td>0</td>\n",
              "      <td>0</td>\n",
              "      <td>0</td>\n",
              "      <td>0</td>\n",
              "    </tr>\n",
              "    <tr>\n",
              "      <th>137856</th>\n",
              "      <td>e1b03f4baf9d58ce</td>\n",
              "      <td>arguing that bart and cal train should get mor...</td>\n",
              "      <td>0</td>\n",
              "      <td>0</td>\n",
              "      <td>0</td>\n",
              "      <td>0</td>\n",
              "      <td>0</td>\n",
              "      <td>0</td>\n",
              "    </tr>\n",
              "    <tr>\n",
              "      <th>143038</th>\n",
              "      <td>fcdf5d299437f2a9</td>\n",
              "      <td>blocked i i blocked you for hours for being un...</td>\n",
              "      <td>0</td>\n",
              "      <td>0</td>\n",
              "      <td>0</td>\n",
              "      <td>0</td>\n",
              "      <td>0</td>\n",
              "      <td>0</td>\n",
              "    </tr>\n",
              "  </tbody>\n",
              "</table>\n",
              "</div>"
            ],
            "text/plain": [
              "                      id  ... identity_hate\n",
              "54568   91da4b4b95fe5e2d  ...             0\n",
              "3786    0a1df25805d6d2e7  ...             0\n",
              "22938   3c9e75d2b8dcf720  ...             0\n",
              "137856  e1b03f4baf9d58ce  ...             0\n",
              "143038  fcdf5d299437f2a9  ...             0\n",
              "\n",
              "[5 rows x 8 columns]"
            ]
          },
          "metadata": {
            "tags": []
          },
          "execution_count": 45
        }
      ]
    },
    {
      "cell_type": "code",
      "metadata": {
        "id": "XsXRjEEJDs-7",
        "colab_type": "code",
        "outputId": "b9341564-a55d-43c0-f881-8ea43fb3a686",
        "colab": {
          "base_uri": "https://localhost:8080/",
          "height": 198
        }
      },
      "source": [
        "validation.head()"
      ],
      "execution_count": 46,
      "outputs": [
        {
          "output_type": "execute_result",
          "data": {
            "text/html": [
              "<div>\n",
              "<style scoped>\n",
              "    .dataframe tbody tr th:only-of-type {\n",
              "        vertical-align: middle;\n",
              "    }\n",
              "\n",
              "    .dataframe tbody tr th {\n",
              "        vertical-align: top;\n",
              "    }\n",
              "\n",
              "    .dataframe thead th {\n",
              "        text-align: right;\n",
              "    }\n",
              "</style>\n",
              "<table border=\"1\" class=\"dataframe\">\n",
              "  <thead>\n",
              "    <tr style=\"text-align: right;\">\n",
              "      <th></th>\n",
              "      <th>id</th>\n",
              "      <th>comment_text</th>\n",
              "      <th>toxic</th>\n",
              "      <th>severe_toxic</th>\n",
              "      <th>obscene</th>\n",
              "      <th>threat</th>\n",
              "      <th>insult</th>\n",
              "      <th>identity_hate</th>\n",
              "    </tr>\n",
              "  </thead>\n",
              "  <tbody>\n",
              "    <tr>\n",
              "      <th>78198</th>\n",
              "      <td>d1502b14889b8405</td>\n",
              "      <td>the page is only about mind old expansion and ...</td>\n",
              "      <td>0</td>\n",
              "      <td>0</td>\n",
              "      <td>0</td>\n",
              "      <td>0</td>\n",
              "      <td>0</td>\n",
              "      <td>0</td>\n",
              "    </tr>\n",
              "    <tr>\n",
              "      <th>155782</th>\n",
              "      <td>c39dc4fd8a8feeea</td>\n",
              "      <td>okay that fair lets proceed at a without the i...</td>\n",
              "      <td>0</td>\n",
              "      <td>0</td>\n",
              "      <td>0</td>\n",
              "      <td>0</td>\n",
              "      <td>0</td>\n",
              "      <td>0</td>\n",
              "    </tr>\n",
              "    <tr>\n",
              "      <th>58845</th>\n",
              "      <td>9d99254e1f6d5078</td>\n",
              "      <td>rent a car hyderabad hours service cont us for...</td>\n",
              "      <td>0</td>\n",
              "      <td>0</td>\n",
              "      <td>0</td>\n",
              "      <td>0</td>\n",
              "      <td>0</td>\n",
              "      <td>0</td>\n",
              "    </tr>\n",
              "    <tr>\n",
              "      <th>51383</th>\n",
              "      <td>8976356d2888b47e</td>\n",
              "      <td>us sure two admins to convince is what have al...</td>\n",
              "      <td>0</td>\n",
              "      <td>0</td>\n",
              "      <td>0</td>\n",
              "      <td>0</td>\n",
              "      <td>0</td>\n",
              "      <td>0</td>\n",
              "    </tr>\n",
              "    <tr>\n",
              "      <th>149052</th>\n",
              "      <td>5662d02dba405e28</td>\n",
              "      <td>leave my damn user page talk page alone stop m...</td>\n",
              "      <td>1</td>\n",
              "      <td>0</td>\n",
              "      <td>0</td>\n",
              "      <td>0</td>\n",
              "      <td>0</td>\n",
              "      <td>0</td>\n",
              "    </tr>\n",
              "  </tbody>\n",
              "</table>\n",
              "</div>"
            ],
            "text/plain": [
              "                      id  ... identity_hate\n",
              "78198   d1502b14889b8405  ...             0\n",
              "155782  c39dc4fd8a8feeea  ...             0\n",
              "58845   9d99254e1f6d5078  ...             0\n",
              "51383   8976356d2888b47e  ...             0\n",
              "149052  5662d02dba405e28  ...             0\n",
              "\n",
              "[5 rows x 8 columns]"
            ]
          },
          "metadata": {
            "tags": []
          },
          "execution_count": 46
        }
      ]
    },
    {
      "cell_type": "code",
      "metadata": {
        "id": "FvTDBzgxDtFn",
        "colab_type": "code",
        "outputId": "7ffa862e-4117-4d42-872f-74a3ffac87cf",
        "colab": {
          "base_uri": "https://localhost:8080/",
          "height": 52
        }
      },
      "source": [
        "tfidfVec = TfidfVectorizer(stop_words=\"english\")\n",
        "X_train_tfidf = tfidfVec.fit_transform(X_train)\n",
        "X_validation_tfidf = tfidfVec.transform(X_validation)\n",
        "print(X_train_tfidf.shape)\n",
        "print(X_validation_tfidf.shape)"
      ],
      "execution_count": 47,
      "outputs": [
        {
          "output_type": "stream",
          "text": [
            "(111699, 54351)\n",
            "(31596, 54351)\n"
          ],
          "name": "stdout"
        }
      ]
    },
    {
      "cell_type": "code",
      "metadata": {
        "id": "3vzjMgkWDtK8",
        "colab_type": "code",
        "outputId": "93cca50e-f8d3-41f7-97bd-475bc2446623",
        "colab": {
          "base_uri": "https://localhost:8080/",
          "height": 207
        }
      },
      "source": [
        "model = keras.Sequential()\n",
        "model.add(keras.layers.Dense(72, activation=tf.nn.relu, input_dim = X_train_tfidf.shape[1]))\n",
        "model.add(keras.layers.Dense(6, activation=tf.nn.sigmoid))\n",
        "\n",
        "model.summary()"
      ],
      "execution_count": 48,
      "outputs": [
        {
          "output_type": "stream",
          "text": [
            "_________________________________________________________________\n",
            "Layer (type)                 Output Shape              Param #   \n",
            "=================================================================\n",
            "dense_12 (Dense)             (None, 72)                3913344   \n",
            "_________________________________________________________________\n",
            "dense_13 (Dense)             (None, 6)                 438       \n",
            "=================================================================\n",
            "Total params: 3,913,782\n",
            "Trainable params: 3,913,782\n",
            "Non-trainable params: 0\n",
            "_________________________________________________________________\n"
          ],
          "name": "stdout"
        }
      ]
    },
    {
      "cell_type": "code",
      "metadata": {
        "id": "fzDEROmrDtTR",
        "colab_type": "code",
        "colab": {}
      },
      "source": [
        "model.compile(optimizer='adam', loss='binary_crossentropy', metrics=['acc'])"
      ],
      "execution_count": 0,
      "outputs": []
    },
    {
      "cell_type": "code",
      "metadata": {
        "id": "E53MN02sDtj6",
        "colab_type": "code",
        "outputId": "382eada4-5016-4924-efca-bac6cdc8d709",
        "colab": {
          "base_uri": "https://localhost:8080/",
          "height": 725
        }
      },
      "source": [
        "history = model.fit(X_train_tfidf, Y_train, epochs=20, batch_size=512, validation_data=(X_validation_tfidf, Y_validation), verbose=1)"
      ],
      "execution_count": 50,
      "outputs": [
        {
          "output_type": "stream",
          "text": [
            "Train on 111699 samples, validate on 31596 samples\n",
            "Epoch 1/20\n",
            "111699/111699 [==============================] - 69s 622us/step - loss: 0.2627 - acc: 0.9619 - val_loss: 0.0975 - val_acc: 0.9715\n",
            "Epoch 2/20\n",
            "111699/111699 [==============================] - 109s 974us/step - loss: 0.0750 - acc: 0.9772 - val_loss: 0.0673 - val_acc: 0.9790\n",
            "Epoch 3/20\n",
            "111699/111699 [==============================] - 110s 987us/step - loss: 0.0554 - acc: 0.9815 - val_loss: 0.0596 - val_acc: 0.9804\n",
            "Epoch 4/20\n",
            "111699/111699 [==============================] - 109s 975us/step - loss: 0.0465 - acc: 0.9837 - val_loss: 0.0569 - val_acc: 0.9809\n",
            "Epoch 5/20\n",
            "111699/111699 [==============================] - 110s 987us/step - loss: 0.0403 - acc: 0.9854 - val_loss: 0.0561 - val_acc: 0.9811\n",
            "Epoch 6/20\n",
            "111699/111699 [==============================] - 108s 970us/step - loss: 0.0354 - acc: 0.9870 - val_loss: 0.0559 - val_acc: 0.9810\n",
            "Epoch 7/20\n",
            "111699/111699 [==============================] - 111s 993us/step - loss: 0.0314 - acc: 0.9884 - val_loss: 0.0565 - val_acc: 0.9809\n",
            "Epoch 8/20\n",
            "111699/111699 [==============================] - 106s 951us/step - loss: 0.0281 - acc: 0.9898 - val_loss: 0.0578 - val_acc: 0.9809\n",
            "Epoch 9/20\n",
            "111699/111699 [==============================] - 106s 953us/step - loss: 0.0253 - acc: 0.9910 - val_loss: 0.0594 - val_acc: 0.9807\n",
            "Epoch 10/20\n",
            "111699/111699 [==============================] - 112s 1ms/step - loss: 0.0230 - acc: 0.9920 - val_loss: 0.0616 - val_acc: 0.9805\n",
            "Epoch 11/20\n",
            "111699/111699 [==============================] - 107s 956us/step - loss: 0.0211 - acc: 0.9928 - val_loss: 0.0634 - val_acc: 0.9804\n",
            "Epoch 12/20\n",
            "111699/111699 [==============================] - 107s 961us/step - loss: 0.0194 - acc: 0.9935 - val_loss: 0.0660 - val_acc: 0.9801\n",
            "Epoch 13/20\n",
            "111699/111699 [==============================] - 109s 974us/step - loss: 0.0179 - acc: 0.9941 - val_loss: 0.0679 - val_acc: 0.9800\n",
            "Epoch 14/20\n",
            "111699/111699 [==============================] - 105s 942us/step - loss: 0.0166 - acc: 0.9947 - val_loss: 0.0699 - val_acc: 0.9797\n",
            "Epoch 15/20\n",
            "111699/111699 [==============================] - 107s 954us/step - loss: 0.0155 - acc: 0.9950 - val_loss: 0.0728 - val_acc: 0.9795\n",
            "Epoch 16/20\n",
            "111699/111699 [==============================] - 107s 954us/step - loss: 0.0145 - acc: 0.9954 - val_loss: 0.0749 - val_acc: 0.9793\n",
            "Epoch 17/20\n",
            "111699/111699 [==============================] - 108s 964us/step - loss: 0.0136 - acc: 0.9958 - val_loss: 0.0774 - val_acc: 0.9791\n",
            "Epoch 18/20\n",
            "111699/111699 [==============================] - 109s 975us/step - loss: 0.0127 - acc: 0.9961 - val_loss: 0.0795 - val_acc: 0.9789\n",
            "Epoch 19/20\n",
            "111699/111699 [==============================] - 110s 985us/step - loss: 0.0120 - acc: 0.9964 - val_loss: 0.0823 - val_acc: 0.9787\n",
            "Epoch 20/20\n",
            "111699/111699 [==============================] - 105s 940us/step - loss: 0.0113 - acc: 0.9966 - val_loss: 0.0851 - val_acc: 0.9785\n"
          ],
          "name": "stdout"
        }
      ]
    },
    {
      "cell_type": "code",
      "metadata": {
        "id": "tO7-Dh5fDtq6",
        "colab_type": "code",
        "colab": {}
      },
      "source": [
        ""
      ],
      "execution_count": 0,
      "outputs": []
    },
    {
      "cell_type": "code",
      "metadata": {
        "id": "2H5lwpT4Dt3u",
        "colab_type": "code",
        "colab": {}
      },
      "source": [
        "import matplotlib.pyplot as plt\n",
        "# plt.style.use('ggplot')\n",
        "\n",
        "def plotTrainingProcess(history):\n",
        "    # get parameter\n",
        "    trainAcc, valAcc, trainLoss, valLoss  = history.history['acc'], history.history['val_acc'], history.history['loss'], history.history['val_loss']\n",
        "    X_axis = range(1, len(trainAcc) + 1)\n",
        "\n",
        "    # plot accuracy\n",
        "    plt.figure(figsize=(12, 5))\n",
        "    plt.subplot(1, 2, 1)\n",
        "    plt.plot(X_axis, trainAcc, 'b', label='Training accuracy')\n",
        "    plt.plot(X_axis, valAcc, 'r', label='Validation accuracy')\n",
        "    plt.title('Training and validation accuracy')\n",
        "    plt.legend()\n",
        "    \n",
        "    # plot loss\n",
        "    plt.subplot(1, 2, 2)\n",
        "    plt.plot(X_axis, trainLoss, 'b', label='Training loss')\n",
        "    plt.plot(X_axis, valLoss, 'r', label='Validation loss')\n",
        "    plt.title('Training and validation loss')\n",
        "    plt.legend()"
      ],
      "execution_count": 0,
      "outputs": []
    },
    {
      "cell_type": "code",
      "metadata": {
        "id": "vqUNAMLqDuAE",
        "colab_type": "code",
        "outputId": "e6cf6951-6797-4faa-b7c3-5d0d5562ff3a",
        "colab": {
          "base_uri": "https://localhost:8080/",
          "height": 687
        }
      },
      "source": [
        "plotTrainingProcess(history)"
      ],
      "execution_count": 52,
      "outputs": [
        {
          "output_type": "display_data",
          "data": {
            "image/png": "[encoded data removed]",
            "text/plain": [
              "<Figure size 1800x750 with 2 Axes>"
            ]
          },
          "metadata": {
            "tags": []
          }
        }
      ]
    },
    {
      "cell_type": "code",
      "metadata": {
        "id": "BAns11r6Dt-v",
        "colab_type": "code",
        "colab": {}
      },
      "source": [
        ""
      ],
      "execution_count": 0,
      "outputs": []
    },
    {
      "cell_type": "code",
      "metadata": {
        "id": "wWfaXO49Dt8e",
        "colab_type": "code",
        "colab": {}
      },
      "source": [
        ""
      ],
      "execution_count": 0,
      "outputs": []
    },
    {
      "cell_type": "code",
      "metadata": {
        "id": "zPBRNiFyDt7D",
        "colab_type": "code",
        "colab": {}
      },
      "source": [
        ""
      ],
      "execution_count": 0,
      "outputs": []
    },
    {
      "cell_type": "code",
      "metadata": {
        "id": "7ETQ4-eQDt2G",
        "colab_type": "code",
        "colab": {}
      },
      "source": [
        ""
      ],
      "execution_count": 0,
      "outputs": []
    },
    {
      "cell_type": "code",
      "metadata": {
        "id": "3bGydjqzDtzy",
        "colab_type": "code",
        "colab": {}
      },
      "source": [
        ""
      ],
      "execution_count": 0,
      "outputs": []
    },
    {
      "cell_type": "code",
      "metadata": {
        "id": "cLAIGI0uDtw9",
        "colab_type": "code",
        "colab": {}
      },
      "source": [
        ""
      ],
      "execution_count": 0,
      "outputs": []
    },
    {
      "cell_type": "code",
      "metadata": {
        "id": "rrFdhVjdDtvV",
        "colab_type": "code",
        "colab": {}
      },
      "source": [
        ""
      ],
      "execution_count": 0,
      "outputs": []
    },
    {
      "cell_type": "code",
      "metadata": {
        "id": "IeeylxXdDtuC",
        "colab_type": "code",
        "colab": {}
      },
      "source": [
        ""
      ],
      "execution_count": 0,
      "outputs": []
    },
    {
      "cell_type": "code",
      "metadata": {
        "id": "qawYuVhVDtod",
        "colab_type": "code",
        "colab": {}
      },
      "source": [
        ""
      ],
      "execution_count": 0,
      "outputs": []
    },
    {
      "cell_type": "code",
      "metadata": {
        "id": "08lFlps7DtnP",
        "colab_type": "code",
        "colab": {}
      },
      "source": [
        ""
      ],
      "execution_count": 0,
      "outputs": []
    },
    {
      "cell_type": "code",
      "metadata": {
        "id": "fZU6KS8ZDtiA",
        "colab_type": "code",
        "colab": {}
      },
      "source": [
        ""
      ],
      "execution_count": 0,
      "outputs": []
    },
    {
      "cell_type": "code",
      "metadata": {
        "id": "NjDRFIG8Dtfn",
        "colab_type": "code",
        "colab": {}
      },
      "source": [
        ""
      ],
      "execution_count": 0,
      "outputs": []
    },
    {
      "cell_type": "code",
      "metadata": {
        "id": "vlpAOXoADtdx",
        "colab_type": "code",
        "colab": {}
      },
      "source": [
        ""
      ],
      "execution_count": 0,
      "outputs": []
    },
    {
      "cell_type": "code",
      "metadata": {
        "id": "jOEKgGcGDtbn",
        "colab_type": "code",
        "colab": {}
      },
      "source": [
        ""
      ],
      "execution_count": 0,
      "outputs": []
    },
    {
      "cell_type": "code",
      "metadata": {
        "id": "NtnEkiHmDtZ3",
        "colab_type": "code",
        "colab": {}
      },
      "source": [
        ""
      ],
      "execution_count": 0,
      "outputs": []
    },
    {
      "cell_type": "code",
      "metadata": {
        "id": "Gg9Srt5_DtYt",
        "colab_type": "code",
        "colab": {}
      },
      "source": [
        ""
      ],
      "execution_count": 0,
      "outputs": []
    },
    {
      "cell_type": "code",
      "metadata": {
        "id": "sRVtE-UiDtXD",
        "colab_type": "code",
        "colab": {}
      },
      "source": [
        ""
      ],
      "execution_count": 0,
      "outputs": []
    },
    {
      "cell_type": "code",
      "metadata": {
        "id": "r5aiVrciDtRa",
        "colab_type": "code",
        "colab": {}
      },
      "source": [
        ""
      ],
      "execution_count": 0,
      "outputs": []
    },
    {
      "cell_type": "code",
      "metadata": {
        "id": "QB6B4dt9DtPq",
        "colab_type": "code",
        "colab": {}
      },
      "source": [
        ""
      ],
      "execution_count": 0,
      "outputs": []
    },
    {
      "cell_type": "code",
      "metadata": {
        "id": "ZgbE9SopDtNz",
        "colab_type": "code",
        "colab": {}
      },
      "source": [
        ""
      ],
      "execution_count": 0,
      "outputs": []
    },
    {
      "cell_type": "code",
      "metadata": {
        "id": "CvVxKyF0DtEB",
        "colab_type": "code",
        "colab": {}
      },
      "source": [
        ""
      ],
      "execution_count": 0,
      "outputs": []
    },
    {
      "cell_type": "code",
      "metadata": {
        "id": "vPc_U5OTDtBZ",
        "colab_type": "code",
        "colab": {}
      },
      "source": [
        ""
      ],
      "execution_count": 0,
      "outputs": []
    }
  ]
}